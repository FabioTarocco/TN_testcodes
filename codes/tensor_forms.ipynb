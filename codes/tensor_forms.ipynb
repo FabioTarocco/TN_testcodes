{
 "cells": [
  {
   "cell_type": "code",
   "execution_count": 18,
   "metadata": {},
   "outputs": [],
   "source": [
    "import numpy as np\n"
   ]
  },
  {
   "cell_type": "code",
   "execution_count": 19,
   "metadata": {},
   "outputs": [
    {
     "name": "stdout",
     "output_type": "stream",
     "text": [
      "(2, 8)\n",
      "[[1 0 0 0]\n",
      " [0 1 0 0]\n",
      " [0 0 0 1]\n",
      " [0 0 1 0]]\n"
     ]
    }
   ],
   "source": [
    "\"\"\"Se voglio convertire qualsiasi tensore in matrice, semplicemente devo usare un np.reshape(tensore, newshape=[(a1*...*an),(b1*...*bn)])\n",
    "            dove a1,...,an,b1,...,bn sono tutti gli indici del tensore e si differiscono in quelli che formano le righe(a) e le colonne(b)\"\"\"\n",
    "\n",
    "\n",
    "a = [[1,0,0,0,0,1,0,0],\n",
    "     [0,0,0,1,0,0,1,0]]\n",
    "\n",
    "print(np.shape(a))\n",
    "b = np.reshape(a, newshape=[4,4])\n",
    "print(b)"
   ]
  },
  {
   "cell_type": "code",
   "execution_count": 20,
   "metadata": {},
   "outputs": [
    {
     "name": "stdout",
     "output_type": "stream",
     "text": [
      "(4, 4)\n",
      "(2, 2, 2, 2)\n",
      "[[[[1 0]\n",
      "   [0 0]]\n",
      "\n",
      "  [[0 1]\n",
      "   [0 0]]]\n",
      "\n",
      "\n",
      " [[[0 0]\n",
      "   [0 1]]\n",
      "\n",
      "  [[0 0]\n",
      "   [1 0]]]]\n"
     ]
    }
   ],
   "source": [
    "\n",
    "\n",
    "CNOT= [[1,0,0,0],\n",
    "     [0,1,0,0],\n",
    "     [0,0,0,1],\n",
    "     [0,0,1,0]]\n",
    "\n",
    "print(np.shape(CNOT))\n",
    "CNOT_tensor = np.reshape(CNOT, newshape=[2,2,2,2])\n",
    "print(np.shape(CNOT_tensor))\n",
    "print(CNOT_tensor)\n"
   ]
  },
  {
   "cell_type": "code",
   "execution_count": 29,
   "metadata": {},
   "outputs": [],
   "source": [
    "_0_ket = np.array([[1.0],[0.0]])\n",
    "_1_ket = np.array([[0.],[1.]])\n"
   ]
  },
  {
   "cell_type": "code",
   "execution_count": 30,
   "metadata": {},
   "outputs": [
    {
     "name": "stdout",
     "output_type": "stream",
     "text": [
      "[ 0  1  2  3  4  5  6  7  8  9 10 11 12 13 14 15]\n",
      "[[ 0  1  2  3]\n",
      " [ 4  5  6  7]\n",
      " [ 8  9 10 11]\n",
      " [12 13 14 15]]\n",
      "5\n",
      "5\n"
     ]
    }
   ],
   "source": [
    "\"per accedere all'elemento (x,y) di una matrice convertita in tensore rank-1, lo snippet di codice è questo\"\n",
    "vector = np.arange(16, dtype=int)\n",
    "shape = (4, 4)\n",
    "idxs = (1, 1)\n",
    "matrix = vector.reshape(shape)\n",
    "elemento = vector[idxs[0] + shape[0]*idxs[1]]\n",
    "\n",
    "print(vector)\n",
    "print(matrix)\n",
    "print(elemento)\n",
    "print(matrix[idxs[0],idxs[1]])"
   ]
  },
  {
   "cell_type": "code",
   "execution_count": 23,
   "metadata": {},
   "outputs": [],
   "source": [
    "\"\"\"Snippet di codice per fare la stessa cosa sopra, ma quando invece ho convertito un tensore rank-n in un tensore rank-1\"\"\"\n",
    "\n",
    "shape = (2, 3, 4)\n",
    "idxs = (1, 0, 0)\n",
    "vector = np.arange(np.prod(shape))\n",
    "\n",
    "\n",
    "shape = np.array(shape)\n",
    "idxs = np.array(idxs)\n",
    "cumulative_sum = np.cumprod(shape[::-1])\n",
    "rev_idx = idxs[::-1]\n",
    "int_idx= rev_idx[0] + (rev_idx[1:]*cumulative_sum[:-1]).sum()"
   ]
  },
  {
   "cell_type": "code",
   "execution_count": 35,
   "metadata": {},
   "outputs": [
    {
     "name": "stdout",
     "output_type": "stream",
     "text": [
      "[[0.]\n",
      " [0.]\n",
      " [0.]\n",
      " [0.]\n",
      " [0.]\n",
      " [0.]\n",
      " [0.]\n",
      " [0.]\n",
      " [0.]\n",
      " [0.]\n",
      " [0.]\n",
      " [0.]\n",
      " [0.]\n",
      " [0.]\n",
      " [0.]\n",
      " [1.]]\n",
      "[[0. 0. 0. 0. 0. 0. 0. 0.]\n",
      " [0. 0. 0. 0. 0. 0. 0. 1.]]\n"
     ]
    }
   ],
   "source": [
    "_1111 = np.kron(_1_ket, np.kron(_1_ket, np.kron(_1_ket, _1_ket)))\n",
    "print(_1111)\n",
    "_1111_2d = np.reshape(_1111, [2,8])\n",
    "print(_1111_2d)"
   ]
  },
  {
   "cell_type": "code",
   "execution_count": 128,
   "metadata": {},
   "outputs": [
    {
     "data": {
      "text/plain": [
       "[array([[0., 1.],\n",
       "        [1., 0.]]),\n",
       " array([[1., 0.],\n",
       "        [0., 1.]]),\n",
       " array([[1., 0.],\n",
       "        [0., 1.]]),\n",
       " array([[1., 0.],\n",
       "        [0., 1.]])]"
      ]
     },
     "execution_count": 128,
     "metadata": {},
     "output_type": "execute_result"
    }
   ],
   "source": [
    "u,s,v = np.linalg.svd(_1111_2d, full_matrices= False)\n",
    "identity = np.identity(len(s))\n",
    "for i in range (len(s)):\n",
    "    identity[i][i] = s[i]\n",
    "s_matrix = identity\n",
    "\n",
    "list_mps = [u]\n",
    "u_1,s_1,v_1 = np.linalg.svd(s_matrix@v, full_matrices= False)\n",
    "identity = np.identity(len(s_1))\n",
    "for i in range (len(s_1)):\n",
    "    identity[i][i] = s[i]\n",
    "s_matrix_1 = identity\n",
    "list_mps.append(u_1)\n",
    "\n",
    "u_2,s_2,v_2 = np.linalg.svd(s_matrix_1@v_1, full_matrices= False)\n",
    "identity = np.identity(len(s_2))\n",
    "for i in range (len(s_2)):\n",
    "    identity[i][i] = s[i]\n",
    "s_matrix_2 = identity\n",
    "list_mps.append(u_2)\n",
    "\n",
    "u_3,s_3,v_3 = np.linalg.svd(s_matrix_2@v_2, full_matrices= False)\n",
    "identity = np.identity(len(s_3))\n",
    "for i in range (len(s_3)):\n",
    "    identity[i][i] = s[i]\n",
    "s_matrix_3 = identity\n",
    "list_mps.append(u_3)\n",
    "\n",
    "list_mps\n"
   ]
  },
  {
   "cell_type": "code",
   "execution_count": 26,
   "metadata": {},
   "outputs": [
    {
     "data": {
      "text/plain": [
       "10"
      ]
     },
     "execution_count": 26,
     "metadata": {},
     "output_type": "execute_result"
    }
   ],
   "source": [
    "test_16 = np.arange(16)\n",
    "test_16=test_16.reshape([4,4])\n",
    "test_16_2 = test_16.reshape([2]*4)\n",
    "\n",
    "test_16[2,2]\n",
    "test_16_2[1,0,1,0]"
   ]
  },
  {
   "cell_type": "code",
   "execution_count": 27,
   "metadata": {},
   "outputs": [
    {
     "data": {
      "text/plain": [
       "array([[[1, 2],\n",
       "        [3, 4],\n",
       "        [5, 6]],\n",
       "\n",
       "       [[1, 1],\n",
       "        [1, 1],\n",
       "        [1, 1]]])"
      ]
     },
     "execution_count": 27,
     "metadata": {},
     "output_type": "execute_result"
    }
   ],
   "source": [
    "K = [1,2,3,4,5,6,1,1,1,1,1,1]\n",
    "K_ = np.reshape(K, [2,2,3])\n",
    "\n",
    "K__ = np.reshape(K_,[2,3,2])\n",
    "\n",
    "K__"
   ]
  },
  {
   "cell_type": "code",
   "execution_count": null,
   "metadata": {},
   "outputs": [],
   "source": [
    "\n"
   ]
  },
  {
   "cell_type": "code",
   "execution_count": 4,
   "metadata": {},
   "outputs": [
    {
     "ename": "NameError",
     "evalue": "name 'np' is not defined",
     "output_type": "error",
     "traceback": [
      "\u001b[1;31m---------------------------------------------------------------------------\u001b[0m",
      "\u001b[1;31mNameError\u001b[0m                                 Traceback (most recent call last)",
      "\u001b[1;32mc:\\Users\\fabio\\Documents\\PHD\\Dottorato\\TN\\test.ipynb Cell 12\u001b[0m in \u001b[0;36m4\n\u001b[0;32m      <a href='vscode-notebook-cell:/c%3A/Users/fabio/Documents/PHD/Dottorato/TN/test.ipynb#X14sZmlsZQ%3D%3D?line=1'>2</a>\u001b[0m \u001b[39mfrom\u001b[39;00m \u001b[39mqiskit\u001b[39;00m \u001b[39mimport\u001b[39;00m quantum_info \u001b[39mas\u001b[39;00m qi\n\u001b[0;32m      <a href='vscode-notebook-cell:/c%3A/Users/fabio/Documents/PHD/Dottorato/TN/test.ipynb#X14sZmlsZQ%3D%3D?line=2'>3</a>\u001b[0m \u001b[39mfrom\u001b[39;00m \u001b[39mqiskit\u001b[39;00m\u001b[39m.\u001b[39;00m\u001b[39mvisualization\u001b[39;00m \u001b[39mimport\u001b[39;00m array_to_latex\n\u001b[1;32m----> <a href='vscode-notebook-cell:/c%3A/Users/fabio/Documents/PHD/Dottorato/TN/test.ipynb#X14sZmlsZQ%3D%3D?line=3'>4</a>\u001b[0m _3 \u001b[39m=\u001b[39m qi\u001b[39m.\u001b[39mStatevector([\u001b[39m1\u001b[39m\u001b[39m/\u001b[39mnp\u001b[39m.\u001b[39msqrt(\u001b[39m3\u001b[39m), \u001b[39m0.\u001b[39m, \u001b[39m1\u001b[39m\u001b[39m/\u001b[39mnp\u001b[39m.\u001b[39msqrt(\u001b[39m3\u001b[39m), \u001b[39m1\u001b[39m\u001b[39m/\u001b[39mnp\u001b[39m.\u001b[39msqrt(\u001b[39m3\u001b[39m)])\n\u001b[0;32m      <a href='vscode-notebook-cell:/c%3A/Users/fabio/Documents/PHD/Dottorato/TN/test.ipynb#X14sZmlsZQ%3D%3D?line=4'>5</a>\u001b[0m qAB \u001b[39m=\u001b[39m QuantumCircuit(\u001b[39m2\u001b[39m)\n\u001b[0;32m      <a href='vscode-notebook-cell:/c%3A/Users/fabio/Documents/PHD/Dottorato/TN/test.ipynb#X14sZmlsZQ%3D%3D?line=5'>6</a>\u001b[0m qAB\u001b[39m.\u001b[39minitialize(_3)\n",
      "\u001b[1;31mNameError\u001b[0m: name 'np' is not defined"
     ]
    }
   ],
   "source": [
    "\n",
    "from qiskit import * \n",
    "from qiskit import quantum_info as qi\n",
    "from qiskit.visualization import array_to_latex\n",
    "_3 = qi.Statevector([1/np.sqrt(3), 0., 1/np.sqrt(3), 1/np.sqrt(3)])\n",
    "qAB = QuantumCircuit(2)\n",
    "qAB.initialize(_3)\n",
    "\n",
    "rhoAB = qi.DensityMatrix(_3)\n",
    "\n",
    "array_to_latex(rhoAB)\n",
    "\n",
    "rhoA = qi.partial_trace(rhoAB, [1])\n",
    "\n",
    "array_to_latex(rhoA)"
   ]
  },
  {
   "cell_type": "code",
   "execution_count": null,
   "metadata": {},
   "outputs": [
    {
     "data": {
      "text/plain": [
       "(array([1.87740910e-17+0.j, 1.00000000e+00+0.j, 8.82857093e-33+0.j,\n",
       "        0.00000000e+00+0.j]),\n",
       " array([[ 8.16496581e-01+0.j,  5.77350269e-01+0.j, -2.67905433e-16+0.j,\n",
       "          0.00000000e+00+0.j],\n",
       "        [-0.00000000e+00+0.j, -0.00000000e+00+0.j,  0.00000000e+00+0.j,\n",
       "          1.00000000e+00+0.j],\n",
       "        [-4.08248290e-01+0.j,  5.77350269e-01-0.j,  7.07106781e-01+0.j,\n",
       "          0.00000000e+00+0.j],\n",
       "        [-4.08248290e-01+0.j,  5.77350269e-01-0.j, -7.07106781e-01+0.j,\n",
       "          0.00000000e+00+0.j]]))"
      ]
     },
     "execution_count": 52,
     "metadata": {},
     "output_type": "execute_result"
    }
   ],
   "source": [
    "np.linalg.eig(rhoAB)"
   ]
  },
  {
   "cell_type": "code",
   "execution_count": null,
   "metadata": {},
   "outputs": [
    {
     "name": "stdout",
     "output_type": "stream",
     "text": [
      "[2. 0. 0. 0. 0. 0. 0. 2.]\n"
     ]
    }
   ],
   "source": [
    "N_Q = 3\n",
    "tens = np.zeros(2**N_Q)\n",
    "\n",
    "tens[[0,-1]] = 2\n",
    "print(tens)"
   ]
  },
  {
   "cell_type": "code",
   "execution_count": 116,
   "metadata": {},
   "outputs": [],
   "source": [
    "A = np.arange(30).reshape([3,5,2])\n",
    "B = np.arange(6).reshape([3,2])\n",
    "G = np.arange(5)"
   ]
  },
  {
   "cell_type": "code",
   "execution_count": 119,
   "metadata": {},
   "outputs": [
    {
     "data": {
      "text/plain": [
       "array([[0, 1],\n",
       "       [2, 3],\n",
       "       [4, 5]])"
      ]
     },
     "execution_count": 119,
     "metadata": {},
     "output_type": "execute_result"
    }
   ],
   "source": [
    "B"
   ]
  },
  {
   "attachments": {},
   "cell_type": "markdown",
   "metadata": {},
   "source": [
    "TUTORIAL TENSOR.NET"
   ]
  },
  {
   "cell_type": "code",
   "execution_count": 5,
   "metadata": {},
   "outputs": [],
   "source": [
    "import numpy as np"
   ]
  },
  {
   "cell_type": "code",
   "execution_count": 58,
   "metadata": {},
   "outputs": [],
   "source": [
    "A = np.random.rand(2,3,4,5)\n",
    "B = np.random.rand(3,4,2,5)\n",
    "A_0213 = A.transpose(0,2,1,3)\n",
    "B_0321 = B.transpose(0,3,2,1)"
   ]
  },
  {
   "cell_type": "code",
   "execution_count": 68,
   "metadata": {},
   "outputs": [],
   "source": [
    "A_ij = A_0213.reshape(2*4, 3*5)\n",
    "B_ij = B_0321.reshape(3*5, 2*4)\n",
    "C_ij = A_ij@B_ij\n",
    "C = C_ij.reshape(2,4,2,4)"
   ]
  },
  {
   "attachments": {},
   "cell_type": "markdown",
   "metadata": {},
   "source": [
    "Meglio andare ad eseguire le contrazioni con il comando @ o tensordot, piuttosto che andare ad eseguire una serie di somme sugli indici, che poi risulterebbero in una serie di for annidati"
   ]
  },
  {
   "cell_type": "code",
   "execution_count": 72,
   "metadata": {},
   "outputs": [
    {
     "name": "stdout",
     "output_type": "stream",
     "text": [
      "[[17.76539088 13.41038571 12.2945548  15.81057254 14.66648513 11.64904046\n",
      "  18.46586007 19.33870321 16.24748368 13.29869009]\n",
      " [11.69900977  8.54711392  8.13890268 10.5950828   9.68315611  7.75282772\n",
      "  12.19659432 12.84518639 10.4381981   8.84387734]\n",
      " [16.84988134 12.49633989 11.95752308 14.77821223 13.88596632 11.69012527\n",
      "  17.72101073 18.2693206  15.19640546 12.83384126]\n",
      " [10.85571425  8.28267592  7.58461461  9.84699207  9.45582491  7.39124823\n",
      "  11.3837358  12.36226693 10.28716105  7.98098392]\n",
      " [16.35664622 12.08499595 11.10306348 14.62204049 13.36559605 10.6333165\n",
      "  16.99103903 17.81976007 14.87596986 12.21996415]\n",
      " [19.41035436 14.85324369 13.85238454 17.54867481 16.48781101 13.41987474\n",
      "  20.51648446 21.86018568 18.04215749 14.56216757]\n",
      " [18.45962646 13.69321712 13.140461   16.36667747 15.13351774 12.61930771\n",
      "  19.24168257 19.64679523 16.44319332 14.06051698]\n",
      " [19.36556565 14.0455696  13.33717928 17.23951308 16.33162111 12.94484821\n",
      "  20.23538573 21.25446724 17.7183027  14.45186583]\n",
      " [12.2418305   8.85641825  8.1954886  10.89162999 10.01365559  7.89490054\n",
      "  12.55386399 13.03905158 10.78689265  9.22366407]\n",
      " [13.63524049  9.76367869  9.06260131 12.06215594 11.31463439  8.6947412\n",
      "  14.22621797 15.1272881  12.43964215 10.18989643]]\n"
     ]
    }
   ],
   "source": [
    "d = 10\n",
    "A = np.random.rand(d,d)\n",
    "B = np.random.rand(d,d)\n",
    "C = np.random.rand(d,d)\n",
    "F1 = (A @ B) @ C"
   ]
  },
  {
   "cell_type": "code",
   "execution_count": 74,
   "metadata": {},
   "outputs": [],
   "source": [
    "d1 = 10\n",
    "d2 = 6\n",
    "A = np.random.rand(d1,d2)\n",
    "[U,S,Vh] = np.linalg.svd(A, full_matrices=False)\n",
    "\n"
   ]
  },
  {
   "cell_type": "code",
   "execution_count": 78,
   "metadata": {},
   "outputs": [],
   "source": [
    "Af = U@np.diag(S)@Vh\n",
    "dA = np.linalg.norm(Af - A)"
   ]
  },
  {
   "cell_type": "code",
   "execution_count": 79,
   "metadata": {},
   "outputs": [
    {
     "data": {
      "text/plain": [
       "4.070501190470282e-15"
      ]
     },
     "execution_count": 79,
     "metadata": {},
     "output_type": "execute_result"
    }
   ],
   "source": []
  },
  {
   "cell_type": "code",
   "execution_count": 1,
   "metadata": {},
   "outputs": [],
   "source": [
    "from ncon import ncon\n",
    "import numpy as np"
   ]
  },
  {
   "cell_type": "code",
   "execution_count": 12,
   "metadata": {},
   "outputs": [],
   "source": [
    "A = np.random.rand(4,4,4,4)\n",
    "A_= A.transpose(3,0,1,2)\n",
    "B = np.random.rand(4,4,4)\n",
    "B_ = B.reshape(4,4**2)"
   ]
  },
  {
   "cell_type": "code",
   "execution_count": null,
   "metadata": {},
   "outputs": [],
   "source": [
    "d = 3\n",
    "A = np.random.rand(d,d,d,d)\n",
    "B = np.random.rand(d,d,d,d)\n",
    "\n",
    "Ap = A.transpose(0,2,1,3)\n",
    "Bp = B.transpose(0,3,1,2)\n",
    "Af = Ap.reshape(d**2,d**2)\n",
    "Bf = Bp.reshape(d**2,d**2)\n",
    "Cf = Af@Bf\n",
    "C = Cf.reshape(d,d,d,d)\n"
   ]
  },
  {
   "cell_type": "code",
   "execution_count": 20,
   "metadata": {},
   "outputs": [],
   "source": [
    "d = 10\n",
    "A = np.random.rand(d,d,d)\n",
    "B = np.random.rand(d,d,d,d)\n",
    "C = np.random.rand(d,d,d)\n",
    "D = np.random.rand(d,d)\n",
    "\n",
    "tensorArray = [A,B,C,D]\n",
    "indexArray =  [[1,-2,2],[-1,1,3,4],[5,3,2],[4,5]]\n",
    "E = ncon(tensorArray, indexArray, con_order=[5,3,4,1,2])"
   ]
  },
  {
   "cell_type": "code",
   "execution_count": 24,
   "metadata": {},
   "outputs": [
    {
     "name": "stdout",
     "output_type": "stream",
     "text": [
      "(10, 10, 10, 10)\n"
     ]
    }
   ],
   "source": [
    "d = 10\n",
    "A = np.random.rand(d,d,d,d,d,d)\n",
    "B = ncon([A], [[-1,-2,1,-3,-4,1]])\n",
    "print(B.shape)"
   ]
  },
  {
   "cell_type": "code",
   "execution_count": 70,
   "metadata": {},
   "outputs": [
    {
     "name": "stdout",
     "output_type": "stream",
     "text": [
      "[[1. 0. 0. 0.]\n",
      " [0. 1. 0. 0.]\n",
      " [0. 0. 1. 0.]\n",
      " [0. 0. 0. 1.]]\n"
     ]
    }
   ],
   "source": [
    "d = 2\n",
    "A = np.eye(d)\n",
    "B = np.eye(d)\n",
    "\n",
    "C = ncon([A,B],[[-1,-2],[-3,-4]])\n",
    "print(C.transpose(0,2,1,3).reshape(4,4))"
   ]
  },
  {
   "cell_type": "code",
   "execution_count": 74,
   "metadata": {},
   "outputs": [
    {
     "data": {
      "text/plain": [
       "array([[[100.53116563,  76.13130183, 103.59062025],\n",
       "        [100.71108413,  76.53763944, 103.81957495],\n",
       "        [101.68148315,  76.16544647, 105.02727715]],\n",
       "\n",
       "       [[ 90.55879582,  68.39921333,  93.82883422],\n",
       "        [ 90.27627254,  68.60400639,  93.59757289],\n",
       "        [ 88.97987706,  66.638932  ,  92.64532566]],\n",
       "\n",
       "       [[ 85.09293806,  64.22826361,  87.84975579],\n",
       "        [ 84.37114858,  63.90876273,  87.16557468],\n",
       "        [ 83.30420985,  62.34987236,  85.85127807]]])"
      ]
     },
     "execution_count": 74,
     "metadata": {},
     "output_type": "execute_result"
    }
   ],
   "source": [
    "d=3\n",
    "A = np.random.rand(d,d,d)\n",
    "B = np.random.rand(d,d,d,d)\n",
    "C = np.random.rand(d,d,d,d)\n",
    "D = np.random.rand(d,d,d)\n",
    "E = np.random.rand(d,d,d)\n",
    "\n",
    "tensorArray =  [A,B,C,D,E]\n",
    "orderContraction = [[-1,1,2],[1,-2,3,4],[2,4,5,6],[-3,6,7],[7,5,3]]\n",
    "DECBA = ncon(tensorArray, orderContraction)\n",
    "DECBA"
   ]
  },
  {
   "attachments": {},
   "cell_type": "markdown",
   "metadata": {},
   "source": [
    "Tensor decomposition"
   ]
  },
  {
   "cell_type": "code",
   "execution_count": 75,
   "metadata": {},
   "outputs": [],
   "source": [
    "from numpy import linalg as LA\n"
   ]
  },
  {
   "cell_type": "code",
   "execution_count": 76,
   "metadata": {},
   "outputs": [],
   "source": [
    "d1 = 10\n",
    "d2 = 6\n",
    "A = np.random.rand(d1,d2)\n",
    "[U,S,Vh] = LA.svd(A, full_matrices=False)"
   ]
  },
  {
   "cell_type": "code",
   "execution_count": 82,
   "metadata": {},
   "outputs": [
    {
     "data": {
      "text/plain": [
       "4.351012936586515e-15"
      ]
     },
     "execution_count": 82,
     "metadata": {},
     "output_type": "execute_result"
    }
   ],
   "source": [
    "Af = U @np.diag(S)@Vh\n",
    "dA = LA.norm(Af-A)\n",
    "dA"
   ]
  },
  {
   "cell_type": "code",
   "execution_count": 2,
   "metadata": {},
   "outputs": [
    {
     "name": "stdout",
     "output_type": "stream",
     "text": [
      "Resulting Matrix:\n",
      "[[1.         0.60101565 0.70543331 0.54555876]\n",
      " [0.60101565 1.         0.89808844 0.78766554]\n",
      " [0.70543331 0.89808844 1.         0.7824906 ]\n",
      " [0.54555876 0.78766554 0.7824906  1.        ]]\n",
      "\n",
      "Is it the Identity Matrix? False\n"
     ]
    }
   ],
   "source": [
    "import numpy as np\n",
    "\n",
    "# Define dimensions\n",
    "dim_i = 4  # Dimension of index i\n",
    "dim_j = 4  # Dimension of index j\n",
    "dim_k = 4  # Dimension of index k\n",
    "\n",
    "# Generate a random left-orthogonal tensor\n",
    "A = np.random.rand(dim_i, dim_j, dim_k)\n",
    "# Normalize the columns to have unit norm (left-orthogonal condition)\n",
    "for j in range(dim_j):\n",
    "    col = A[:, j, :]\n",
    "    norm = np.linalg.norm(col)\n",
    "    A[:, j, :] /= norm\n",
    "\n",
    "# Contract indices i and j to obtain the identity matrix\n",
    "result_matrix = np.einsum('ijl,ikl->jk', A, A.conj())\n",
    "\n",
    "# Check if the result is approximately the identity matrix\n",
    "identity_matrix = np.identity(dim_k)\n",
    "is_identity = np.allclose(result_matrix, identity_matrix)\n",
    "\n",
    "print(\"Resulting Matrix:\")\n",
    "print(result_matrix)\n",
    "print(\"\\nIs it the Identity Matrix?\", is_identity)\n"
   ]
  },
  {
   "cell_type": "code",
   "execution_count": 4,
   "metadata": {},
   "outputs": [
    {
     "name": "stdout",
     "output_type": "stream",
     "text": [
      "Resulting Matrix:\n",
      "[[1.86376608 1.86376608 1.86376608 1.86376608]\n",
      " [1.29727001 1.29727001 1.29727001 1.29727001]\n",
      " [1.79565405 1.79565405 1.79565405 1.79565405]\n",
      " [1.48722807 1.48722807 1.48722807 1.48722807]]\n",
      "\n",
      "Is it the Identity Matrix? False\n"
     ]
    },
    {
     "name": "stderr",
     "output_type": "stream",
     "text": [
      "C:\\Users\\fabio\\AppData\\Local\\Temp\\ipykernel_11364\\1045666998.py:17: ComplexWarning: Casting complex values to real discards the imaginary part\n",
      "  A[:, j, :] = col[:, np.newaxis]  # Adding a new axis to create a matrix\n"
     ]
    }
   ],
   "source": [
    "import numpy as np\n",
    "\n",
    "# Define the dimension of the indices\n",
    "dim_i = 4  # Dimension of index i\n",
    "dim_j = 4  # Dimension of index j (equal to dim_k for identity)\n",
    "dim_k = 4  # Dimension of index k\n",
    "\n",
    "# Create a left-orthogonal tensor that will produce the identity matrix\n",
    "A = np.zeros((dim_i, dim_j, dim_k))\n",
    "\n",
    "# Set up A to satisfy left-orthogonality\n",
    "for j in range(dim_j):\n",
    "    # Create a random complex vector with unit norm\n",
    "    col = np.random.rand(dim_i) + 1j * np.random.rand(dim_i)\n",
    "    col /= np.linalg.norm(col)\n",
    "    # Assign the vector as a column of A\n",
    "    A[:, j, :] = col[:, np.newaxis]  # Adding a new axis to create a matrix\n",
    "\n",
    "# Contract indices i and j to obtain the identity matrix\n",
    "result_matrix = np.einsum('ijl,ikl->kl', A, A.conj())\n",
    "\n",
    "# Check if the result is approximately the identity matrix\n",
    "identity_matrix = np.identity(dim_k)\n",
    "is_identity = np.allclose(result_matrix, identity_matrix)\n",
    "\n",
    "print(\"Resulting Matrix:\")\n",
    "print(result_matrix)\n",
    "print(\"\\nIs it the Identity Matrix?\", is_identity)\n"
   ]
  },
  {
   "cell_type": "code",
   "execution_count": 5,
   "metadata": {},
   "outputs": [
    {
     "ename": "ValueError",
     "evalue": "cannot reshape array of size 4 into shape (16,)",
     "output_type": "error",
     "traceback": [
      "\u001b[1;31m---------------------------------------------------------------------------\u001b[0m",
      "\u001b[1;31mValueError\u001b[0m                                Traceback (most recent call last)",
      "\u001b[1;32mc:\\Users\\fabio\\Documents\\PHD\\Dottorato\\TN\\codes\\test.ipynb Cell 39\u001b[0m in \u001b[0;36m1\n\u001b[0;32m     <a href='vscode-notebook-cell:/c%3A/Users/fabio/Documents/PHD/Dottorato/TN/codes/test.ipynb#X53sZmlsZQ%3D%3D?line=15'>16</a>\u001b[0m \u001b[39m# Orthogonalize the column with respect to previous columns\u001b[39;00m\n\u001b[0;32m     <a href='vscode-notebook-cell:/c%3A/Users/fabio/Documents/PHD/Dottorato/TN/codes/test.ipynb#X53sZmlsZQ%3D%3D?line=16'>17</a>\u001b[0m \u001b[39mfor\u001b[39;00m prev_j \u001b[39min\u001b[39;00m \u001b[39mrange\u001b[39m(j):\n\u001b[1;32m---> <a href='vscode-notebook-cell:/c%3A/Users/fabio/Documents/PHD/Dottorato/TN/codes/test.ipynb#X53sZmlsZQ%3D%3D?line=17'>18</a>\u001b[0m     col \u001b[39m-\u001b[39m\u001b[39m=\u001b[39m np\u001b[39m.\u001b[39;49mvdot(A[:, prev_j, :], col) \u001b[39m*\u001b[39m A[:, prev_j, :]\n\u001b[0;32m     <a href='vscode-notebook-cell:/c%3A/Users/fabio/Documents/PHD/Dottorato/TN/codes/test.ipynb#X53sZmlsZQ%3D%3D?line=18'>19</a>\u001b[0m \u001b[39m# Assign the orthogonalized column as a column of A\u001b[39;00m\n\u001b[0;32m     <a href='vscode-notebook-cell:/c%3A/Users/fabio/Documents/PHD/Dottorato/TN/codes/test.ipynb#X53sZmlsZQ%3D%3D?line=19'>20</a>\u001b[0m A[:, j, :] \u001b[39m=\u001b[39m col[:, np\u001b[39m.\u001b[39mnewaxis]  \u001b[39m# Adding a new axis to create a matrix\u001b[39;00m\n",
      "File \u001b[1;32m<__array_function__ internals>:180\u001b[0m, in \u001b[0;36mvdot\u001b[1;34m(*args, **kwargs)\u001b[0m\n",
      "\u001b[1;31mValueError\u001b[0m: cannot reshape array of size 4 into shape (16,)"
     ]
    }
   ],
   "source": [
    "import numpy as np\n",
    "\n",
    "# Define the dimension of the indices\n",
    "dim_i = 4  # Dimension of index i\n",
    "dim_j = 4  # Dimension of index j (equal to dim_k for identity)\n",
    "dim_k = 4  # Dimension of index k\n",
    "\n",
    "# Create a left-orthogonal tensor that will produce the identity matrix\n",
    "A = np.zeros((dim_i, dim_j, dim_k), dtype=complex)\n",
    "\n",
    "# Create orthogonal columns\n",
    "for j in range(dim_j):\n",
    "    # Generate a random complex vector with unit norm\n",
    "    col = np.random.rand(dim_i) + 1j * np.random.rand(dim_i)\n",
    "    col /= np.linalg.norm(col)\n",
    "    # Orthogonalize the column with respect to previous columns\n",
    "    for prev_j in range(j):\n",
    "        col -= np.vdot(A[:, prev_j, :], col) * A[:, prev_j, :]\n",
    "    # Assign the orthogonalized column as a column of A\n",
    "    A[:, j, :] = col[:, np.newaxis]  # Adding a new axis to create a matrix\n",
    "\n",
    "# Contract indices i and j to obtain the identity matrix\n",
    "result_matrix = np.einsum('ijl,ikl->kl', A, A.conj())\n",
    "\n",
    "# Check if the result is approximately the identity matrix\n",
    "identity_matrix = np.identity(dim_k)\n",
    "is_identity = np.allclose(result_matrix, identity_matrix)\n",
    "\n",
    "print(\"Resulting Matrix:\")\n",
    "print(result_matrix)\n",
    "print(\"\\nIs it the Identity Matrix?\", is_identity)\n"
   ]
  },
  {
   "cell_type": "code",
   "execution_count": 20,
   "metadata": {},
   "outputs": [],
   "source": [
    "import numpy as np\n",
    "\n",
    "#random entry\n",
    "A = np.random.rand(2,3,4)\n",
    "#identy\n",
    "B = np.eye(5,5)\n",
    "#ones\n",
    "C = np.ones((2,3,4))\n",
    "#zeros\n",
    "D = np.zeros((1,2,3))\n",
    "#complex\n",
    "E = np.random.rand(2,3,4) + 1j*np.random.rand(2,3,4)\n"
   ]
  },
  {
   "cell_type": "code",
   "execution_count": 22,
   "metadata": {},
   "outputs": [
    {
     "name": "stdout",
     "output_type": "stream",
     "text": [
      "[[[0.77698045 0.76028837 0.90753442 0.9856194 ]\n",
      "  [0.1794006  0.20913128 0.87926367 0.26424249]\n",
      "  [0.21977095 0.27896922 0.30475714 0.62612513]]\n",
      "\n",
      " [[0.37032178 0.01710342 0.18265034 0.31364868]\n",
      "  [0.12808509 0.93929015 0.73188578 0.30585967]\n",
      "  [0.29408434 0.25809195 0.70497721 0.92231869]]]\n",
      "[[1. 0. 0. 0. 0.]\n",
      " [0. 1. 0. 0. 0.]\n",
      " [0. 0. 1. 0. 0.]\n",
      " [0. 0. 0. 1. 0.]\n",
      " [0. 0. 0. 0. 1.]]\n",
      "[[[1. 1. 1. 1.]\n",
      "  [1. 1. 1. 1.]\n",
      "  [1. 1. 1. 1.]]\n",
      "\n",
      " [[1. 1. 1. 1.]\n",
      "  [1. 1. 1. 1.]\n",
      "  [1. 1. 1. 1.]]]\n",
      "[[[0. 0. 0.]\n",
      "  [0. 0. 0.]]]\n",
      "[[[0.24993461+0.28059612j 0.18582195+0.35998932j 0.03271089+0.62823157j\n",
      "   0.31025956+0.90446064j]\n",
      "  [0.78131323+0.45439841j 0.5348071 +0.48644972j 0.09038495+0.5973566j\n",
      "   0.55797011+0.10844556j]\n",
      "  [0.11826333+0.64987368j 0.62098599+0.95701026j 0.06218024+0.26975154j\n",
      "   0.51972171+0.64880529j]]\n",
      "\n",
      " [[0.18724386+0.76283667j 0.50793346+0.02840595j 0.0401326 +0.57332772j\n",
      "   0.91012987+0.75497628j]\n",
      "  [0.11523402+0.03207061j 0.64243756+0.3586985j  0.9582782 +0.26123086j\n",
      "   0.00754779+0.75542802j]\n",
      "  [0.77975705+0.67432005j 0.2131419 +0.12561338j 0.96314163+0.0494161j\n",
      "   0.83192108+0.36550683j]]]\n"
     ]
    }
   ],
   "source": [
    "print(A)\n",
    "print(B)\n",
    "print(C)\n",
    "print(D)\n",
    "print(E)"
   ]
  },
  {
   "cell_type": "code",
   "execution_count": 23,
   "metadata": {},
   "outputs": [],
   "source": [
    "import ncon\n"
   ]
  },
  {
   "cell_type": "code",
   "execution_count": 74,
   "metadata": {},
   "outputs": [
    {
     "name": "stdout",
     "output_type": "stream",
     "text": [
      "old A: 0.10185716424605551\n",
      "new A: 0.10185716424605551\n",
      "res A: 0.10185716424605551\n"
     ]
    }
   ],
   "source": [
    "A = np.random.rand(2,2,2,2,2)\n",
    "Anew = A.transpose(4,0,1,2,3)\n",
    "\n",
    "print(\"old A:\",A[1,1,1,1,1])\n",
    "print(\"new A:\", Anew[1,1,1,1,1])\n",
    "\n",
    "Ares = A.reshape(2**4,2)\n",
    "print(\"res A:\", Ares[15,1]) #(((i1 x D) + i2) x D + i3) x D + i4\n"
   ]
  },
  {
   "cell_type": "code",
   "execution_count": 87,
   "metadata": {},
   "outputs": [
    {
     "name": "stdout",
     "output_type": "stream",
     "text": [
      "[[0.5209935  0.12276615 0.28410681 0.32325151]\n",
      " [0.50091844 0.33490509 0.54900839 0.76952877]\n",
      " [0.50970756 0.55463401 0.1786172  0.92828831]\n",
      " [0.90345126 0.78935943 0.69938056 0.377105  ]]\n",
      "[[0.49859743 0.65664498 0.19976197 0.76892293]\n",
      " [0.85599123 0.22274908 0.3995502  0.25705679]\n",
      " [0.38432745 0.9563731  0.6056789  0.28091427]\n",
      " [0.21640806 0.34944608 0.11837478 0.98097821]]\n",
      "[[0.54399705 0.75412489 0.36346826 0.82907407]\n",
      " [0.91396369 1.19749104 0.65749145 1.38037255]\n",
      " [0.9984373  0.95345253 0.54149492 1.49530501]\n",
      " [1.47654294 1.56972244 0.9641037  1.46399236]]\n",
      "[[[[0.54399705 0.75412489]\n",
      "   [0.36346826 0.82907407]]\n",
      "\n",
      "  [[0.91396369 1.19749104]\n",
      "   [0.65749145 1.38037255]]]\n",
      "\n",
      "\n",
      " [[[0.9984373  0.95345253]\n",
      "   [0.54149492 1.49530501]]\n",
      "\n",
      "  [[1.47654294 1.56972244]\n",
      "   [0.9641037  1.46399236]]]]\n"
     ]
    }
   ],
   "source": [
    "\"\"\"\n",
    "Binary contaction = contrazione su indici con la stessa dimensione e posti adiancenti\n",
    "Quindi ad esempio A_ijk con B_klm = AB_ijlm\n",
    "\"\"\"\n",
    "d=2\n",
    "A = np.random.rand(d,d,d,d)\n",
    "B = np.random.rand(d,d,d,d)\n",
    "\n",
    "A_ = A.transpose(0,2,3,1) # Aijkl -> Aikjl\n",
    "\n",
    "B_ = B.transpose(0,3,2,1) # Bijkl -> Biljk\n",
    "\n",
    "A__ = A_.reshape(d**2,d**2) # Aikjl -> Aik,jl\n",
    "B__ = B_.reshape(d**2,d**2) # Biljk -> Bil, jk\n",
    "\n",
    "C__= A__@B__\n",
    "C = C__.reshape(d,d,d,d)\n",
    "\n",
    "print(A__)\n",
    "print(B__)\n",
    "print(C__)\n",
    "print(C)\n",
    "\n"
   ]
  },
  {
   "cell_type": "code",
   "execution_count": 9,
   "metadata": {},
   "outputs": [
    {
     "name": "stdout",
     "output_type": "stream",
     "text": [
      "[[5998.25892043 6119.47410429 6247.04172248 5895.92785851 5627.94210523\n",
      "  6127.85908891 6458.45472408 6278.24868832 5984.02018133 5703.00953688]\n",
      " [5949.15444615 6076.5249951  6218.06309039 5878.37328583 5595.46022396\n",
      "  6135.95972829 6436.00178644 6244.39868771 5958.46668633 5693.59293249]\n",
      " [6005.67453924 6076.14162671 6224.01305365 5903.6071585  5610.45650122\n",
      "  6154.69323466 6431.55251094 6252.6853364  5957.89495267 5714.34492674]\n",
      " [5799.50833391 5878.00021603 6073.00280504 5713.49628126 5472.01379308\n",
      "  5998.87182718 6283.53920139 6064.42562625 5798.63311628 5554.85047367]\n",
      " [6018.87826123 6135.69426574 6322.34615124 5953.36150195 5669.0571755\n",
      "  6199.13824507 6514.78894468 6353.96316691 6034.54607618 5791.25250877]\n",
      " [5856.61039155 5962.74698946 6089.32331024 5751.8482124  5500.26181088\n",
      "  5992.0476994  6312.11501738 6105.45920444 5819.28384272 5543.06361392]\n",
      " [5825.65943647 5960.53916809 6048.77472894 5721.25392937 5473.48192689\n",
      "  5976.60112681 6261.2517879  6071.88554516 5809.01828108 5526.55236089]\n",
      " [5995.82135446 6071.46067903 6241.0590722  5897.97364514 5626.53815611\n",
      "  6180.31746149 6427.22185788 6254.15948468 5955.68556091 5735.61293857]\n",
      " [5680.62349183 5801.6902006  5931.2467763  5604.17416382 5353.64446352\n",
      "  5868.00130298 6137.90171314 5929.47797253 5686.61166861 5412.16692736]\n",
      " [5788.00509904 5910.44399589 6066.48770784 5736.12594108 5466.64590002\n",
      "  6043.18016957 6256.59629248 6049.4028158  5816.76451827 5583.01893842]]\n"
     ]
    }
   ],
   "source": [
    "\n",
    "#contraction using ncon\n",
    "from ncon import ncon\n",
    "\n",
    "d = 10\n",
    "A = np.random.rand(d,d,d) #A12,3\n",
    "B = np.random.rand(d,d,d,d) #B1,234\n",
    "C = np.random.rand(d,d,d) #C123,\n",
    "D = np.random.rand(d,d) #D1,2\n",
    "\n",
    "t_array = [A,B,C,D]\n",
    "index_array = [[1,-2,2],[-1,1,3,4],[5,3,2],[4,5]]\n",
    "\n",
    "E = ncon(t_array,index_array)\n",
    "\n",
    "print(E)"
   ]
  },
  {
   "cell_type": "code",
   "execution_count": 132,
   "metadata": {},
   "outputs": [
    {
     "name": "stdout",
     "output_type": "stream",
     "text": [
      "(4, 4, 4, 4)\n",
      "1 (2, 2, 2) (2,)\n"
     ]
    }
   ],
   "source": [
    "#Creazione di un network da array disgiunti\n",
    "d = 4\n",
    "A = np.random.rand(d,d)\n",
    "B = np.random.rand(d,d)\n",
    "\n",
    "C = ncon([A,B],[[-1,-2],[-3,-4]])\n",
    "print(C.shape)\n",
    "\n",
    "\n",
    "#inizializzazione di un circuito a zero\n",
    "f = np.array((1,0))\n",
    "E  = ncon([f,f,f],[[-1],[-2],[-3]])\n",
    "\n",
    "print(E, E.shape, f.shape)"
   ]
  },
  {
   "cell_type": "code",
   "execution_count": 145,
   "metadata": {},
   "outputs": [
    {
     "name": "stdout",
     "output_type": "stream",
     "text": [
      "[[1 0]\n",
      " [0 0]]\n"
     ]
    }
   ],
   "source": [
    "#traccia parziale, con esempio dal network di soli zero\n",
    "#andando a tracciare via i qubit 2,3 dovremmo ottenere la matrice densità data da |0><0|\n",
    "rho_f = ncon([E,E],[[-1,-2,-3],[-4,-5,-6]])\n",
    "print(rho_f[:,0,0,:,0,0]) #uesto equivale ad tenere solamente la parte della matrice densità del primo qubit\n",
    "\n",
    "#per calcolare in modo più veloce la traccia parziale nel caso avessimo un sistema più grande allora\n",
    "rho_1_q = ncon([rho_f],[[-1,1,2,-2,1,2]])"
   ]
  },
  {
   "cell_type": "code",
   "execution_count": 166,
   "metadata": {},
   "outputs": [
    {
     "name": "stdout",
     "output_type": "stream",
     "text": [
      "[[0.5 0.5]\n",
      " [0.5 0.5]] 0.9999999999999998\n"
     ]
    }
   ],
   "source": [
    "x_0 = 1/np.sqrt(2)*np.array((1,1))\n",
    "\n",
    "state = ncon([f,x_0], [[-1],[-2]])\n",
    "\n",
    "rho_state = ncon([state,state],[[-1,-2],[-3,-4]])\n",
    "\n",
    "rho_x = ncon([rho_state],[[1,-1,1,-2]])\n",
    "\n",
    "trace_rho_x = ncon([rho_x],[[1,1]])\n",
    "\n",
    "print(rho_x, trace_rho_x)"
   ]
  },
  {
   "cell_type": "markdown",
   "metadata": {},
   "source": [
    "#DECOMPOSITION"
   ]
  },
  {
   "cell_type": "code",
   "execution_count": 1,
   "metadata": {},
   "outputs": [],
   "source": [
    "from numpy import linalg as LA"
   ]
  },
  {
   "cell_type": "code",
   "execution_count": 266,
   "metadata": {},
   "outputs": [
    {
     "name": "stdout",
     "output_type": "stream",
     "text": [
      "[2.06617669 0.8489709  0.35560734]\n",
      "1.0373356294747415e-15\n",
      "(4, 3) (3,) (3, 3)\n",
      "(4, 3) (3, 4)\n",
      "[[ 0.79 -0.14 -0.16  0.34]\n",
      " [-0.14  0.9  -0.11  0.24]\n",
      " [-0.16 -0.11  0.88  0.26]\n",
      " [ 0.34  0.24  0.26  0.42]]\n",
      "[[ 0.79486817 -0.14368506 -0.15501609  0.34406014]\n",
      " [-0.14368506  0.89935547 -0.10858138  0.24099771]\n",
      " [-0.15501609 -0.10858138  0.88285588  0.26000284]\n",
      " [ 0.34406014  0.24099771  0.26000284  0.42292049]]\n",
      "Uh@U [[ 1.  0. -0.]\n",
      " [ 0.  1. -0.]\n",
      " [-0. -0.  1.]]\n"
     ]
    }
   ],
   "source": [
    "d1 = 4\n",
    "d2 = 3\n",
    "A = np.random.rand(d1,d2)\n",
    "\n",
    "U,S,Vh = LA.svd(A, full_matrices=False)\n",
    "print(S)\n",
    "Af = U @np.diag(S) @ Vh\n",
    "#Calcolo della distanza in termini di norma tra la matrice ricavata dalla contrazione dei termini della svd e quella orginale\n",
    "# |Af - A| = deltaA\n",
    "deltaA = LA.norm(Af - A)\n",
    "print(deltaA)\n",
    "\n",
    "print(U.shape, S.shape, Vh.shape)\n",
    "#Test per la isometria della matrice U\n",
    "#Contraendo UUdag si ottieme un proiettore P che al quadrato da comunque P = PP\n",
    "Uh = U.T\n",
    "print(U.shape, Uh.shape)\n",
    "P = U@Uh\n",
    "print(np.round(P,2))\n",
    "print(P@P)\n",
    "\n",
    "#mentre contraendo UdagU si ottiene l'identità nello spazio ridotto, quindi se M era d1,d2 con d1>d2, allora si ottine U tale che UdagU = I3, mentre UUdag = P[4x4]\n",
    "\n",
    "I = Uh@U\n",
    "print(\"Uh@U\", np.round(I,2))\n",
    "\n"
   ]
  },
  {
   "cell_type": "code",
   "execution_count": 257,
   "metadata": {},
   "outputs": [
    {
     "name": "stdout",
     "output_type": "stream",
     "text": [
      "(2, 2, 2, 2) (2, 2, 2, 2)\n",
      "[[1 0 0 0]\n",
      " [0 1 0 0]\n",
      " [0 0 1 0]\n",
      " [0 0 0 1]]\n",
      "(4, 4) (4, 4)\n",
      "[[1 0 0 0]\n",
      " [0 1 0 0]\n",
      " [0 0 1 0]\n",
      " [0 0 0 1]]\n"
     ]
    }
   ],
   "source": [
    "cnot = np.array(([1,0,0,0],[0,1,0,0],[0,0,0,1],[0,0,1,0]))\n",
    "cnot_ = cnot.reshape(2,2,2,2)\n",
    "\n",
    "cnot_h = cnot_.conj().T\n",
    "print(cnot_h.shape, cnot_.shape)\n",
    "\n",
    "I_2 = ncon([cnot_h,cnot_],[[1,-1,-2,2],[-3,1,2,-4]])\n",
    "\n",
    "print(I_2.reshape(4,4))\n",
    "\n",
    "cnot__ = cnot.conj().T\n",
    "print(cnot.shape, cnot__.shape)\n",
    "I_4 = ncon([cnot, cnot__],[[1,-1],[-2,1]])\n",
    "print(I_4)\n"
   ]
  },
  {
   "cell_type": "code",
   "execution_count": 265,
   "metadata": {},
   "outputs": [
    {
     "name": "stdout",
     "output_type": "stream",
     "text": [
      "[[-0.302687   -0.45593922 -0.83695879]\n",
      " [ 0.9499723  -0.07335473 -0.30359794]\n",
      " [ 0.07702732 -0.88698281  0.45533316]]\n",
      "[[1. 0. 0.]\n",
      " [0. 1. 0.]\n",
      " [0. 0. 1.]]\n",
      "[[1. 0. 0.]\n",
      " [0. 1. 0.]\n",
      " [0. 0. 1.]]\n"
     ]
    }
   ],
   "source": [
    "print(Vh)\n",
    "#Questa matrice invece è unitaria\n",
    "\n",
    "Iv = Vh@Vh.conj().T\n",
    "print(np.round(np.abs(Iv),1))\n",
    "#come anche\n",
    "Ivh = Vh.conj().T@Vh\n",
    "print(np.round(np.abs(Ivh),2))"
   ]
  },
  {
   "cell_type": "markdown",
   "metadata": {},
   "source": [
    "QUINDI RICORDIAMOCI CHE: \n",
    "\n",
    "    SVD(M) = USVh \n",
    "    la matrice U è una isometria lungo uno dei due indici\n",
    "        infatti U_ijUh_jk = Pik con Pik^2 = Pik \n",
    "        mentre, Uh_ijUjk = I(identità)ik con i=k=j \n",
    "    Matrice Vh invece VhVh_h = Vh_hVh = I, ossia unitaria\n"
   ]
  },
  {
   "cell_type": "code",
   "execution_count": 11,
   "metadata": {},
   "outputs": [
    {
     "name": "stdout",
     "output_type": "stream",
     "text": [
      "Shapes: (16, 4) (4,) (4, 4)\n",
      "check isometry:\n",
      "Identity Um_hUm:\n",
      " [[1. 0. 0. 0.]\n",
      " [0. 1. 0. 0.]\n",
      " [0. 0. 1. 0.]\n",
      " [0. 0. 0. 1.]]\n",
      "Projector Um_hUm:\n",
      " [[ 0.17164795 -0.07848355  0.08931069 -0.06729705  0.13389113  0.15463636\n",
      "  -0.12022481 -0.03081302  0.12721059  0.06238534  0.0393055   0.15532072\n",
      "   0.01186293  0.01522128  0.07724371 -0.1191401 ]\n",
      " [-0.07848355  0.24358195  0.2071743   0.01336785 -0.11687255 -0.05798175\n",
      "   0.19542066  0.09789373  0.00356264  0.1317929   0.02306509 -0.08168363\n",
      "   0.10739792  0.07796997  0.07716076  0.14846902]\n",
      " [ 0.08931069  0.2071743   0.4486509  -0.15924076 -0.10153985  0.00522834\n",
      "   0.01214718  0.10053205  0.02225743  0.28606916 -0.0657243   0.08263356\n",
      "   0.07652613  0.09471018  0.19209212 -0.07288034]\n",
      " [-0.06729705  0.01336785 -0.15924076  0.21202211  0.14708358 -0.02705044\n",
      "   0.18283741  0.10494052 -0.01512994 -0.08600265  0.07784998  0.101039\n",
      "  -0.02630528 -0.04111432 -0.02997594  0.20741361]\n",
      " [ 0.13389113 -0.11687255 -0.10153985  0.14708358  0.32609278  0.14688063\n",
      "   0.02364863  0.06636676  0.1155477  -0.0417454   0.1140291   0.3047891\n",
      "  -0.04090842 -0.04354097  0.04268627  0.05748213]\n",
      " [ 0.15463636 -0.05798175  0.00522834 -0.02705044  0.14688063  0.25167682\n",
      "  -0.05689173 -0.11131455  0.26687394  0.00492893  0.17584026  0.01410207\n",
      "   0.12074886  0.05860403  0.04417334 -0.02775006]\n",
      " [-0.12022481  0.19542066  0.01214718  0.18283741  0.02364863 -0.05689173\n",
      "   0.2994229   0.14280594  0.00483095  0.01872614  0.09482421 -0.00936397\n",
      "   0.0733445   0.03077791  0.02485397  0.28803007]\n",
      " [-0.03081302  0.09789373  0.10053205  0.10494052  0.06636676 -0.11131455\n",
      "   0.14280594  0.20345055 -0.12049121  0.08063502 -0.0605265   0.21417095\n",
      "  -0.07108248 -0.02965503  0.07171506  0.10765502]\n",
      " [ 0.12721059  0.00356264  0.02225743 -0.01512994  0.1155477   0.26687394\n",
      "   0.00483095 -0.12049121  0.31043986  0.01362116  0.2229317  -0.06175385\n",
      "   0.18116236  0.09077448  0.0469817   0.03268454]\n",
      " [ 0.06238534  0.1317929   0.28606916 -0.08600265 -0.0417454   0.00492893\n",
      "   0.01872614  0.08063502  0.01362116  0.18476792 -0.03860358  0.08315858\n",
      "   0.04235342  0.0561393   0.12926169 -0.03564591]\n",
      " [ 0.0393055   0.02306509 -0.0657243   0.07784998  0.1140291   0.17584026\n",
      "   0.09482421 -0.0605265   0.2229317  -0.03860358  0.20430783 -0.05913978\n",
      "   0.13875691  0.05678227  0.00612374  0.1277885 ]\n",
      " [ 0.15532072 -0.08168363  0.08263356  0.101039    0.3047891   0.01410207\n",
      "  -0.00936397  0.21417095 -0.06175385  0.08315858 -0.05913978  0.51192752\n",
      "  -0.16174427 -0.0816211   0.12313877 -0.0275481 ]\n",
      " [ 0.01186293  0.10739792  0.07652613 -0.02630528 -0.04090842  0.12074886\n",
      "   0.0733445  -0.07108248  0.18116236  0.04235342  0.13875691 -0.16174427\n",
      "   0.16873484  0.09416436  0.03153529  0.07392235]\n",
      " [ 0.01522128  0.07796997  0.09471018 -0.04111432 -0.04354097  0.05860403\n",
      "   0.03077791 -0.02965503  0.09077448  0.0561393   0.05678227 -0.0816211\n",
      "   0.09416436  0.05958383  0.03675541  0.02023586]\n",
      " [ 0.07724371  0.07716076  0.19209212 -0.02997594  0.04268627  0.04417334\n",
      "   0.02485397  0.07171506  0.0469817   0.12926169  0.00612374  0.12313877\n",
      "   0.03153529  0.03675541  0.10727933 -0.00748568]\n",
      " [-0.1191401   0.14846902 -0.07288034  0.20741361  0.05748213 -0.02775006\n",
      "   0.28803007  0.10765502  0.03268454 -0.03564591  0.1277885  -0.0275481\n",
      "   0.07392235  0.02023586 -0.00748568  0.29641291]] (16, 16)\n",
      "check idempotence:\n",
      " 0.0\n"
     ]
    }
   ],
   "source": [
    "#SVD of a tensor\n",
    "d=4\n",
    "A = np.random.rand(d,d,d)\n",
    "Am = A.reshape(2**d, d)\n",
    "Um, Sm, Vhm = LA.svd(Am, full_matrices=False)\n",
    "\n",
    "print(\"Shapes:\",Um.shape, Sm.shape, Vhm.shape)\n",
    "print(\"check isometry:\")\n",
    "I_Um = Um.conj().T@Um\n",
    "P_Um = Um@Um.conj().T\n",
    "print(\"Identity Um_hUm:\\n\", np.abs(np.round(I_Um,1)))\n",
    "print(\"Projector Um_hUm:\\n\", P_Um, P_Um.shape)\n",
    "print(\"check idempotence:\\n\",np.round(LA.norm(P_Um@P_Um - P_Um)))"
   ]
  },
  {
   "cell_type": "code",
   "execution_count": 18,
   "metadata": {},
   "outputs": [
    {
     "name": "stdout",
     "output_type": "stream",
     "text": [
      "1.978130860744196e-15\n"
     ]
    }
   ],
   "source": [
    "U = Um.reshape(d,d,d)\n",
    "S = np.diag(Sm)\n",
    "#Si devono mantenere vicini i due inidici che prima abbiamo decomposto\n",
    "Af = ncon([U,S,Vhm],[[-1,-2,1],[1,2],[2,-3]])\n",
    "\n",
    "deltaA = LA.norm(Af - A)\n",
    "print(deltaA)"
   ]
  },
  {
   "cell_type": "code",
   "execution_count": 28,
   "metadata": {},
   "outputs": [
    {
     "name": "stdout",
     "output_type": "stream",
     "text": [
      "(16, 16) (4,) (4, 4)\n",
      "Um:\n",
      " [[-0.23  0.24  0.    0.   -0.09 -0.2   0.01 -0.12 -0.17 -0.36  0.1   0.05\n",
      "  -0.04 -0.34 -0.55 -0.48]\n",
      " [-0.15  0.33  0.24 -0.3   0.48  0.27  0.19  0.34  0.38  0.18  0.09  0.13\n",
      "  -0.08 -0.19 -0.15  0.02]\n",
      " [-0.23  0.18  0.42  0.01 -0.01  0.05 -0.43 -0.34 -0.12  0.32 -0.38 -0.24\n",
      "  -0.16 -0.29  0.1   0.07]\n",
      " [-0.15  0.08 -0.34 -0.47 -0.31 -0.02 -0.04  0.33  0.02 -0.12 -0.11 -0.25\n",
      "  -0.34 -0.19  0.4  -0.17]\n",
      " [-0.29 -0.28 -0.4   0.05  0.75 -0.12 -0.12 -0.1  -0.17 -0.09 -0.09 -0.12\n",
      "  -0.06 -0.02  0.11 -0.07]\n",
      " [-0.22 -0.08 -0.17  0.2  -0.13  0.9  -0.01 -0.06 -0.11 -0.13  0.02 -0.01\n",
      "   0.01  0.   -0.05 -0.09]\n",
      " [-0.26 -0.34  0.21 -0.14 -0.08 -0.03  0.78 -0.23 -0.13  0.1  -0.17 -0.11\n",
      "  -0.04 -0.1   0.03  0.01]\n",
      " [-0.28 -0.4   0.32  0.26 -0.08 -0.09 -0.16  0.7  -0.18  0.01 -0.08 -0.03\n",
      "   0.06 -0.02 -0.11 -0.01]\n",
      " [-0.3  -0.26 -0.07  0.19 -0.16 -0.11 -0.11 -0.17  0.83 -0.08 -0.05 -0.05\n",
      "   0.01 -0.02 -0.03 -0.07]\n",
      " [-0.22  0.2  -0.41  0.27 -0.14 -0.12  0.11  0.08 -0.06  0.75  0.12  0.04\n",
      "   0.01  0.02 -0.09 -0.17]\n",
      " [-0.15 -0.27  0.17 -0.24 -0.04  0.01 -0.19 -0.16 -0.07  0.13  0.84 -0.11\n",
      "  -0.06 -0.09  0.08  0.04]\n",
      " [-0.17 -0.2  -0.04 -0.24 -0.09 -0.01 -0.16 -0.1  -0.07  0.07 -0.14  0.88\n",
      "  -0.08 -0.08  0.1   0.01]\n",
      " [-0.15  0.04 -0.08 -0.33 -0.04  0.01 -0.08  0.   -0.01  0.03 -0.09 -0.09\n",
      "   0.9  -0.11  0.07 -0.03]\n",
      " [-0.38  0.17  0.14 -0.27 -0.02 -0.03 -0.07 -0.06 -0.05 -0.03 -0.05 -0.04\n",
      "  -0.07  0.83 -0.11 -0.13]\n",
      " [-0.25  0.35  0.23  0.39  0.05 -0.09  0.16 -0.01 -0.02 -0.22  0.19  0.16\n",
      "   0.11 -0.01  0.65 -0.18]\n",
      " [-0.39  0.25 -0.2   0.07 -0.11 -0.11  0.05  0.02 -0.08 -0.21  0.07  0.01\n",
      "  -0.02 -0.08 -0.15  0.8 ]]\n",
      "Sm:\n",
      " [[4.25927789 0.         0.         0.        ]\n",
      " [0.         1.36191529 0.         0.        ]\n",
      " [0.         0.         1.01942892 0.        ]\n",
      " [0.         0.         0.         0.92569535]]\n",
      "Vhm:\n",
      " [[-0.44438485 -0.587541   -0.50908725 -0.44513802]\n",
      " [ 0.65517602 -0.16156208 -0.66509689  0.31982528]\n",
      " [ 0.58706795 -0.03619541  0.21178125 -0.78050613]\n",
      " [-0.16916771  0.79207523 -0.50361196 -0.30062288]]\n",
      "check isometry:\n",
      "Identity Um_hUm:\n",
      " [[1. 0. 0. 0. 0. 0. 0. 0. 0. 0. 0. 0. 0. 0. 0. 0.]\n",
      " [0. 1. 0. 0. 0. 0. 0. 0. 0. 0. 0. 0. 0. 0. 0. 0.]\n",
      " [0. 0. 1. 0. 0. 0. 0. 0. 0. 0. 0. 0. 0. 0. 0. 0.]\n",
      " [0. 0. 0. 1. 0. 0. 0. 0. 0. 0. 0. 0. 0. 0. 0. 0.]\n",
      " [0. 0. 0. 0. 1. 0. 0. 0. 0. 0. 0. 0. 0. 0. 0. 0.]\n",
      " [0. 0. 0. 0. 0. 1. 0. 0. 0. 0. 0. 0. 0. 0. 0. 0.]\n",
      " [0. 0. 0. 0. 0. 0. 1. 0. 0. 0. 0. 0. 0. 0. 0. 0.]\n",
      " [0. 0. 0. 0. 0. 0. 0. 1. 0. 0. 0. 0. 0. 0. 0. 0.]\n",
      " [0. 0. 0. 0. 0. 0. 0. 0. 1. 0. 0. 0. 0. 0. 0. 0.]\n",
      " [0. 0. 0. 0. 0. 0. 0. 0. 0. 1. 0. 0. 0. 0. 0. 0.]\n",
      " [0. 0. 0. 0. 0. 0. 0. 0. 0. 0. 1. 0. 0. 0. 0. 0.]\n",
      " [0. 0. 0. 0. 0. 0. 0. 0. 0. 0. 0. 1. 0. 0. 0. 0.]\n",
      " [0. 0. 0. 0. 0. 0. 0. 0. 0. 0. 0. 0. 1. 0. 0. 0.]\n",
      " [0. 0. 0. 0. 0. 0. 0. 0. 0. 0. 0. 0. 0. 1. 0. 0.]\n",
      " [0. 0. 0. 0. 0. 0. 0. 0. 0. 0. 0. 0. 0. 0. 1. 0.]\n",
      " [0. 0. 0. 0. 0. 0. 0. 0. 0. 0. 0. 0. 0. 0. 0. 1.]]\n",
      "Projector Um_hUm:\n",
      " [[1. 0. 0. 0. 0. 0. 0. 0. 0. 0. 0. 0. 0. 0. 0. 0.]\n",
      " [0. 1. 0. 0. 0. 0. 0. 0. 0. 0. 0. 0. 0. 0. 0. 0.]\n",
      " [0. 0. 1. 0. 0. 0. 0. 0. 0. 0. 0. 0. 0. 0. 0. 0.]\n",
      " [0. 0. 0. 1. 0. 0. 0. 0. 0. 0. 0. 0. 0. 0. 0. 0.]\n",
      " [0. 0. 0. 0. 1. 0. 0. 0. 0. 0. 0. 0. 0. 0. 0. 0.]\n",
      " [0. 0. 0. 0. 0. 1. 0. 0. 0. 0. 0. 0. 0. 0. 0. 0.]\n",
      " [0. 0. 0. 0. 0. 0. 1. 0. 0. 0. 0. 0. 0. 0. 0. 0.]\n",
      " [0. 0. 0. 0. 0. 0. 0. 1. 0. 0. 0. 0. 0. 0. 0. 0.]\n",
      " [0. 0. 0. 0. 0. 0. 0. 0. 1. 0. 0. 0. 0. 0. 0. 0.]\n",
      " [0. 0. 0. 0. 0. 0. 0. 0. 0. 1. 0. 0. 0. 0. 0. 0.]\n",
      " [0. 0. 0. 0. 0. 0. 0. 0. 0. 0. 1. 0. 0. 0. 0. 0.]\n",
      " [0. 0. 0. 0. 0. 0. 0. 0. 0. 0. 0. 1. 0. 0. 0. 0.]\n",
      " [0. 0. 0. 0. 0. 0. 0. 0. 0. 0. 0. 0. 1. 0. 0. 0.]\n",
      " [0. 0. 0. 0. 0. 0. 0. 0. 0. 0. 0. 0. 0. 1. 0. 0.]\n",
      " [0. 0. 0. 0. 0. 0. 0. 0. 0. 0. 0. 0. 0. 0. 1. 0.]\n",
      " [0. 0. 0. 0. 0. 0. 0. 0. 0. 0. 0. 0. 0. 0. 0. 1.]] (16, 16)\n",
      "check idempotence:\n",
      " 0.0\n",
      "[[1. 0. 0. 0.]\n",
      " [0. 1. 0. 0.]\n",
      " [0. 0. 1. 0.]\n",
      " [0. 0. 0. 1.]]\n",
      "[[1. 0. 0. 0.]\n",
      " [0. 1. 0. 0.]\n",
      " [0. 0. 1. 0.]\n",
      " [0. 0. 0. 1.]]\n"
     ]
    }
   ],
   "source": [
    "A = np.random.rand(d,d,d)\n",
    "Am = A.reshape(d**2, d)\n",
    "\n",
    "Um,Sm,Vhm = LA.svd(Am, full_matrices=True)\n",
    "print(Um.shape, Sm.shape, Vhm.shape)\n",
    "print(\"Um:\\n\",np.round(Um,2))\n",
    "print(\"Sm:\\n\", np.diag(Sm))\n",
    "print(\"Vhm:\\n\", Vhm)\n",
    "\n",
    "\n",
    "print(\"check isometry:\")\n",
    "I_Um = Um.conj().T@Um\n",
    "P_Um = Um@Um.conj().T\n",
    "print(\"Identity Um_hUm:\\n\", np.abs(np.round(I_Um,1)))\n",
    "print(\"Projector Um_hUm:\\n\", np.abs(np.round(P_Um,2)), P_Um.shape)\n",
    "print(\"check idempotence:\\n\",np.round(LA.norm(P_Um@P_Um - P_Um)))\n",
    "\n",
    "\n",
    "Iv = Vhm@Vhm.conj().T\n",
    "print(np.round(np.abs(Iv),1))\n",
    "#come anche\n",
    "Ivh = Vhm.conj().T@Vhm\n",
    "print(np.round(np.abs(Ivh),2))"
   ]
  },
  {
   "cell_type": "code",
   "execution_count": 52,
   "metadata": {},
   "outputs": [
    {
     "name": "stdout",
     "output_type": "stream",
     "text": [
      "(4, 4)\n",
      "[[ 1.  0.  0.  0.]\n",
      " [ 0.  1.  0. -0.]\n",
      " [ 0.  0.  1.  0.]\n",
      " [ 0. -0.  0.  1.]]\n",
      "U unitary:\n",
      " (4, 4) \n",
      "Identity UU^:\n",
      " [[ 1.  0.  0.  0.]\n",
      " [ 0.  1.  0. -0.]\n",
      " [ 0.  0.  1.  0.]\n",
      " [ 0. -0.  0.  1.]] \n",
      "Identity U^U:\n",
      " [[ 1. -0.  0. -0.]\n",
      " [-0.  1. -0.  0.]\n",
      " [ 0. -0.  1.  0.]\n",
      " [-0.  0.  0.  1.]]\n",
      "W isometry:\n",
      " (4, 2) \n",
      "Identity:\n",
      " [[1. 0.]\n",
      " [0. 1.]] \n",
      "Projector:\n",
      " [[ 0.11564278  0.26950265  0.09903365  0.14081969]\n",
      " [ 0.26950265  0.91404939 -0.07696853 -0.00269596]\n",
      " [ 0.09903365 -0.07696853  0.41601724  0.47667083]\n",
      " [ 0.14081969 -0.00269596  0.47667083  0.55429059]]\n"
     ]
    }
   ],
   "source": [
    "#Initialize isometries and unitaries\n",
    "\n",
    "d1 = 4\n",
    "d2 = 2\n",
    "U,_,_ = LA.svd(np.random.rand(d1,d1))\n",
    "W,_,_ = LA.svd(np.random.rand(d1,d2), full_matrices=False)\n",
    "print(U.shape)\n",
    "print(np.round(ncon([U,U.conj().T],[[-1,1],[1,-2]])))\n",
    "print(\"U unitary:\\n\", U.shape, \"\\nIdentity UU^:\\n\", np.round(U@U.conj().T), \"\\nIdentity U^U:\\n\", np.round(U.conj().T@U))\n",
    "print(\"W isometry:\\n\", W.shape, \"\\nIdentity:\\n\",np.round(W.conj().T@W,2),\"\\nProjector:\\n\", W@W.conj().T)"
   ]
  },
  {
   "cell_type": "code",
   "execution_count": 8,
   "metadata": {},
   "outputs": [
    {
     "name": "stdout",
     "output_type": "stream",
     "text": [
      "[[ 1.  0. -0.  0.]\n",
      " [ 0.  1.  0.  0.]\n",
      " [-0.  0.  1.  0.]\n",
      " [ 0.  0.  0.  1.]]\n",
      "0.0\n",
      "3.0\n"
     ]
    }
   ],
   "source": [
    "#Eigen-decomposition of a vector in UDU^dag with U unitary dxd matrix\n",
    "# and D diagonal matrix that contains the eigenvalue of H\n",
    "d=4\n",
    "A = np.random.rand(d,d)\n",
    "H = 0.5*(A+A.T)\n",
    "D,U = LA.eigh(H)\n",
    "print(np.round(U@U.conj().T))\n",
    "Hf = U@np.diag(D)@U.conj().T\n",
    "deltaH = LA.norm(Hf-H)\n",
    "print(np.round(deltaH))\n",
    "\n",
    "#La condizione U^dag D U = H non è necessariamente vera\n",
    "Hf_ = U.conj().T@np.diag(D)@U\n",
    "deltaH_ = LA.norm(Hf_-H)\n",
    "print(np.round(deltaH_))"
   ]
  },
  {
   "cell_type": "code",
   "execution_count": 9,
   "metadata": {},
   "outputs": [],
   "source": [
    "import numpy as np\n",
    "from ncon import ncon\n",
    "from numpy import linalg as LA\n"
   ]
  },
  {
   "cell_type": "code",
   "execution_count": 72,
   "metadata": {},
   "outputs": [
    {
     "name": "stdout",
     "output_type": "stream",
     "text": [
      "[[[[-0.38036119  0.91220914]\n",
      "   [ 0.11892528  0.09516631]]\n",
      "\n",
      "  [[ 0.11892528 -0.07859155]\n",
      "   [ 0.98975397 -0.00819907]]]\n",
      "\n",
      "\n",
      " [[[ 0.91220914  0.39716828]\n",
      "   [-0.07859155 -0.06289048]]\n",
      "\n",
      "  [[ 0.09516631 -0.06289048]\n",
      "   [-0.00819907  0.99343895]]]]\n",
      "[[ 1. -0.  0. -0.]\n",
      " [-0.  1.  0. -0.]\n",
      " [ 0.  0.  1. -0.]\n",
      " [-0. -0. -0.  1.]]\n",
      "(4, 2, 2)\n",
      "0.0\n"
     ]
    }
   ],
   "source": [
    "#Spectral decomposition of an operator H on 2 qubits, so a rank-4 tensor\n",
    "#Il reshape è necessario per poter ordinare gli indici tra quelli top vs bottom, due per ciascuno\n",
    "\n",
    "d = 2\n",
    "A = np.random.rand(d,d,d,d)\n",
    "H = 0.5*(A + A.transpose(2,3,0,1))\n",
    "H_ = H.reshape(d**2, d**2)\n",
    "D,U_ = LA.eigh(H_)\n",
    "\n",
    "#U a questo punto deve essere decomposta in una isometria in modo tale che il \n",
    "U = U_.reshape(d,d,d**2)\n",
    "U2 = U_.reshape(d,d,d,d)\n",
    "I4 = ncon([U2,U2.conj().T],[[-1,-2,1,2],[1,2,-3,-4]])\n",
    "print(I4)\n",
    "\n",
    "Iu = ncon([U,U],[[1,2,-1],[1,2,-2]])\n",
    "print( np.round(Iu,2))\n",
    "print(U.conj().T.shape)\n",
    "Pu = ncon([U,U.conj().T],[[-1,-2,1],[1,-3,-4]])\n",
    "\n",
    "Hf = ncon([U, np.diag(D), U], [[-1,-2,1],[1,2],[-3,-4,2]])\n",
    "dHf = LA.norm(Hf - H)\n",
    "print(np.round(dHf,6))"
   ]
  },
  {
   "cell_type": "code",
   "execution_count": 67,
   "metadata": {},
   "outputs": [
    {
     "name": "stdout",
     "output_type": "stream",
     "text": [
      "(4, 2)\n",
      "[[ 1. -0.]\n",
      " [-0.  1.]]\n",
      "[[ 1. -0.]\n",
      " [-0.  1.]]\n",
      "[[ 0.44098567  0.3832775  -0.18651546 -0.25461275]\n",
      " [ 0.3832775   0.59981624  0.27220563 -0.13798251]\n",
      " [-0.18651546  0.27220563  0.78616681  0.24336112]\n",
      " [-0.25461275 -0.13798251  0.24336112  0.17303128]]\n",
      "[[ 0.44098567  0.3832775  -0.18651546 -0.25461275]\n",
      " [ 0.3832775   0.59981624  0.27220563 -0.13798251]\n",
      " [-0.18651546  0.27220563  0.78616681  0.24336112]\n",
      " [-0.25461275 -0.13798251  0.24336112  0.17303128]]\n"
     ]
    }
   ],
   "source": [
    "W,_,_ = LA.svd(np.random.rand(4,2), full_matrices=False)\n",
    "# W è un'isometria quindi da un lato otteniamo un proiettore 4x4\n",
    "# contraendo dall'altro lato otteniamo I2\n",
    "print(W.shape)\n",
    "\n",
    "Iw= ncon([W,W],[[1,-1],[1,-2]])\n",
    "print(np.round(Iw))\n",
    "#Che si può ottenere allo stesso modo di:\n",
    "Iw_ = W.conj().T@W\n",
    "print(np.round(Iw_))\n",
    "\n",
    "#mentre se vogliamo il proiettore otteniamo\n",
    "Pu = ncon([W,W],[[-1,1],[-2,1]])\n",
    "Pu_ = W@W.conj().T\n",
    "\n",
    "print(Pu)\n",
    "print(Pu_)\n",
    "\n"
   ]
  },
  {
   "cell_type": "markdown",
   "metadata": {},
   "source": [
    "QR DECOMPOSITION"
   ]
  },
  {
   "cell_type": "code",
   "execution_count": 90,
   "metadata": {},
   "outputs": [
    {
     "name": "stdout",
     "output_type": "stream",
     "text": [
      "(6, 4) (4, 4)\n",
      "[[-0.71747548  0.29684383  0.09943712 -0.13192544]\n",
      " [-0.49362516 -0.05266785  0.22541258  0.70040517]\n",
      " [-0.44446793 -0.30309313 -0.4985482  -0.47803372]\n",
      " [-0.20251035 -0.02636905  0.0756391  -0.1703609 ]\n",
      " [-0.05118459 -0.90289814  0.15190256  0.10030902]\n",
      " [-0.0195216  -0.03638708  0.81360645 -0.47373758]]\n",
      "[[-1.35495094 -1.3067733  -0.74396867 -1.14662197]\n",
      " [ 0.         -0.87742882 -0.71320433 -0.72822092]\n",
      " [ 0.          0.          1.01388702  0.52104282]\n",
      " [ 0.          0.          0.         -0.78445807]]\n",
      "(6, 6) (6, 4)\n",
      "[[-0.71747548  0.29684383  0.09943712 -0.13192544  0.59850228 -0.10777588]\n",
      " [-0.49362516 -0.05266785  0.22541258  0.70040517 -0.41136845  0.20726326]\n",
      " [-0.44446793 -0.30309313 -0.4985482  -0.47803372 -0.34390218  0.33948131]\n",
      " [-0.20251035 -0.02636905  0.0756391  -0.1703609  -0.43419258 -0.85733711]\n",
      " [-0.05118459 -0.90289814  0.15190256  0.10030902  0.35679414 -0.14736602]\n",
      " [-0.0195216  -0.03638708  0.81360645 -0.47373758 -0.19615569  0.27098907]]\n",
      "[[-1. -1. -1. -1.]\n",
      " [ 0. -1. -1. -1.]\n",
      " [ 0.  0.  1.  1.]\n",
      " [ 0.  0.  0. -1.]\n",
      " [ 0.  0.  0.  0.]\n",
      " [ 0.  0.  0.  0.]]\n",
      "0.0\n",
      "0.0\n"
     ]
    }
   ],
   "source": [
    "# CHEAP_QR decomposition A = QR con Q isometric matrix and R upper-triangular\n",
    "# FULL_QR decomposition A = QR con Q unitary matrix and R padded with zeros\n",
    "\n",
    "A = np.random.rand(6,4)\n",
    "Q,R = LA.qr(A)\n",
    "print(Q.shape, R.shape)\n",
    "print(Q) #isometry\n",
    "print(R) #upper-triangular\n",
    "\n",
    "Q_,R_ = LA.qr(A, mode=\"complete\")\n",
    "print(Q_.shape, R_.shape)\n",
    "print(Q_) #unitary\n",
    "print(np.round(R_))#padded\n",
    "\n",
    "Af = Q@R\n",
    "deltaA = LA.norm(Af - A)\n",
    "print(np.round(deltaA, 6))\n",
    "\n",
    "\n",
    "Af_ = Q_@R_\n",
    "deltaA_ = LA.norm(Af_ - A)\n",
    "print(np.round(deltaA_, 6))\n",
    "\n",
    "\n"
   ]
  },
  {
   "cell_type": "code",
   "execution_count": 100,
   "metadata": {},
   "outputs": [
    {
     "name": "stdout",
     "output_type": "stream",
     "text": [
      "0.0\n"
     ]
    }
   ],
   "source": [
    "#QR decomposition of a generic tensor\n",
    "d = 2\n",
    "A = np.random.rand(d,d,d)\n",
    "Qm , R = LA.qr(A.reshape(d**2,d))\n",
    "Q = Qm.reshape(d,d,d)\n",
    "\n",
    "Af = ncon([Q,R],[[-1,-2,1],[1,-3]])\n",
    "deltaAf = LA.norm(Af - A)\n",
    "print(np.round(deltaAf))\n",
    "\n",
    "\n"
   ]
  },
  {
   "cell_type": "markdown",
   "metadata": {},
   "source": [
    "FROBENIUS NORM FOR MATRIX AND RANK-n-TENSOR\n"
   ]
  },
  {
   "cell_type": "code",
   "execution_count": 121,
   "metadata": {},
   "outputs": [
    {
     "name": "stdout",
     "output_type": "stream",
     "text": [
      "18.056396089735077 18.056396089735077 18.056396089735077\n"
     ]
    }
   ],
   "source": [
    "#Tensor trace for computing the Frobenius norm of a tensor\n",
    "\n",
    "d = 4\n",
    "A = np.random.rand(d,d,d,d,d)\n",
    "cvec = [k+1 for k in range(np.ndim(A))]\n",
    "frobA1 = np.sqrt(ncon([A,A.conj()],[cvec,cvec]))\n",
    "frobA2 = np.sqrt(sum(abs(A.flatten())**2))\n",
    "frobA3 = LA.norm(A)\n",
    "\n",
    "print(frobA1,frobA2, frobA3)\n",
    "\n",
    "\n"
   ]
  },
  {
   "cell_type": "markdown",
   "metadata": {},
   "source": [
    "TRUNCATED SVD"
   ]
  },
  {
   "cell_type": "code",
   "execution_count": 157,
   "metadata": {},
   "outputs": [
    {
     "name": "stdout",
     "output_type": "stream",
     "text": [
      "(10, 10, 10, 2) (2, 2) (2, 10, 10)\n",
      "0.4938\n"
     ]
    }
   ],
   "source": [
    "d = 10\n",
    "A = np.random.rand(d,d,d,d,d)\n",
    "Um, Sm, Vhm = LA.svd(A.reshape(d**3, d**2), full_matrices=False)\n",
    "Vh = Vhm.reshape(d**2,d,d)\n",
    "U = Um.reshape(d,d,d,d**2)\n",
    "\n",
    "#apply the truncation\n",
    "chi = 2\n",
    "Vh_ = Vh[:chi, :,:]\n",
    "U_ = U[:,:,:,:chi]\n",
    "S_ = np.diag(Sm[:chi])\n",
    "print(U_.shape, S_.shape, Vh_.shape)\n",
    "A_ = ncon([U_ ,S_ , Vh_],[[-1,-2,-3,1],[1,2],[2,-4,-5]])\n",
    "deltaAA_ = LA.norm(A-A_) / LA.norm(A)\n",
    "print(np.round(deltaAA_,4))\n"
   ]
  },
  {
   "cell_type": "markdown",
   "metadata": {},
   "source": [
    "GAUGE FREEDOM "
   ]
  },
  {
   "cell_type": "code",
   "execution_count": 21,
   "metadata": {},
   "outputs": [],
   "source": [
    "import numpy as np\n",
    "from ncon import ncon\n",
    "from numpy import linalg as LA\n"
   ]
  },
  {
   "cell_type": "markdown",
   "metadata": {},
   "source": [
    "Pulling through -> iterative QR based method for creating the orthogonality center"
   ]
  },
  {
   "cell_type": "code",
   "execution_count": 44,
   "metadata": {},
   "outputs": [
    {
     "name": "stdout",
     "output_type": "stream",
     "text": [
      "0.0\n"
     ]
    }
   ],
   "source": [
    "d = 3\n",
    "A = np.random.rand(d,d,d,d)#A -> B, A-> F, A-> C\n",
    "B = np.random.rand(d,d,d); D = np.random.rand(d,d,d); E = np.random.rand(d,d,d)\n",
    "F = np.random.rand(d,d,d)\n",
    "C = np.random.rand(d,d,d);G = np.random.rand(d,d,d)\n",
    "\n",
    "DQ, DR = LA.qr(D.reshape(d**2, d)); DQ = DQ.reshape(d,d,d)\n",
    "EQ, ER = LA.qr(E.reshape(d**2, d)); EQ = EQ.reshape(d,d,d)\n",
    "B_DE_ = ncon([B,DR,ER],[[1,2,-3],[-1,1],[-2,2]])\n",
    "BQ, BR = LA.qr(B_DE_.reshape(d**2,d)); BQ = BQ.reshape(d,d,d)\n",
    "\n",
    "FQ, FR = LA.qr(F.reshape(d**2,d)); FQ = FQ.reshape(d,d,d)\n",
    "\n",
    "GQ, GR = LA.qr(G.reshape(d**2,d)); GQ = GQ.reshape(d,d,d)\n",
    "C_G_ = ncon([C, GR],[[1,-2,-3],[-1,1]])\n",
    "CQ, CR = LA.qr(C_G_.reshape(d**2,d)); CQ = CQ.reshape(d,d,d)\n",
    "\n",
    "#Comprmere BR, FR, CR in A\n",
    "Atilde = ncon([A, BR, FR, CR],[[1,-2,2,3],[-1,1],[-3,2],[-4,3]])\n",
    "\n",
    "#Coprimere Aprime con BQ,DQ,EQ e FQ ed CQ,GQ\n",
    "connectionlist = [[3,-5,4,5],[1,2,3],[6,-10,5],[-1,-2,1],[-3,-4,2],[-6,-7,4],[-8,-9,6]]\n",
    "T1 = ncon([Atilde, BQ, CQ, DQ, EQ, FQ, GQ], connectionlist)\n",
    "T0 = ncon([A, B, C, D, E, F, G], connectionlist)\n",
    "\n",
    "dH = LA.norm(T0-T1)/LA.norm(T0)\n",
    "print(np.round(dH,6))\n"
   ]
  },
  {
   "cell_type": "markdown",
   "metadata": {},
   "source": [
    "Direct orthogonalization -> iterative principal square root application on the density matrix of each branch, then apply gaugin on the tensor that we want to be the orthogalization center"
   ]
  },
  {
   "cell_type": "code",
   "execution_count": 58,
   "metadata": {},
   "outputs": [
    {
     "name": "stdout",
     "output_type": "stream",
     "text": [
      "0.281466\n"
     ]
    }
   ],
   "source": [
    "d = 3\n",
    "#calcolo matrixi densità dei vari branch\n",
    "rho1 = ncon([B,D,E,B,D,E],[[5,6,-2],[1,2,5],[3,4,6],[7,8,-1],[1,2,7],[3,4,8]])\n",
    "rho2 = ncon([F,F],[[1,2,-2],[1,2,-1]])\n",
    "rho3 = ncon([C,G,C,G],[[3,5,-2],[1,2,3],[4,5,-1],[1,2,4]])\n",
    "\n",
    "#calcolo della psr di ogni matrice densità\n",
    "d1,u1 = LA.eigh(rho1); psr_d1 = np.sqrt(abs(d1))\n",
    "d2,u2 = LA.eigh(rho2); psr_d2 = np.sqrt(abs(d2))\n",
    "d3,u3 = LA.eigh(rho3); psr_d3 = np.sqrt(abs(d3))\n",
    "\n",
    "#creo le matrici di gauge ossia Xi= ui @ psr_di @ ui.T e Xi^(-1) = ui @ 1/psq_di @ ui.T per ogni i in braches \n",
    "X1 = u1 @ np.diag(psr_d1) @ u1.T; X1_inv = u1 @ np.diag(1/psr_d1) @ u1.T \n",
    "X2 = u2 @ np.diag(psr_d2) @ u2.T; X2_inv = u2 @ np.diag(1/psr_d2) @ u2.T \n",
    "X3 = u3 @ np.diag(psr_d3) @ u3.T; X3_inv = u3 @ np.diag(1/psr_d3) @ u3.T\n",
    "\n",
    "#Applico la gauge nel seguente modo: Xi^(-1) al primo tensore del i-esimo branch e Xi al tensore che si vuole rendere centro di ortogonalità\n",
    "Aprime = ncon([A,X1,X2,X3],[[1,-1,2,3],[-2,1],[-3,2],[-4,3]])\n",
    "Bprime = ncon([B, X1_inv],[[-1,-2,1],[1,-3]])\n",
    "Fprime = ncon([F, X2_inv],[[-1,-2,1],[1,-3]])\n",
    "Cprime = ncon([C, X3_inv],[[-1,-2,1],[1,-3]])\n",
    "\n",
    "H0 = ncon([A,B,C,D,E,F,G], connectionlist)\n",
    "H1 = ncon([Aprime, Bprime, Cprime, D, E , Fprime, G], connectionlist)\n",
    "\n",
    "dH = LA.norm(H0 - H1) / LA.norm(H0)\n",
    "print(np.round(dH, 6))\n"
   ]
  },
  {
   "cell_type": "code",
   "execution_count": 57,
   "metadata": {},
   "outputs": [
    {
     "name": "stdout",
     "output_type": "stream",
     "text": [
      "2.0493521951200493e-15\n"
     ]
    }
   ],
   "source": [
    "d = 3\n",
    "A = np.random.rand(d,d,d,d); B = np.random.rand(d,d,d) \n",
    "C = np.random.rand(d,d,d); D = np.random.rand(d,d,d) \n",
    "E = np.random.rand(d,d,d); F = np.random.rand(d,d,d) \n",
    "G = np.random.rand(d,d,d)\n",
    "# compute density matrices and their principle square roots\n",
    "rho1 = ncon([B,D,E,B,D,E],[[5,6,-2],[1,2,5],[3,4,6],[7,8,-1],[1,2,7],[3,4,8]])\n",
    "rho2 = ncon([F,F],[[1,2,-2],[1,2,-1]])\n",
    "rho3 = ncon([C,G,C,G],[[3,5,-2],[1,2,3],[4,5,-1],[1,2,4]])\n",
    "d1, u1 = LA.eigh(rho1); sq_d1 = np.sqrt(abs(d1))\n",
    "d2, u2 = LA.eigh(rho2); sq_d2 = np.sqrt(abs(d2))\n",
    "d3, u3 = LA.eigh(rho3); sq_d3 = np.sqrt(abs(d3))\n",
    "X1 = u1 @ np.diag(sq_d1) @ u1.T; X1inv = u1 @ np.diag(1/sq_d1) @ u1.T\n",
    "X2 = u2 @ np.diag(sq_d2) @ u2.T; X2inv = u2 @ np.diag(1/sq_d2) @ u2.T\n",
    "X3 = u3 @ np.diag(sq_d3) @ u3.T; X3inv = u3 @ np.diag(1/sq_d3) @ u3.T\n",
    "# execute gauge changes\n",
    "Aprime = ncon([A,X1,X2,X3],[[1,-2,2,3],[-1,1],[-3,2],[-4,3]])\n",
    "Bprime = ncon([B,X1inv],[[-1,-2,1],[1,-3]])\n",
    "Fprime = ncon([F,X2inv],[[-1,-2,1],[1,-3]])\n",
    "Cprime = ncon([C,X3inv],[[-1,-2,1],[1,-3]])\n",
    "# new network is formed from tensors: {Aprime,Bprime,Cprime,D,E,Fprime,G}\n",
    "\n",
    "# check both networks evaluate to the same tensor\n",
    "connectlist = [[3,-5,4,5],[1,2,3],[6,-10,5],[-1,-2,1],[-3,-4,2],[-6,-7,4],[-8,-9,6]]\n",
    "H0 = ncon([A,B,C,D,E,F,G],connectlist)\n",
    "H1 = ncon([Aprime,Bprime,Cprime,D,E,Fprime,G],connectlist)\n",
    "dH = LA.norm(H0 - H1) / LA.norm(H0)\n",
    "\n",
    "print(dH)"
   ]
  },
  {
   "cell_type": "markdown",
   "metadata": {},
   "source": [
    "PROBLEM SET 3"
   ]
  },
  {
   "cell_type": "code",
   "execution_count": 111,
   "metadata": {},
   "outputs": [
    {
     "name": "stdout",
     "output_type": "stream",
     "text": [
      "(a): 17331274.432963647\n",
      "(b): 9.458269336644307e-07\n",
      "(c): 3.523979934561268e-16\n",
      "(d): 1.0618346029950562e-07\n"
     ]
    }
   ],
   "source": [
    "# A_ijk B_klm C_mno = Hijlno\n",
    "# Ogni tensore è definito element-wise => Aijk = sqrt(i+2i+3k+6) \n",
    "\n",
    "d = 12\n",
    "A = np.zeros((d,d,d))\n",
    "for i in range(d):\n",
    "    for j in range (d):\n",
    "        for k in range(d):\n",
    "            A[i][j][k] = np.sqrt(i+2*j+3*k+6)\n",
    "B = np.copy(A)\n",
    "C = np.copy(A)\n",
    "\n",
    "# task A\n",
    "H0 = ncon([A,B,C],[[-1,-2,1],[1,-3,2],[2,-4,-5]])\n",
    "dH0 = LA.norm(H0)\n",
    "print(\"(a):\",dH0)\n",
    "\n",
    "# task B\n",
    "CL,chi, CR = LA.svd(C.reshape(d,d**2), full_matrices=False)\n",
    "CL_ = CL[:,:2]; chi_ = np.diag(chi[:2]); CR_ = CR.reshape(d,d,d)[:2,:,:]\n",
    "\n",
    "\n",
    "H1 = ncon([A,B,CL_,chi_,CR_],[[-1,-2,1],[1,-3,2],[2,3],[3,4],[4,-4,-5]])\n",
    "dH1 = LA.norm(H0 - H1)/dH0\n",
    "print(\"(b):\",dH1)\n",
    "#oppure applicare sqrt(chi_) ad CL_ e l'altra parte a CR_\n",
    "\n",
    "# task C\n",
    "AQ, AR = LA.qr(A.reshape(d**2,d)); AQ = AQ.reshape(d,d,d)\n",
    "Btilde = ncon([AR,B],[[-1,1],[1,-2,-3]])\n",
    "BQ, BR = LA.qr(Btilde.reshape(d**2,d)); BQ = BQ.reshape(d,d,d)\n",
    "Ctilde = ncon([BR,C],[[-1,1],[1,-2,-3]])\n",
    "\n",
    "H2 = ncon([AQ,BQ,Ctilde],[[-1,-2,1],[1,-3,2],[2,-4,-5]])\n",
    "dH2 = LA.norm(H0 - H2)/dH0\n",
    "print(\"(c):\",dH2)\n",
    "\n",
    "# task D\n",
    "\n",
    "CtildeL,Xtilde, CtildeR = LA.svd(Ctilde.reshape(d,d**2), full_matrices=False)\n",
    "CtildeL_ = CtildeL[:,:2]; Xtilde_ = np.diag(Xtilde[:2]); CtildeR_ = CtildeR.reshape(d,d,d)[:2,:,:]\n",
    "H3 = ncon([AQ,BQ,CtildeL_,Xtilde_,CtildeR_],[[-1,-2,1],[1,-3,2],[2,3],[3,4],[4,-4,-5]])\n",
    "dH3 = LA.norm(H0 - H3)/dH0\n",
    "print(\"(d):\", dH3)"
   ]
  },
  {
   "cell_type": "markdown",
   "metadata": {},
   "source": [
    "CANONICAL FORM"
   ]
  },
  {
   "cell_type": "markdown",
   "metadata": {},
   "source": [
    "Come scomporre un rank-N tensor H in un network di tensori T {A,B,C,...} seguendo una particolare geometria ed assicurandosi che la scelta dei tensori sia quella che minimizza la distanza || H  - T || data una certa bond dimension massima X?"
   ]
  },
  {
   "cell_type": "markdown",
   "metadata": {},
   "source": [
    "MULTI-STAGE DECOMPOSITION\n",
    "\n",
    "procedure inversa della routine standard di contrazione in cui però ci si deve assicurare che il tensore che viene decomposto ad ogni step sia il centro di ortogonalità in modo tale da garantire che l'errore commesso nel troncamento, globalmente, sia minimizzato\n"
   ]
  },
  {
   "cell_type": "code",
   "execution_count": 2,
   "metadata": {},
   "outputs": [],
   "source": [
    "import numpy as np\n",
    "from numpy import linalg as LA\n",
    "from ncon import ncon"
   ]
  },
  {
   "cell_type": "code",
   "execution_count": 10,
   "metadata": {},
   "outputs": [
    {
     "data": {
      "text/plain": [
       "2.0"
      ]
     },
     "execution_count": 10,
     "metadata": {},
     "output_type": "execute_result"
    }
   ],
   "source": [
    "d = 5\n",
    "X = 3\n",
    "H0 = (np.sqrt(1+np.arange(d**7))).reshape(d,d,d,d,d,d,d).transpose(6,5,4,3,2,1,0)"
   ]
  },
  {
   "cell_type": "code",
   "execution_count": 111,
   "metadata": {},
   "outputs": [
    {
     "name": "stdout",
     "output_type": "stream",
     "text": [
      "6.381973359135355e-05\n"
     ]
    }
   ],
   "source": [
    "tempH0 = H0.reshape(d**2, d**5)\n",
    "U0,S0,V0 = LA.svd(tempH0, full_matrices=False)\n",
    "\n",
    "#Creiamo il tensore C ossia U0 isometria (5,5,chi)\n",
    "U0 = U0.reshape(d,d,d**2)[:,:,:X] #U0<----\n",
    "S0 = np.diag(S0[:X])\n",
    "V0 = V0.reshape(d**2,d,d,d,d,d)[:X,:,:,:,:,:]\n",
    "H1 = ncon([S0,V0],[[-1,1],[1,-2,-3,-4,-5,-6]])\n",
    "\n",
    "#Creiamo il tensore D ossia U1 sempre isomeria (5,5,chi)\n",
    "H1 = H1.transpose(1,2,0,3,4,5)\n",
    "U1, S1, V1 = LA.svd(H1.reshape(d**2, X*d**3), full_matrices=False)\n",
    "U1 = U1.reshape(d,d,d**2)[:,:,:X] #U1<----\n",
    "S1 = np.diag(S1[:X])\n",
    "V1 = V1.reshape(d**2,X,d,d,d)[:X,:,:,:,:]\n",
    "H2 = ncon([S1,V1],[[-1,1],[1,-2,-3,-4,-5]]).transpose(1,0,2,3,4)\n",
    "\n",
    "# Usare H2 per creare U2 ossia il tensore A\n",
    "U2, S2, V2 = LA.svd(H2.reshape(X**2, d**3), full_matrices=False)\n",
    "U2 = U2.reshape(X,X,X**2)[:,:,:X] #U2 <------\n",
    "S2 = np.diag(S2[:X])\n",
    "V2 = V2.reshape(X**2, d,d,d)[:X,:,:,:]\n",
    "H3 = ncon([S2,V2],[[-1,1],[1,-2,-3,-4]])\n",
    "\n",
    "#Ora stacchiamo l'ultimo tensoe E dalla destra di H3\n",
    "U3, S3, V3 = LA.svd(H3.reshape(X*d, d**2), full_matrices=False)\n",
    "U3 = U3.reshape(X,d,-1)[:,:,:X]\n",
    "S3 = np.diag(S3[:X])\n",
    "V3 = V3.reshape(-1,d,d)[:X,:,:]  #<---V3 isometria destra\n",
    "H4 = ncon([U3,S3],[[-1,-2,1],[1,-3]]) #<--- H4 è il centro di ortogonalità\n",
    "\n",
    "H0recovered = ncon([U0,U1,U2,H4,V3],[[-1,-2,1],[-3,-4,2],[1,2,3],[3,-5,4],[4,-6,-7]])\n",
    "\n",
    "deltaRecover = LA.norm(H0 - H0recovered)/LA.norm(H0)\n",
    "print(deltaRecover)"
   ]
  },
  {
   "cell_type": "markdown",
   "metadata": {},
   "source": [
    "SETTARE IL LINK B-C come centro di ortogonalità\n",
    "\n"
   ]
  },
  {
   "cell_type": "code",
   "execution_count": 202,
   "metadata": {},
   "outputs": [
    {
     "name": "stdout",
     "output_type": "stream",
     "text": [
      "1.3642823884534816e-08\n"
     ]
    }
   ],
   "source": [
    "d = 12\n",
    "A = np.zeros((d,d,d))\n",
    "for i in range(d):\n",
    "    for j in range (d):\n",
    "        for k in range(d):\n",
    "            A[i][j][k] = np.sqrt(i+2*j+3*k+6)\n",
    "B = np.copy(A)\n",
    "C = np.copy(A)\n",
    "\n",
    "#creiamo il tensore delta_ij (sigma) che sarà inserito tra B e C\n",
    "# cosicché si possa applicare la direct orthogonalization vedendo\n",
    "# vedendo C come centro con 2 free index e 1 branch C->B->A\n",
    "\n",
    "#Mi servono quindi la rho di B->A e la rho di C\n",
    "\n",
    "sigma = np.eye(d)\n",
    "rhoC = ncon([C,C],[[-1,1,2],[-2,1,2]])\n",
    "rhoAB = ncon([A,A,B,B],[[1,2,3],[1,2,4],[3,5,-1],[4,5,-2]])\n",
    "\n",
    "dC, uC = LA.eigh(rhoC)\n",
    "dAB, uAB = LA.eigh(rhoAB)\n",
    "XC = uC @ np.diag(np.sqrt(abs(dC))) @ uC.T; XC_inv = uC @ np.diag(1/np.sqrt(abs(dC))) @ uC.T\n",
    "XAB = uAB @ np.diag(np.sqrt(abs(dAB))) @ uAB.T; XAB_inv = uAB @ np.diag(1/np.sqrt(abs(dAB))) @ uAB.T\n",
    "\n",
    "B_ = ncon([B,XAB_inv], [[-1,-2,1],[1,-3]])\n",
    "C_ = ncon([XC_inv,C],[[-1,1],[1,-2,-3]])\n",
    "_sigma_ = ncon([XAB, sigma, XC],[[-1,1],[1,2],[2,-2]])\n",
    "\n",
    "\n",
    "H0 = ncon([A,B,C],[[-1,-2,1],[1,-3,2],[2,-4,-5]])\n",
    "H1 = ncon([A, B_, _sigma_, C_],[[-1,-2,1],[1,-3,2],[2,3],[3,-4,-5]])\n",
    "\n",
    "deltaH1_H0 = LA.norm(H0 - H1) / LA.norm(H0)\n",
    "print(deltaH1_H0)\n",
    "\n"
   ]
  },
  {
   "cell_type": "markdown",
   "metadata": {},
   "source": [
    "SETTARE UN LINK come centro di ortogonaltà senza che ci sia effettivamente un tensore, ma anche una identità\n"
   ]
  },
  {
   "cell_type": "code",
   "execution_count": 203,
   "metadata": {},
   "outputs": [
    {
     "name": "stdout",
     "output_type": "stream",
     "text": [
      "(12, 12) (12,) (12, 12)\n",
      "(12, 12, 12) (12, 12, 12) (12, 12, 12) (12, 12)\n",
      "1.3642824246176408e-08\n"
     ]
    }
   ],
   "source": [
    "sU, sS, sVh = LA.svd(_sigma_, full_matrices=False)\n",
    "print(sU.shape, sS.shape, sVh.shape)\n",
    "B__ = ncon([B_, sU],[[-1,-2,1],[1,-3]])\n",
    "C__ = ncon([C_, sVh],[[1,-2,-3],[-1,1]])\n",
    "print(A.shape,B__.shape, C__.shape, np.diag(sS).shape)\n",
    "\n",
    "H2 = ncon([A,B__, np.diag(sS), C__],[[-1,-2,1],[1,-3,2],[2,3],[3,-4,-5]])\n",
    "deltaH2_H0 = LA.norm(H0 - H2) / LA.norm(H0)\n",
    "print(deltaH2_H0)"
   ]
  },
  {
   "cell_type": "code",
   "execution_count": 204,
   "metadata": {},
   "outputs": [
    {
     "name": "stdout",
     "output_type": "stream",
     "text": [
      "2.823340050080339 3.6303037732712415e-09 2.275280748253659\n"
     ]
    }
   ],
   "source": [
    "uH0, sH0, vH0h = LA.svd(H0.reshape(d**3,d**2), full_matrices=False)\n",
    "uH0=uH0.reshape(d,d,d,d**2)[:,:,:,:d]\n",
    "vH0h = vH0h.reshape(d**2,d,d)[:d,:,:]\n",
    "sH0 = sH0[:d]\n",
    "\n",
    "deltaUH = LA.norm(abs(uH0) - abs(ncon([A,B__],[[-1,-2,1],[1,-3,-4]])))\n",
    "deltaVH =  LA.norm(abs(vH0h) - abs(C__))\n",
    "deltaSH =  LA.norm(abs(sH0) - abs(sS))\n",
    "\n",
    "print(deltaUH, deltaSH, deltaVH)\n",
    "\n"
   ]
  },
  {
   "cell_type": "code",
   "execution_count": 206,
   "metadata": {},
   "outputs": [
    {
     "name": "stdout",
     "output_type": "stream",
     "text": [
      "2.823340050080339 3.6303037732712415e-09 2.275280748253659\n"
     ]
    }
   ],
   "source": [
    "H = ncon([A,B,C],[[-1,-2,1],[1,-3,2],[2,-4,-5]])\n",
    "uH0, sH0, vH0h = LA.svd(H.reshape(d**3,d**2), full_matrices=False)\n",
    "uH0=uH0[:,:d].reshape(d,d,d,d)\n",
    "vH0h = vH0h[:d,:].reshape(d,d,d)\n",
    "sH0 = sH0[:d]\n",
    "\n",
    "deltaUH = LA.norm(abs(uH0) - abs(ncon([A,B__],[[-1,-2,1],[1,-3,-4]])))\n",
    "deltaVH =  LA.norm(abs(vH0h) - abs(C__))\n",
    "deltaSH =  LA.norm(abs(sH0) - abs(sS))\n",
    "\n",
    "print(deltaUH, deltaSH, deltaVH)"
   ]
  },
  {
   "cell_type": "code",
   "execution_count": 201,
   "metadata": {},
   "outputs": [
    {
     "name": "stdout",
     "output_type": "stream",
     "text": [
      "(5, 5, 5)\n",
      "2.8185396808434112e-14 3.7136586778440396e-14 2.3765892503894304e-14\n"
     ]
    }
   ],
   "source": [
    "d = 5 # index dimension\n",
    "A = np.random.rand(d,d,d)\n",
    "B = np.random.rand(d,d,d)\n",
    "C = np.random.rand(d,d,d)\n",
    "Sig = np.eye(d); # initial link matrix\n",
    "\n",
    "# generate gauge change matrices\n",
    "rho1 = ncon([A,A,B,B],[[1,2,3],[1,2,4],[3,5,-1],[4,5,-2]])\n",
    "rho2 = ncon([C,C],[[-1,1,2],[-2,1,2]])\n",
    "d1, u1 = LA.eigh(rho1); sq_d1 = np.sqrt(abs(d1))\n",
    "d2, u2 = LA.eigh(rho2); sq_d2 = np.sqrt(abs(d2))\n",
    "X1 = u1 @ np.diag(sq_d1) @ u1.T; X1inv = u1 @ np.diag(1/sq_d1) @ u1.T\n",
    "X2 = u2 @ np.diag(sq_d2) @ u2.T; X2inv = u2 @ np.diag(1/sq_d2) @ u2.T\n",
    "# implement gauge change\n",
    "Bprime = ncon([B,X1inv],[[-1,-2,1],[1,-3]])\n",
    "Cprime = ncon([X2inv,C],[[-1,1],[1,-2,-3]])\n",
    "Sig_prime = X1 @ Sig @ X2\n",
    "# check result\n",
    "H0 = ncon([A,B,C],[[-1,-2,1],[1,-3,2],[2,-4,-5]])\n",
    "H1 = ncon([A,Bprime,Sig_prime,Cprime],[[-1,-2,1],[1,-3,2],[2,3],[3,-4,-5]])\n",
    "totErr = LA.norm(H0 - H1) / LA.norm(H0) \n",
    "\n",
    "utemp, Sig_pp, vhtemp = LA.svd(Sig_prime,full_matrices=False)\n",
    "Bpp = ncon([Bprime,utemp],[[-1,-2,1],[1,-3]])\n",
    "print(Bpp.shape)\n",
    "Cpp = ncon([Cprime,vhtemp],[[1,-2,-3],[-1,1]])\n",
    "# check result\n",
    "H2 = ncon([A,Bpp,np.diag(Sig_pp),Cpp],[[-1,-2,1],[1,-3,2],[2,3],[3,-4,-5]])\n",
    "totErr = LA.norm(H0 - H2) / LA.norm(H0) \n",
    "\n",
    "H = ncon([A,B,C],[[-1,-2,1],[1,-3,2],[2,-4,-5]])\n",
    "utemp,stemp,vhtemp = LA.svd(H.reshape(d**3,d**2),full_matrices=False)\n",
    "UH = utemp[:,:d].reshape(d,d,d,d)\n",
    "SH = stemp[:d]\n",
    "VH = vhtemp[:d,:].reshape(d,d,d)\n",
    "\n",
    "# compare with previous tensors from orthonormal form \n",
    "ErrU = LA.norm(abs(UH) - abs(ncon([A,Bpp],[[-1,-2,1],[1,-3,-4]])))\n",
    "ErrS = LA.norm(SH - Sig_pp) \n",
    "ErrV = LA.norm(abs(VH) - abs(Cpp))\n",
    "\n",
    "print(ErrU, ErrS, ErrV)"
   ]
  },
  {
   "cell_type": "markdown",
   "metadata": {},
   "source": [
    "CANONICAL FORMS\n"
   ]
  },
  {
   "cell_type": "code",
   "execution_count": 3,
   "metadata": {},
   "outputs": [],
   "source": [
    "d = 6\n",
    "H = np.zeros((d,d,d,d,d))\n",
    "for i in range(d):\n",
    "    for j in range(d):\n",
    "        for k in range(d):\n",
    "            for l in range(d):\n",
    "                for m in range(d):\n",
    "                    H[i,j,k,l,m] = np.sqrt(i+2*j+3*k+4*l+5*m + 15)"
   ]
  },
  {
   "cell_type": "code",
   "execution_count": 4,
   "metadata": {},
   "outputs": [],
   "source": [
    "#task (a)\n",
    "dH0 = LA.norm(H)\n",
    "H1 = H/dH0 #normalized tensor H\n"
   ]
  },
  {
   "cell_type": "code",
   "execution_count": 5,
   "metadata": {},
   "outputs": [
    {
     "name": "stdout",
     "output_type": "stream",
     "text": [
      "9.504156628914277e-11\n"
     ]
    }
   ],
   "source": [
    "# task (b): multi stage decomposition to obtain decomposition H1 = {A,B,C} con X = 6\n",
    "X = 6\n",
    "A,s,vh = LA.svd(H1.reshape(d**2,d**3), full_matrices=False)\n",
    "A = A[:,:X].reshape(d,d,X)\n",
    "svh = (np.diag(s[:X])@vh[:X,:]).reshape(X,d,d,d)\n",
    "\n",
    "B, sb, C = LA.svd(svh.reshape(X*d,d**2), full_matrices=False)\n",
    "B = B[:,:X].reshape(X,d,X)\n",
    "C = (np.diag(sb[:X])@C[:X,:]).reshape(X,d,d)\n",
    "\n",
    "H2 = ncon([A,B,C],[[-1,-2,1],[1,-3,2],[2,-4,-5]])\n",
    "dH2 = LA.norm(H1 - H2)\n",
    "print(dH2)"
   ]
  },
  {
   "cell_type": "code",
   "execution_count": 6,
   "metadata": {},
   "outputs": [
    {
     "name": "stdout",
     "output_type": "stream",
     "text": [
      "Singular from SVD of H2:\n",
      " [9.99958526e-01 9.10710202e-03 7.97572086e-05 1.61449112e-06\n",
      " 3.64748531e-08 8.06121488e-10] \n",
      "Singular values contained in sigma'_AB:\n",
      " [9.99958526e-01 9.10710202e-03 7.97572086e-05 1.61449112e-06\n",
      " 3.64748531e-08 8.06121553e-10] \n",
      "Relative error:\n",
      " 2.005477420211846e-16\n"
     ]
    }
   ],
   "source": [
    "#task (c) make the link A-B the OC\n",
    "sigma = np.eye(X)\n",
    "rhoA = ncon([A,A],[[1,2,-1],[1,2,-2]])\n",
    "rhoBC = ncon([B,B,C,C],[[-1,1,2],[-2,1,3],[2,4,5],[3,4,5]])\n",
    "\n",
    "dA, uA =LA.eigh(rhoA); sr_A = np.sqrt(abs(dA))\n",
    "dBC, uBC = LA.eigh(rhoBC); sr_BC = np.sqrt(abs(dBC))\n",
    "XA = uA @ np.diag(sr_A) @ uA.T ; XA_inv = uA @ np.diag(1/sr_A) @ uA.T\n",
    "XBC = uBC @ np.diag(sr_BC) @ uBC.T ; XBC_inv = uBC @ np.diag(1/sr_BC) @ uBC.T\n",
    "\n",
    "sigma_p = XA @ sigma @ XBC\n",
    "A_ = ncon([A,XA_inv],[[-1,-2,1],[1,-3]])\n",
    "B_ = ncon([B,XBC_inv],[[1,-1,-2],[-3,1]])\n",
    "\n",
    "U, sigma_pp, Vh = LA.svd(sigma_p, full_matrices=False)\n",
    "\n",
    "Ap = ncon([A_,U],[[-1,-2,1],[1,-3]])\n",
    "Bp = ncon([B_, Vh],[[1,-1,-2],[-3,1]])\n",
    "\n",
    "_,sp,_ = LA.svd(H2.reshape(d**2,d**3), full_matrices=False)\n",
    "print(\"Singular from SVD of H2:\\n\",sp[:X],\"\\nSingular values contained in sigma'_AB:\\n\",sigma_pp,\"\\nRelative error:\\n\", LA.norm(sp[:X]- sigma_pp)) #dovrebbero essere equivalenti\n"
   ]
  },
  {
   "cell_type": "code",
   "execution_count": 7,
   "metadata": {},
   "outputs": [
    {
     "data": {
      "text/plain": [
       "6"
      ]
     },
     "execution_count": 7,
     "metadata": {},
     "output_type": "execute_result"
    }
   ],
   "source": [
    "#task (d)\n",
    "U.shape[0]"
   ]
  },
  {
   "cell_type": "markdown",
   "metadata": {},
   "source": [
    "COMPILING: metodo del padding"
   ]
  },
  {
   "cell_type": "code",
   "execution_count": 135,
   "metadata": {},
   "outputs": [
    {
     "name": "stdout",
     "output_type": "stream",
     "text": [
      "(4, 4) (4,) (4, 8)\n"
     ]
    }
   ],
   "source": [
    "import numpy as np\n",
    "from ncon import ncon\n",
    "from numpy import linalg as LA \n",
    "\n",
    "M = np.random.randn(2**5)\n",
    "sites = [0 for x in range(5)]\n",
    "\n",
    "A1,S,Vh = LA.svd(M.reshape(2,2**4), full_matrices=False)\n",
    "A1=A1.reshape(1,2,2)\n",
    "sites[0] = A1\n",
    "\n",
    "M2 = (np.diag(S)@Vh)/LA.norm(S)\n",
    "A2,S,Vh = LA.svd(M2.reshape(2**2, 2**3), full_matrices=False)\n",
    "A2 = A2[:,:2].reshape(2,2,2)\n",
    "sites[1] = A2\n",
    "\n",
    "\n",
    "M3 = ((np.diag(S[:2])@Vh[:2,:]).reshape(2,2,2,2))/LA.norm(S)\n",
    "\n",
    "A3,S,Vh = LA.svd(M3.reshape(2**2, 2**2), full_matrices=False)\n",
    "A3 = A3[:,:2].reshape(2,2,2)\n",
    "sites[2] = A3\n",
    "\n",
    "M4 = ((np.diag(S[:2])@Vh[:2,:]).reshape(2,2,2))/LA.norm(S)\n",
    "\n",
    "A4,S,Vh = LA.svd(M4.reshape(2**2, 2), full_matrices=False)\n",
    "A4 = A4[:,:2].reshape(2,2,2)\n",
    "sites[3] = A4\n",
    "\n",
    "M5 = ((np.diag(S[:2])@Vh[:2,:]).reshape(2,2,1))/LA.norm(S)\n",
    "sites[4] = M5\n"
   ]
  },
  {
   "cell_type": "code",
   "execution_count": 249,
   "metadata": {},
   "outputs": [
    {
     "name": "stdout",
     "output_type": "stream",
     "text": [
      "Checking Isometries:\n",
      "[[1. 0.]\n",
      " [0. 1.]]\n",
      "[[1. 0.]\n",
      " [0. 1.]]\n",
      "[[ 1. -0.]\n",
      " [-0.  1.]]\n",
      "[[ 1. -0.]\n",
      " [-0.  1.]]\n",
      "[[1.]]\n",
      "Converting Rank-3 tensor (j,l,k) in Rank-2 tensor (j*l,k)\n",
      "Creating null_spaces and G matrix [A, X] where X is such that A^dagX = 0 and X^dagX = I\n",
      "Isomery: \n",
      " [[ 0.97433825 -0.2250888 ]\n",
      " [ 0.2250888   0.97433825]]\n",
      "Null_space: \n",
      " []\n",
      "Extended: \n",
      " [[ 0.97433825 -0.2250888 ]\n",
      " [ 0.2250888   0.97433825]]\n",
      "First column:  [0.97433825 0.2250888 ]\n",
      "Second column:  [-0.2250888   0.97433825]\n",
      "Isomery: \n",
      " [[ 0.53648596 -0.02870347]\n",
      " [ 0.69910355  0.570825  ]\n",
      " [-0.35252287  0.68564031]\n",
      " [ 0.31490421 -0.45081291]]\n",
      "Null_space: \n",
      " [[ 0.66455359 -0.51935291]\n",
      " [-0.37668181  0.20862371]\n",
      " [ 0.5563992   0.30991114]\n",
      " [ 0.32695454  0.76857256]]\n",
      "Extended: \n",
      " [[ 0.53648596 -0.02870347  0.66455359 -0.51935291]\n",
      " [ 0.69910355  0.570825   -0.37668181  0.20862371]\n",
      " [-0.35252287  0.68564031  0.5563992   0.30991114]\n",
      " [ 0.31490421 -0.45081291  0.32695454  0.76857256]]\n",
      "First column:  [ 0.53648596  0.69910355 -0.35252287  0.31490421]\n",
      "Second column:  [-0.02870347  0.570825    0.68564031 -0.45081291]\n",
      "Isomery: \n",
      " [[-0.4947427   0.7314352 ]\n",
      " [-0.77820527 -0.14520825]\n",
      " [ 0.36912702  0.66571905]\n",
      " [-0.11563503 -0.02711559]]\n",
      "Null_space: \n",
      " [[-0.46813909 -0.03283284]\n",
      " [ 0.60262069 -0.10079397]\n",
      " [ 0.646212    0.05452933]\n",
      " [ 0.01020547  0.99286914]]\n",
      "Extended: \n",
      " [[-0.4947427   0.7314352  -0.46813909 -0.03283284]\n",
      " [-0.77820527 -0.14520825  0.60262069 -0.10079397]\n",
      " [ 0.36912702  0.66571905  0.646212    0.05452933]\n",
      " [-0.11563503 -0.02711559  0.01020547  0.99286914]]\n",
      "First column:  [-0.4947427  -0.77820527  0.36912702 -0.11563503]\n",
      "Second column:  [ 0.7314352  -0.14520825  0.66571905 -0.02711559]\n",
      "Isomery: \n",
      " [[-0.90828128 -0.16870543]\n",
      " [ 0.24348781 -0.68753616]\n",
      " [ 0.08340932  0.69374711]\n",
      " [ 0.32982068 -0.1324668 ]]\n",
      "Null_space: \n",
      " [[ 0.24894945  0.29083974]\n",
      " [ 0.65460835 -0.19873506]\n",
      " [ 0.71346566  0.05219765]\n",
      " [ 0.02188245  0.93444744]]\n",
      "Extended: \n",
      " [[-0.90828128 -0.16870543  0.24894945  0.29083974]\n",
      " [ 0.24348781 -0.68753616  0.65460835 -0.19873506]\n",
      " [ 0.08340932  0.69374711  0.71346566  0.05219765]\n",
      " [ 0.32982068 -0.1324668   0.02188245  0.93444744]]\n",
      "First column:  [-0.90828128  0.24348781  0.08340932  0.32982068]\n",
      "Second column:  [-0.16870543 -0.68753616  0.69374711 -0.1324668 ]\n",
      "Isomery: \n",
      " [[-0.91278458]\n",
      " [ 0.13326302]\n",
      " [-0.05577631]\n",
      " [-0.38203964]]\n",
      "Null_space: \n",
      " [[ 0.13326302 -0.05577631 -0.38203964]\n",
      " [ 0.99071561  0.00388592  0.02661657]\n",
      " [ 0.00388592  0.99837358 -0.01114018]\n",
      " [ 0.02661657 -0.01114018  0.92369539]]\n",
      "Extended: \n",
      " [[-0.91278458  0.13326302 -0.05577631 -0.38203964]\n",
      " [ 0.13326302  0.99071561  0.00388592  0.02661657]\n",
      " [-0.05577631  0.00388592  0.99837358 -0.01114018]\n",
      " [-0.38203964  0.02661657 -0.01114018  0.92369539]]\n",
      "First column:  [-0.91278458  0.13326302 -0.05577631 -0.38203964]\n",
      "Second column:  [0.13326302 0.99071561 0.00388592 0.02661657]\n"
     ]
    }
   ],
   "source": [
    "import numpy as np\n",
    "from numpy import linalg as LA\n",
    "from scipy.linalg import null_space\n",
    "from ncon import ncon\n",
    "\n",
    "\n",
    "\n",
    "N = 5\n",
    "psi = np.random.randn(2**N)\n",
    "mps_sites = [0 for _ in range(N)]\n",
    "\n",
    "\n",
    "Atemp, Stemp, Vhtemp = LA.svd(psi.reshape(2,2**(N-1)), full_matrices=False)\n",
    "mps_sites[0] = Atemp.reshape(1,2,2)  #shape della matrice A_1 ---> A_8 paper è 2,2 - mapping 1 a 1\n",
    "mps_sites[1] = (np.diag(Stemp)@Vhtemp)/LA.norm(Stemp)\n",
    "\n",
    "for i in range(1,N-1):\n",
    "    Atemp, Stemp, Vhtemp = LA.svd(mps_sites[i].reshape(2**2,2**(N-i-1)), full_matrices=False)\n",
    "    mps_sites[i] = Atemp[:,:2].reshape(2,2,2)\n",
    "    mps_sites[i+1] = ((np.diag(Stemp[:2])@Vhtemp[:2,:]).reshape(2,-1))/LA.norm(Stemp)\n",
    "\n",
    "mps_sites[-1] = ((np.diag(Stemp[:2])@Vhtemp[:2,:]).reshape(2,2,1))/LA.norm(Stemp)\n",
    "\n",
    "\n",
    "print(\"Checking Isometries:\")\n",
    "for site in mps_sites:\n",
    "    print(np.round((ncon([site,site],[[1,2,-1],[1,2,-2]]))))\n",
    "\n",
    "print(\"Converting Rank-3 tensor (j,l,k) in Rank-2 tensor (j*l,k)\")\n",
    "A_sites = [0 for _ in range(N)]\n",
    "for i in range(len(mps_sites)):\n",
    "    shape = mps_sites[i].shape\n",
    "    A_sites[i] = mps_sites[i].reshape(shape[0]*shape[1], shape[2])\n",
    "\n",
    "\n",
    "print(\"Creating null_spaces and G matrix [A, X] where X is such that A^dagX = 0 and X^dagX = I\")\n",
    "\n",
    "G = [0 for _ in range(N)]\n",
    "for i in range(len(A_sites)):\n",
    "    k = null_space(A_sites[i].conj().T)\n",
    "    G[i] = np.block([[A_sites[i],k]])\n",
    "    print(\"Isomery: \\n\" ,A_sites[i])\n",
    "    print(\"Null_space: \\n\", k)\n",
    "    print(\"Extended: \\n\", G[i])\n",
    "    print(\"First column: \", G[i][:,0])\n",
    "    print(\"Second column: \", G[i][:,1])\n",
    "\n",
    "\n",
    "\n",
    "\n",
    "G_rank4 = [G[0]]\n",
    "for Gs in G[1:]:\n",
    "    G_rank4.append(Gs.reshape(2,2,2,2))\n",
    "\n",
    "psi_2 = ncon([mps_sites[0],mps_sites[1],mps_sites[2],mps_sites[3],mps_sites[4]],[[-1,-2,1],[1,-3,2],[2,-4,3],[3,-5,4],[4,-6,-7]])\n",
    "deltaH = LA.norm(psi - psi_2) / LA.norm(psi)\n",
    "\n",
    "\n",
    "\n",
    "\n",
    "\n",
    "\n",
    "\n"
   ]
  },
  {
   "cell_type": "code",
   "execution_count": 75,
   "metadata": {},
   "outputs": [
    {
     "name": "stdout",
     "output_type": "stream",
     "text": [
      "[[ 1. -0.]\n",
      " [-0.  1.]]\n",
      "[[1. 0.]\n",
      " [0. 1.]]\n",
      "[[ 1. -0.]\n",
      " [-0.  1.]]\n",
      "[[ 1. -0.]\n",
      " [-0.  1.]]\n",
      "[[1.]]\n"
     ]
    }
   ],
   "source": [
    "for site in sites:\n",
    "    print(np.round(ncon([site,site],[[1,2,-1],[1,2,-2]])))\n"
   ]
  },
  {
   "cell_type": "code",
   "execution_count": 76,
   "metadata": {},
   "outputs": [],
   "source": [
    "import numpy as np\n",
    "from ncon import ncon\n",
    "from numpy import linalg as LA "
   ]
  },
  {
   "cell_type": "code",
   "execution_count": 80,
   "metadata": {},
   "outputs": [
    {
     "name": "stdout",
     "output_type": "stream",
     "text": [
      "(1, 2, 2) (2, 2, 2) (2, 2, 1)\n",
      "(2, 2) (4, 2) (4, 1)\n"
     ]
    }
   ],
   "source": [
    "A_1 = sites[0]\n",
    "A_n = sites[1]\n",
    "A_N = sites[-1]\n",
    "print(A_1.shape, A_n.shape, A_N.shape)\n",
    "\n",
    "A__1 =A_1.reshape(A_1.shape[0]*A_1.shape[1], A_1.shape[2])\n",
    "A__n =A_n.reshape(A_n.shape[0]*A_n.shape[1], A_n.shape[2])\n",
    "A__N =A_N.reshape(A_N.shape[0]*A_N.shape[1], A_N.shape[2])\n",
    "\n",
    "\n",
    "print(A__1.shape, A__n.shape, A__N.shape)\n",
    "\n",
    "\n"
   ]
  },
  {
   "cell_type": "code",
   "execution_count": 122,
   "metadata": {},
   "outputs": [
    {
     "data": {
      "text/plain": [
       "array([[ 1.,  0.,  0.,  0.],\n",
       "       [ 0.,  1.,  0., -0.],\n",
       "       [ 0.,  0.,  1., -0.],\n",
       "       [ 0., -0., -0.,  1.]])"
      ]
     },
     "execution_count": 122,
     "metadata": {},
     "output_type": "execute_result"
    }
   ],
   "source": [
    "from scipy.linalg import null_space\n",
    "K__n = null_space(A__n.conj().T)\n",
    "np.round(A__n.conj().T@K__n)\n",
    "G_n = np.block([[A__n, K__n]])\n",
    "np.round(G_n@G_n.T)"
   ]
  },
  {
   "cell_type": "code",
   "execution_count": 118,
   "metadata": {},
   "outputs": [
    {
     "data": {
      "text/plain": [
       "array([[ 0.25122711,  0.06053318,  0.22628963],\n",
       "       [ 0.9674523 , -0.00784237, -0.02931693],\n",
       "       [-0.00784237,  0.99811038, -0.00706391],\n",
       "       [-0.02931693, -0.00706391,  0.97359315]])"
      ]
     },
     "execution_count": 118,
     "metadata": {},
     "output_type": "execute_result"
    }
   ],
   "source": [
    "K__N = null_space(A__N.conj().T)\n",
    "np.round(A__N.conj().T@K__N)\n",
    "G_N = np.block([[A__N, K__N]])\n",
    "K__N"
   ]
  },
  {
   "cell_type": "code",
   "execution_count": 262,
   "metadata": {},
   "outputs": [
    {
     "data": {
      "text/plain": [
       "(array([[ 1., -0.,  0.,  0.],\n",
       "        [-0.,  1., -0.,  0.],\n",
       "        [ 0., -0.,  1., -0.],\n",
       "        [ 0.,  0., -0.,  1.]]),\n",
       " array([[ 1., -0., -0.,  0.],\n",
       "        [-0.,  1.,  0., -0.],\n",
       "        [-0.,  0.,  1.,  0.],\n",
       "        [ 0., -0.,  0.,  1.]]))"
      ]
     },
     "execution_count": 262,
     "metadata": {},
     "output_type": "execute_result"
    }
   ],
   "source": [
    "kernel = np.array((1,0,0,1,0,0,0,0)).reshape(4,2)\n",
    "G_test = np.block([A_sites[2], null_space(A_sites[2].conj().T).reshape(4,2)])\n",
    "\n",
    "np.round(G_test.conj().T@G_test),np.round( G_test@G_test.conj().T)"
   ]
  },
  {
   "cell_type": "code",
   "execution_count": null,
   "metadata": {},
   "outputs": [],
   "source": [
    "for site in sites:\n",
    "    A\n",
    "    "
   ]
  }
 ],
 "metadata": {
  "kernelspec": {
   "display_name": "test_qiksit",
   "language": "python",
   "name": "python3"
  },
  "language_info": {
   "codemirror_mode": {
    "name": "ipython",
    "version": 3
   },
   "file_extension": ".py",
   "mimetype": "text/x-python",
   "name": "python",
   "nbconvert_exporter": "python",
   "pygments_lexer": "ipython3",
   "version": "3.9.15"
  },
  "orig_nbformat": 4
 },
 "nbformat": 4,
 "nbformat_minor": 2
}
