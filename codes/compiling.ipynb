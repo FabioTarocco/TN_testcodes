{
 "cells": [
  {
   "cell_type": "markdown",
   "metadata": {},
   "source": [
    "GET A MPS WITH NATIVE BOND DIMENSION 2"
   ]
  },
  {
   "cell_type": "code",
   "execution_count": 1,
   "metadata": {},
   "outputs": [],
   "source": [
    "import numpy as np\n",
    "from ncon import ncon\n",
    "from numpy import linalg as LA \n",
    "from scipy.linalg import null_space as NS "
   ]
  },
  {
   "cell_type": "code",
   "execution_count": 9,
   "metadata": {},
   "outputs": [
    {
     "name": "stdout",
     "output_type": "stream",
     "text": [
      "31.62190163337136\n",
      "0.9999999999999999\n"
     ]
    }
   ],
   "source": [
    "N = 10\n",
    "chi = 4\n",
    "d = 2\n",
    "mps = np.random.randn((2**10))\n",
    "mps_norm = mps/LA.norm(mps)\n"
   ]
  },
  {
   "cell_type": "code",
   "execution_count": 5,
   "metadata": {},
   "outputs": [
    {
     "name": "stdout",
     "output_type": "stream",
     "text": [
      "(2,)\n",
      "(2, 512)\n",
      "(2, 512)\n",
      "[[1. 0. 0. 0. 0. 0. 0. 0.]\n",
      " [0. 0. 0. 0. 0. 0. 1. 0.]\n",
      " [0. 0. 1. 0. 0. 0. 0. 0.]\n",
      " [0. 0. 0. 1. 0. 0. 0. 0.]\n",
      " [0. 0. 0. 0. 1. 0. 0. 0.]\n",
      " [0. 0. 0. 0. 0. 1. 0. 0.]\n",
      " [0. 0. 0. 0. 0. 0. 0. 1.]\n",
      " [0. 1. 0. 0. 0. 0. 0. 0.]]\n",
      "0.0\n"
     ]
    }
   ],
   "source": [
    "mps_sites = [0 for _ in range(N)]\n",
    "U,S,V = LA.svd(mps_norm.reshape(d,d**(N-1)), full_matrices=False)\n",
    "mps_sites[0] = U.reshape(d,d)\n",
    "print(S.shape)\n",
    "print(V.shape)\n",
    "print((np.diag(S)@V).shape)\n",
    "\n",
    "U, S, V = LA.svd((np.diag(S)@V).reshape(d**2,-1), full_matrices=False)\n",
    "mps_sites[1] = U.reshape(d,d,d**2)\n",
    "U, S, V = LA.svd((np.diag(S)@V).reshape(d**3,-1), full_matrices=False)\n",
    "mps_sites[2] = U.reshape(d**2,d,d**3)\n",
    "\n",
    "onb_3 = ncon([mps_sites[0], mps_sites[1], mps_sites[2]],[[-1,1],[1,-2,2],[2,-3,-4]])\n",
    "print(onb_3.reshape(d**3,d**3))\n",
    "print(onb_3.reshape(d**3, d**3)[1]@onb_3.reshape(d**3, d**3)[2].T)"
   ]
  },
  {
   "cell_type": "code",
   "execution_count": 6,
   "metadata": {},
   "outputs": [
    {
     "ename": "ValueError",
     "evalue": "cannot reshape array of size 1024 into shape (2,2,2)",
     "output_type": "error",
     "traceback": [
      "\u001b[0;31m---------------------------------------------------------------------------\u001b[0m",
      "\u001b[0;31mValueError\u001b[0m                                Traceback (most recent call last)",
      "\u001b[1;32m/home/fabio/Documents/PHD/Quantum/TN/TN_testcodes/codes/compiling.ipynb Cell 5\u001b[0m line \u001b[0;36m1\n\u001b[1;32m     <a href='vscode-notebook-cell:/home/fabio/Documents/PHD/Quantum/TN/TN_testcodes/codes/compiling.ipynb#W4sZmlsZQ%3D%3D?line=12'>13</a>\u001b[0m mps_sites[\u001b[39m-\u001b[39m\u001b[39m1\u001b[39m] \u001b[39m=\u001b[39m ((np\u001b[39m.\u001b[39mdiag(Stemp[:\u001b[39m2\u001b[39m])\u001b[39m@Vhtemp\u001b[39m[:\u001b[39m2\u001b[39m,:])\u001b[39m.\u001b[39mreshape(\u001b[39m2\u001b[39m,\u001b[39m2\u001b[39m,\u001b[39m1\u001b[39m))\u001b[39m.\u001b[39mtranspose(\u001b[39m0\u001b[39m,\u001b[39m2\u001b[39m,\u001b[39m1\u001b[39m)\u001b[39m/\u001b[39mLA\u001b[39m.\u001b[39mnorm(Stemp)\n\u001b[1;32m     <a href='vscode-notebook-cell:/home/fabio/Documents/PHD/Quantum/TN/TN_testcodes/codes/compiling.ipynb#W4sZmlsZQ%3D%3D?line=14'>15</a>\u001b[0m mps_2 \u001b[39m=\u001b[39m ncon([mps_sites[\u001b[39m0\u001b[39m], mps_sites[\u001b[39m1\u001b[39m], mps_sites[\u001b[39m2\u001b[39m]],[[\u001b[39m-\u001b[39m\u001b[39m1\u001b[39m,\u001b[39m1\u001b[39m,\u001b[39m-\u001b[39m\u001b[39m2\u001b[39m],[\u001b[39m1\u001b[39m,\u001b[39m2\u001b[39m,\u001b[39m-\u001b[39m\u001b[39m3\u001b[39m],[\u001b[39m2\u001b[39m,\u001b[39m-\u001b[39m\u001b[39m4\u001b[39m,\u001b[39m-\u001b[39m\u001b[39m5\u001b[39m]])\n\u001b[0;32m---> <a href='vscode-notebook-cell:/home/fabio/Documents/PHD/Quantum/TN/TN_testcodes/codes/compiling.ipynb#W4sZmlsZQ%3D%3D?line=15'>16</a>\u001b[0m \u001b[39mprint\u001b[39m(\u001b[39m\"\u001b[39m\u001b[39mError from MPS to MPS(2):\u001b[39m\u001b[39m\\n\u001b[39;00m\u001b[39m\"\u001b[39m,LA\u001b[39m.\u001b[39mnorm(mps_GHZ\u001b[39m.\u001b[39;49mreshape(\u001b[39m2\u001b[39;49m,\u001b[39m2\u001b[39;49m,\u001b[39m2\u001b[39;49m) \u001b[39m-\u001b[39m mps_2[\u001b[39m0\u001b[39m,:,:,\u001b[39m0\u001b[39m,:]) \u001b[39m/\u001b[39m LA\u001b[39m.\u001b[39mnorm(mps_GHZ))\n\u001b[1;32m     <a href='vscode-notebook-cell:/home/fabio/Documents/PHD/Quantum/TN/TN_testcodes/codes/compiling.ipynb#W4sZmlsZQ%3D%3D?line=17'>18</a>\u001b[0m \u001b[39m#ora l'ordinamento degli indici è A[j,k,l] con j,k indici virtuali e l indice fisico\u001b[39;00m\n\u001b[1;32m     <a href='vscode-notebook-cell:/home/fabio/Documents/PHD/Quantum/TN/TN_testcodes/codes/compiling.ipynb#W4sZmlsZQ%3D%3D?line=18'>19</a>\u001b[0m \u001b[39m#nella contrazione quindi si seguirà lo schema A_jkl A_jkl' = A_ll' con l,l' indici fisici corrispondenti al 1° e 2° sito\u001b[39;00m\n",
      "\u001b[0;31mValueError\u001b[0m: cannot reshape array of size 1024 into shape (2,2,2)"
     ]
    }
   ],
   "source": [
    "mps_sites = [0 for _ in range(N)]\n",
    "\n",
    "\n",
    "Atemp, Stemp, Vhtemp = LA.svd(mps_GHZ.reshape(2,2**(N-1)), full_matrices=False)\n",
    "mps_sites[0] = Atemp.reshape(1,2,2).transpose(0,2,1)  #shape della matrice A_1 ---> A_8 paper è 2,2 - mapping 1 a 1\n",
    "mps_sites[1] = (np.diag(Stemp)@Vhtemp)/LA.norm(Stemp)\n",
    "\n",
    "for i in range(1,N-1):\n",
    "    Atemp, Stemp, Vhtemp = LA.svd(mps_sites[i].reshape(2**2,2**(N-i-1)), full_matrices=False)\n",
    "    mps_sites[i] = Atemp[:,:2].reshape(2,2,2).transpose(0,2,1)\n",
    "    mps_sites[i+1] = ((np.diag(Stemp[:2])@Vhtemp[:2,:]).reshape(2,-1))/LA.norm(Stemp)\n",
    "\n",
    "mps_sites[-1] = ((np.diag(Stemp[:2])@Vhtemp[:2,:]).reshape(2,2,1)).transpose(0,2,1)/LA.norm(Stemp)\n",
    "\n",
    "mps_2 = ncon([mps_sites[0], mps_sites[1], mps_sites[2]],[[-1,1,-2],[1,2,-3],[2,-4,-5]])\n",
    "print(\"Error from MPS to MPS(2):\\n\",LA.norm(mps_GHZ.reshape(2,2,2) - mps_2[0,:,:,0,:]) / LA.norm(mps_GHZ))\n",
    "\n",
    "#ora l'ordinamento degli indici è A[j,k,l] con j,k indici virtuali e l indice fisico\n",
    "#nella contrazione quindi si seguirà lo schema A_jkl A_jkl' = A_ll' con l,l' indici fisici corrispondenti al 1° e 2° sito\n"
   ]
  },
  {
   "cell_type": "code",
   "execution_count": 35,
   "metadata": {},
   "outputs": [
    {
     "name": "stdout",
     "output_type": "stream",
     "text": [
      "(1, 2, 2)\n",
      "(2, 2, 2)\n",
      "(2, 1, 2)\n",
      "[[0.         0.         0.70710678]\n",
      " [1.         0.         0.        ]\n",
      " [0.         1.         0.        ]\n",
      " [0.         0.         0.70710678]]\n"
     ]
    }
   ],
   "source": [
    "\n",
    "\n",
    "print(mps_sites[0].shape)\n",
    "k_a1 = NS(mps_sites[0].transpose(0,2,1).reshape(2,2).conj().T)\n",
    "print(mps_sites[1].shape)\n",
    "k_a2 = NS(mps_sites[1].transpose(0,2,1).reshape(4,2).conj().T)\n",
    "print(mps_sites[2].shape)\n",
    "k_a3 = NS(mps_sites[2].transpose(0,2,1).reshape(4,1).conj().T)\n",
    "print(k_a3)"
   ]
  },
  {
   "cell_type": "code",
   "execution_count": 31,
   "metadata": {},
   "outputs": [
    {
     "name": "stdout",
     "output_type": "stream",
     "text": [
      "----\n",
      "Null space:\n",
      " []\n",
      "Shape:\n",
      " (2, 0)\n",
      "Identity:\n",
      " []\n",
      "----\n",
      "Null space:\n",
      " [[0. 0.]\n",
      " [0. 1.]\n",
      " [1. 0.]\n",
      " [0. 0.]]\n",
      "Shape:\n",
      " (4, 2)\n",
      "Identity:\n",
      " [[1. 0.]\n",
      " [0. 1.]]\n",
      "----\n",
      "Null space:\n",
      " [[0. 0.]\n",
      " [0. 1.]\n",
      " [1. 0.]\n",
      " [0. 0.]]\n",
      "Shape:\n",
      " (4, 2)\n",
      "Identity:\n",
      " [[1. 0.]\n",
      " [0. 1.]]\n"
     ]
    }
   ],
   "source": [
    "for k in null_spaces:\n",
    "    print(\"----\")\n",
    "    print(\"Null space:\\n\",k)\n",
    "    print(\"Shape:\\n\",k.shape)\n",
    "    print(\"Identity:\\n\",k.conj().T@k)"
   ]
  },
  {
   "cell_type": "code",
   "execution_count": 18,
   "metadata": {},
   "outputs": [],
   "source": [
    "import numpy as np\n",
    "from ncon import ncon\n",
    "from numpy import linalg as LA \n",
    "from scipy.linalg import null_space as NS \n"
   ]
  },
  {
   "cell_type": "code",
   "execution_count": 36,
   "metadata": {},
   "outputs": [],
   "source": [
    "Nsites = 10\n",
    "chid = 2\n",
    "chi = 5"
   ]
  },
  {
   "cell_type": "code",
   "execution_count": 37,
   "metadata": {},
   "outputs": [],
   "source": [
    "\n",
    "A = [0 for x in range(Nsites)]\n",
    "A[0] = np.random.rand(1,chid,min(chi,chid))\n",
    "A[0] = A[0]/LA.norm(A[0])\n",
    "for k in range(1,Nsites):\n",
    "    A[k] = np.random.rand(A[k-1].shape[2],chid,min(min(chi,A[k-1].shape[2]*chid),chid**(Nsites-k-1)))\n",
    "    A[k] = A[k]/LA.norm(A[k])"
   ]
  },
  {
   "cell_type": "code",
   "execution_count": 38,
   "metadata": {},
   "outputs": [
    {
     "name": "stdout",
     "output_type": "stream",
     "text": [
      "(1, 2, 2)\n",
      "(2, 2, 4)\n",
      "(4, 2, 5)\n",
      "(5, 2, 5)\n",
      "(5, 2, 5)\n",
      "(5, 2, 5)\n",
      "(5, 2, 5)\n",
      "(5, 2, 4)\n",
      "(4, 2, 2)\n",
      "(2, 2, 1)\n"
     ]
    }
   ],
   "source": [
    "for i in A:\n",
    "    print(i.shape)"
   ]
  },
  {
   "cell_type": "code",
   "execution_count": 39,
   "metadata": {},
   "outputs": [],
   "source": [
    "A_tot = ncon([A[0][0,:,:],A[1],A[2],A[3],A[4][:,:,0]],[[-1,1],[1,-2,2],[2,-3,3],[3,-4,4],[4,-5]])"
   ]
  },
  {
   "cell_type": "code",
   "execution_count": 40,
   "metadata": {},
   "outputs": [],
   "source": [
    "A_tot = A_tot/LA.norm(A_tot)"
   ]
  },
  {
   "cell_type": "code",
   "execution_count": 41,
   "metadata": {},
   "outputs": [
    {
     "name": "stdout",
     "output_type": "stream",
     "text": [
      "[[[[[0.26820228 0.15716297]\n",
      "    [0.26462995 0.19799846]]\n",
      "\n",
      "   [[0.22491561 0.12908514]\n",
      "    [0.22395491 0.16015916]]]\n",
      "\n",
      "\n",
      "  [[[0.32945799 0.1917857 ]\n",
      "    [0.32444568 0.24147018]]\n",
      "\n",
      "   [[0.26430513 0.15379643]\n",
      "    [0.26524291 0.19342295]]]]\n",
      "\n",
      "\n",
      "\n",
      " [[[[0.12064239 0.07114875]\n",
      "    [0.11962603 0.08967055]]\n",
      "\n",
      "   [[0.09655491 0.05562918]\n",
      "    [0.09654181 0.06963618]]]\n",
      "\n",
      "\n",
      "  [[[0.12552874 0.07264814]\n",
      "    [0.1232681  0.09161725]]\n",
      "\n",
      "   [[0.09815622 0.05699364]\n",
      "    [0.09836211 0.0718842 ]]]]]\n"
     ]
    }
   ],
   "source": [
    "print(A_tot)"
   ]
  },
  {
   "cell_type": "code",
   "execution_count": null,
   "metadata": {},
   "outputs": [],
   "source": []
  },
  {
   "cell_type": "code",
   "execution_count": null,
   "metadata": {},
   "outputs": [],
   "source": []
  }
 ],
 "metadata": {
  "kernelspec": {
   "display_name": "benchmark",
   "language": "python",
   "name": "python3"
  },
  "language_info": {
   "codemirror_mode": {
    "name": "ipython",
    "version": 3
   },
   "file_extension": ".py",
   "mimetype": "text/x-python",
   "name": "python",
   "nbconvert_exporter": "python",
   "pygments_lexer": "ipython3",
   "version": "3.10.9"
  },
  "orig_nbformat": 4
 },
 "nbformat": 4,
 "nbformat_minor": 2
}
