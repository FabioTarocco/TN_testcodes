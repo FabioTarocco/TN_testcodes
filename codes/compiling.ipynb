{
 "cells": [
  {
   "cell_type": "markdown",
   "metadata": {},
   "source": [
    "GET A MPS WITH NATIVE BOND DIMENSION 2"
   ]
  },
  {
   "cell_type": "code",
   "execution_count": 3,
   "metadata": {},
   "outputs": [],
   "source": [
    "import numpy as np\n",
    "from ncon import ncon\n",
    "from numpy import linalg as LA \n",
    "from scipy.linalg import null_space as NS "
   ]
  },
  {
   "cell_type": "code",
   "execution_count": 8,
   "metadata": {},
   "outputs": [
    {
     "name": "stdout",
     "output_type": "stream",
     "text": [
      "1.0\n",
      "[0.15780411+0.27784967j 0.24836364+0.1922677j  0.21830191+0.05562632j\n",
      " 0.32103379+0.08629133j 0.39216154+0.0204695j  0.37886592+0.17955423j\n",
      " 0.08499291+0.39532217j 0.05243609+0.37649091j]\n"
     ]
    }
   ],
   "source": [
    "N = 3\n",
    "mps = np.random.random(2**N) + np.random.random(2**N) * 1j\n",
    "mps_norm = mps / LA.norm(mps)\n",
    "psi_norm = mps_norm / LA.norm(mps_norm)\n",
    "psi_norm_tens = psi_norm.reshape(2,2,2)\n",
    "print(LA.norm(psi_norm))\n",
    "print(psi_norm)"
   ]
  },
  {
   "cell_type": "code",
   "execution_count": 9,
   "metadata": {},
   "outputs": [
    {
     "name": "stdout",
     "output_type": "stream",
     "text": [
      "Error from MPS to MPS(2):\n",
      " 1.417198844709443\n"
     ]
    }
   ],
   "source": [
    "mps_sites = [0 for _ in range(N)]\n",
    "\n",
    "\n",
    "Atemp, Stemp, Vhtemp = LA.svd(mps_norm.reshape(2,2**(N-1)), full_matrices=False)\n",
    "mps_sites[0] = Atemp.reshape(1,2,2).transpose(0,2,1)  #shape della matrice A_1 ---> A_8 paper è 2,2 - mapping 1 a 1\n",
    "mps_sites[1] = (np.diag(Stemp)@Vhtemp)/LA.norm(Stemp)\n",
    "\n",
    "for i in range(1,N-1):\n",
    "    Atemp, Stemp, Vhtemp = LA.svd(mps_sites[i].reshape(2**2,2**(N-i-1)), full_matrices=False)\n",
    "    mps_sites[i] = Atemp[:,:2].reshape(2,2,2)\n",
    "    mps_sites[i+1] = ((np.diag(Stemp[:2])@Vhtemp[:2,:]).reshape(2,-1))/LA.norm(Stemp)\n",
    "\n",
    "mps_sites[-1] = ((np.diag(Stemp[:2])@Vhtemp[:2,:]).reshape(2,2,1))/LA.norm(Stemp)\n",
    "\n",
    "mps_2 = ncon([mps_sites[0], mps_sites[1], mps_sites[2]],[[-1,1,-2],[1,2,-3],[2,-4,-5]])\n",
    "print(\"Error from MPS to MPS(2):\\n\",LA.norm(mps_norm.reshape(2,2,2) - mps_2[0,:,:,0,:]) / LA.norm(mps_norm))\n",
    "\n"
   ]
  },
  {
   "cell_type": "code",
   "execution_count": 12,
   "metadata": {},
   "outputs": [
    {
     "name": "stdout",
     "output_type": "stream",
     "text": [
      "[[1.-0.j 0.-0.j]\n",
      " [0.+0.j 1.+0.j]]\n",
      "(1, 2, 2)\n",
      "(2, 2, 2)\n",
      "(2, 2, 1)\n",
      "[[-0.71752729+5.49725692e-02j -0.11442899-0.00000000e+00j\n",
      "   0.10723536-8.21571996e-03j]\n",
      " [ 0.69107746+1.86083560e-18j -0.0489785 -3.75243441e-03j\n",
      "   0.04616886+2.59102316e-19j]\n",
      " [-0.0489785 +3.75243441e-03j  0.99218906-0.00000000e+00j\n",
      "   0.0073199 -5.60806066e-04j]\n",
      " [ 0.04616886-2.07360633e-20j  0.0073199 +5.60806066e-04j\n",
      "   0.9931    -7.80720333e-20j]]\n"
     ]
    }
   ],
   "source": [
    "print(np.round(ncon([mps_sites[0].conj(), mps_sites[0]],[[1,2,-1],[1,2,-2]])))\n",
    "\n",
    "print(mps_sites[0].shape)\n",
    "k_a1 = NS(mps_sites[0].reshape(2,2).conj().T)\n",
    "print(mps_sites[1].shape)\n",
    "k_a2 = NS(mps_sites[1].reshape(4,2).conj().T)\n",
    "print(mps_sites[2].shape)\n",
    "k_a3 = NS(mps_sites[2].reshape(4,1).conj().T)\n",
    "print(k_a3)"
   ]
  },
  {
   "cell_type": "code",
   "execution_count": 31,
   "metadata": {},
   "outputs": [
    {
     "name": "stdout",
     "output_type": "stream",
     "text": [
      "----\n",
      "Null space:\n",
      " []\n",
      "Shape:\n",
      " (2, 0)\n",
      "Identity:\n",
      " []\n",
      "----\n",
      "Null space:\n",
      " [[0. 0.]\n",
      " [0. 1.]\n",
      " [1. 0.]\n",
      " [0. 0.]]\n",
      "Shape:\n",
      " (4, 2)\n",
      "Identity:\n",
      " [[1. 0.]\n",
      " [0. 1.]]\n",
      "----\n",
      "Null space:\n",
      " [[0. 0.]\n",
      " [0. 1.]\n",
      " [1. 0.]\n",
      " [0. 0.]]\n",
      "Shape:\n",
      " (4, 2)\n",
      "Identity:\n",
      " [[1. 0.]\n",
      " [0. 1.]]\n"
     ]
    }
   ],
   "source": [
    "for k in null_spaces:\n",
    "    print(\"----\")\n",
    "    print(\"Null space:\\n\",k)\n",
    "    print(\"Shape:\\n\",k.shape)\n",
    "    print(\"Identity:\\n\",k.conj().T@k)"
   ]
  },
  {
   "cell_type": "code",
   "execution_count": null,
   "metadata": {},
   "outputs": [],
   "source": []
  }
 ],
 "metadata": {
  "kernelspec": {
   "display_name": "benchmark",
   "language": "python",
   "name": "python3"
  },
  "language_info": {
   "codemirror_mode": {
    "name": "ipython",
    "version": 3
   },
   "file_extension": ".py",
   "mimetype": "text/x-python",
   "name": "python",
   "nbconvert_exporter": "python",
   "pygments_lexer": "ipython3",
   "version": "3.9.15"
  },
  "orig_nbformat": 4
 },
 "nbformat": 4,
 "nbformat_minor": 2
}
