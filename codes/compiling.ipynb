{
 "cells": [
  {
   "cell_type": "markdown",
   "metadata": {},
   "source": [
    "GET A MPS WITH NATIVE BOND DIMENSION 2"
   ]
  },
  {
   "cell_type": "code",
   "execution_count": 1,
   "metadata": {},
   "outputs": [],
   "source": [
    "import numpy as np\n",
    "from ncon import ncon\n",
    "from numpy import linalg as LA \n",
    "from scipy.linalg import null_space as NS "
   ]
  },
  {
   "cell_type": "code",
   "execution_count": 2,
   "metadata": {},
   "outputs": [
    {
     "name": "stdout",
     "output_type": "stream",
     "text": [
      "[[[0.70710678 0.        ]\n",
      "  [0.         0.        ]]\n",
      "\n",
      " [[0.         0.        ]\n",
      "  [0.         0.70710678]]]\n"
     ]
    }
   ],
   "source": [
    "N = 3\n",
    "mps_GHZ = np.zeros((2**N))\n",
    "mps_GHZ[0] = 1/np.sqrt(2)\n",
    "mps_GHZ[-1] = 1/np.sqrt(2)\n",
    "\n",
    "print(mps_GHZ.reshape(2,2,2))"
   ]
  },
  {
   "cell_type": "code",
   "execution_count": 13,
   "metadata": {},
   "outputs": [
    {
     "name": "stdout",
     "output_type": "stream",
     "text": [
      "Error from MPS to MPS(2):\n",
      " 1.5700924586837754e-16\n"
     ]
    }
   ],
   "source": [
    "mps_sites = [0 for _ in range(N)]\n",
    "\n",
    "\n",
    "Atemp, Stemp, Vhtemp = LA.svd(mps_GHZ.reshape(2,2**(N-1)), full_matrices=False)\n",
    "mps_sites[0] = Atemp.reshape(1,2,2).transpose(0,2,1)  #shape della matrice A_1 ---> A_8 paper è 2,2 - mapping 1 a 1\n",
    "mps_sites[1] = (np.diag(Stemp)@Vhtemp)/LA.norm(Stemp)\n",
    "\n",
    "for i in range(1,N-1):\n",
    "    Atemp, Stemp, Vhtemp = LA.svd(mps_sites[i].reshape(2**2,2**(N-i-1)), full_matrices=False)\n",
    "    mps_sites[i] = Atemp[:,:2].reshape(2,2,2).transpose(0,2,1)\n",
    "    mps_sites[i+1] = ((np.diag(Stemp[:2])@Vhtemp[:2,:]).reshape(2,-1))/LA.norm(Stemp)\n",
    "\n",
    "mps_sites[-1] = ((np.diag(Stemp[:2])@Vhtemp[:2,:]).reshape(2,2,1)).transpose(0,2,1)/LA.norm(Stemp)\n",
    "\n",
    "mps_2 = ncon([mps_sites[0], mps_sites[1], mps_sites[2]],[[-1,1,-2],[1,2,-3],[2,-4,-5]])\n",
    "print(\"Error from MPS to MPS(2):\\n\",LA.norm(mps_GHZ.reshape(2,2,2) - mps_2[0,:,:,0,:]) / LA.norm(mps_GHZ))\n",
    "\n",
    "#ora l'ordinamento degli indici è A[j,k,l] con j,k indici virtuali e l indice fisico\n",
    "#nella contrazione quindi si seguirà lo schema A_jkl A_jkl' = A_ll' con l,l' indici fisici corrispondenti al 1° e 2° sito\n"
   ]
  },
  {
   "cell_type": "code",
   "execution_count": 35,
   "metadata": {},
   "outputs": [
    {
     "name": "stdout",
     "output_type": "stream",
     "text": [
      "(1, 2, 2)\n",
      "(2, 2, 2)\n",
      "(2, 1, 2)\n",
      "[[0.         0.         0.70710678]\n",
      " [1.         0.         0.        ]\n",
      " [0.         1.         0.        ]\n",
      " [0.         0.         0.70710678]]\n"
     ]
    }
   ],
   "source": [
    "\n",
    "\n",
    "print(mps_sites[0].shape)\n",
    "k_a1 = NS(mps_sites[0].transpose(0,2,1).reshape(2,2).conj().T)\n",
    "print(mps_sites[1].shape)\n",
    "k_a2 = NS(mps_sites[1].transpose(0,2,1).reshape(4,2).conj().T)\n",
    "print(mps_sites[2].shape)\n",
    "k_a3 = NS(mps_sites[2].transpose(0,2,1).reshape(4,1).conj().T)\n",
    "print(k_a3)"
   ]
  },
  {
   "cell_type": "code",
   "execution_count": 31,
   "metadata": {},
   "outputs": [
    {
     "name": "stdout",
     "output_type": "stream",
     "text": [
      "----\n",
      "Null space:\n",
      " []\n",
      "Shape:\n",
      " (2, 0)\n",
      "Identity:\n",
      " []\n",
      "----\n",
      "Null space:\n",
      " [[0. 0.]\n",
      " [0. 1.]\n",
      " [1. 0.]\n",
      " [0. 0.]]\n",
      "Shape:\n",
      " (4, 2)\n",
      "Identity:\n",
      " [[1. 0.]\n",
      " [0. 1.]]\n",
      "----\n",
      "Null space:\n",
      " [[0. 0.]\n",
      " [0. 1.]\n",
      " [1. 0.]\n",
      " [0. 0.]]\n",
      "Shape:\n",
      " (4, 2)\n",
      "Identity:\n",
      " [[1. 0.]\n",
      " [0. 1.]]\n"
     ]
    }
   ],
   "source": [
    "for k in null_spaces:\n",
    "    print(\"----\")\n",
    "    print(\"Null space:\\n\",k)\n",
    "    print(\"Shape:\\n\",k.shape)\n",
    "    print(\"Identity:\\n\",k.conj().T@k)"
   ]
  },
  {
   "cell_type": "code",
   "execution_count": null,
   "metadata": {},
   "outputs": [],
   "source": []
  }
 ],
 "metadata": {
  "kernelspec": {
   "display_name": "benchmark",
   "language": "python",
   "name": "python3"
  },
  "language_info": {
   "codemirror_mode": {
    "name": "ipython",
    "version": 3
   },
   "file_extension": ".py",
   "mimetype": "text/x-python",
   "name": "python",
   "nbconvert_exporter": "python",
   "pygments_lexer": "ipython3",
   "version": "3.10.9"
  },
  "orig_nbformat": 4
 },
 "nbformat": 4,
 "nbformat_minor": 2
}
