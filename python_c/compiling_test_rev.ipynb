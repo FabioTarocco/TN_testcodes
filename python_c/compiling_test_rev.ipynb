{
 "cells": [
  {
   "cell_type": "code",
   "execution_count": 114,
   "metadata": {},
   "outputs": [],
   "source": [
    "import numpy as np\n",
    "from numpy import linalg as LA\n",
    "from ncon import ncon\n",
    "from scipy.linalg import null_space as NS"
   ]
  },
  {
   "cell_type": "code",
   "execution_count": null,
   "metadata": {},
   "outputs": [],
   "source": []
  },
  {
   "cell_type": "code",
   "execution_count": 200,
   "metadata": {},
   "outputs": [
    {
     "name": "stdout",
     "output_type": "stream",
     "text": [
      "1.0\n"
     ]
    }
   ],
   "source": [
    "N = 3\n",
    "mps = np.random.random(2**N) #+ np.random.random(2**N) * 1j\n",
    "mps_norm = mps / LA.norm(mps)\n",
    "psi_norm = mps_norm / LA.norm(mps_norm)\n",
    "psi = psi_norm.reshape(2,2,2)\n",
    "print(LA.norm(psi))\n"
   ]
  },
  {
   "cell_type": "code",
   "execution_count": 201,
   "metadata": {},
   "outputs": [],
   "source": [
    "B_sites = [0+0j for _ in range(0,N)]\n",
    "\n",
    "U,S,Vh = LA.svd(psi.reshape(4,2), full_matrices=False)\n",
    "\n",
    "B_sites[2] = Vh.reshape(2,2)\n",
    "temp = ((U[:,:2]@np.diag(S[:2])).reshape(2,-1))/LA.norm(S)\n",
    "U,S,Vh = LA.svd(temp.reshape(2,4), full_matrices=False)\n",
    "B_sites[1] = Vh.reshape(2,2,2)\n",
    "temp = ((U[:,:2]@np.diag(S[:2])).reshape(2,-1))/LA.norm(S)\n",
    "B_sites[0] = temp"
   ]
  },
  {
   "cell_type": "markdown",
   "metadata": {},
   "source": [
    "CHECK CONDIZIONI RIGHT-CANONICAL FORM\n"
   ]
  },
  {
   "cell_type": "code",
   "execution_count": 202,
   "metadata": {},
   "outputs": [
    {
     "name": "stdout",
     "output_type": "stream",
     "text": [
      "[[ 1. -0.]\n",
      " [-0.  1.]]\n",
      "[[ 1. -0.]\n",
      " [-0.  1.]]\n",
      "1.0\n"
     ]
    }
   ],
   "source": [
    "print(np.round(ncon([B_sites[2],B_sites[2].conjugate()],[[-1,1],[-2,1]]))) #A_N@A_N* = I_2\n",
    "print(np.round(ncon([B_sites[1],B_sites[1].conjugate()],[[-1,1,2],[-2,1,2]]))) #A_n@A_n* = I_2\n",
    "print(np.round(ncon([B_sites[0],B_sites[0].conjugate()],[[1,2],[1,2]]))) #A_1@A_1 = 1\n"
   ]
  },
  {
   "cell_type": "markdown",
   "metadata": {},
   "source": [
    "CALCOLO NULL SPACE DEI VARI TENSORI"
   ]
  },
  {
   "cell_type": "code",
   "execution_count": 216,
   "metadata": {},
   "outputs": [
    {
     "name": "stdout",
     "output_type": "stream",
     "text": [
      "Tensor 3 does not need addition because is a 2x2 matrix\n",
      "[[-0.66840003 -0.74380199]\n",
      " [-0.74380199  0.66840003]]\n",
      "[]\n",
      "\n",
      "Tensor 2 needs 2 2x2-vectors from the null space\n",
      "[[ 0.42296613 -0.31447836]\n",
      " [ 0.83034424  0.18091838]\n",
      " [ 0.49865413 -0.6379433 ]\n",
      " [-0.40259031 -0.42695837]]\n",
      "First:  [[-0.74673129]\n",
      " [-0.52854114]\n",
      " [ 0.24938929]\n",
      " [-0.31755572]]\n",
      "Second:  [[-0.12180355]\n",
      " [-0.46343929]\n",
      " [-0.2936911 ]\n",
      " [ 0.8271236 ]]\n",
      "\n",
      "Tensor 1 needs 3 2x2-vectors from the null space\n",
      "[[-0.68207656]\n",
      " [-0.22483073]\n",
      " [-0.65533529]\n",
      " [ 0.23400506]]\n",
      "First: [[-0.22483073]\n",
      " [ 0.96994854]\n",
      " [-0.08759382]\n",
      " [ 0.03127772]]\n",
      "Second:  [[-0.65533529]\n",
      " [-0.08759382]\n",
      " [ 0.74468205]\n",
      " [ 0.09116813]]\n",
      "Third:  [[0.23400506]\n",
      " [0.03127772]\n",
      " [0.09116813]\n",
      " [0.96744597]]\n"
     ]
    }
   ],
   "source": [
    "null_K = [0+0j for _ in range(0,N)] \n",
    "print(\"Tensor 3 does not need addition because is a 2x2 matrix\")\n",
    "print(B_sites[2])\n",
    "null_K[2] = NS(B_sites[2])\n",
    "print(null_K[2])\n",
    "\n",
    "print(\"\\nTensor 2 needs 2 2x2-vectors from the null space\")\n",
    "print(B_sites[1].reshape(4,2))\n",
    "null_K[1] = NS(B_sites[1].reshape(2,4))\n",
    "print(\"First: \",null_K[1][:,0].reshape(4,1))\n",
    "print(\"Second: \",null_K[1][:,1].reshape(4,1))\n",
    "print(\"\\nTensor 1 needs 3 2x2-vectors from the null space\")\n",
    "print(B_sites[0].reshape(4,1))\n",
    "null_K[0] = NS(B_sites[0].reshape(1,4))\n",
    "print(\"First:\",null_K[0][:,0].reshape(4,1))\n",
    "print(\"Second: \",null_K[0][:,1].reshape(4,1))\n",
    "print(\"Third: \",null_K[0][:,2].reshape(4,1))"
   ]
  },
  {
   "cell_type": "markdown",
   "metadata": {},
   "source": [
    "CREAZIONE DELLE MATRICI G"
   ]
  },
  {
   "cell_type": "code",
   "execution_count": 214,
   "metadata": {},
   "outputs": [
    {
     "name": "stdout",
     "output_type": "stream",
     "text": [
      "[[ 1.00000000e+00  7.38262981e-18  7.99352900e-18 -7.92456087e-18]\n",
      " [-1.69011903e-17  1.00000000e+00 -3.42315099e-18  1.61156161e-17]\n",
      " [-1.21707750e-17 -5.54648553e-17  1.00000000e+00  5.38415293e-17]\n",
      " [ 1.71203474e-17  1.26461691e-17  2.60859537e-17  1.00000000e+00]]\n",
      "[[-0.40554866  0.42444897 -0.07620255 -1.01614691]\n",
      " [ 0.33846866  0.30665473 -0.30593395 -0.10120348]\n",
      " [-0.29717466 -0.70031153  0.12027694  0.18443902]\n",
      " [ 0.2127846  -0.41307731 -0.08125211  1.02430296]]\n",
      "[[ 1.00000000e+00 -2.17644345e-18]\n",
      " [-2.17644345e-18  1.00000000e+00]]\n"
     ]
    }
   ],
   "source": [
    "G = [0+0j for _ in range(N)]\n",
    "G[0] = np.block([[B_sites[0].reshape(4,1).T], [null_K[0].T]])\n",
    "G[1] = np.block([[B_sites[1].reshape(4,2).T], [null_K[1].T]])\n",
    "G[2] = B_sites[2]\n",
    "\n",
    "for g in G:\n",
    "    print(ncon([g,g.T],[[-1,1],[-2,1]]))\n"
   ]
  },
  {
   "cell_type": "markdown",
   "metadata": {},
   "source": [
    "CHECK UNITARIETA'"
   ]
  },
  {
   "cell_type": "code",
   "execution_count": 206,
   "metadata": {},
   "outputs": [],
   "source": [
    "G_rank4 = [0+0j for _ in range(N)]\n",
    "G_rank4[0] = G[0].reshape(2,2,2,2)\n",
    "G_rank4[1] = G[1].reshape(2,2,2,2)\n",
    "G_rank4[2] = G[2].reshape(2,2) "
   ]
  },
  {
   "cell_type": "code",
   "execution_count": null,
   "metadata": {},
   "outputs": [],
   "source": []
  }
 ],
 "metadata": {
  "kernelspec": {
   "display_name": "benchmark",
   "language": "python",
   "name": "python3"
  },
  "language_info": {
   "codemirror_mode": {
    "name": "ipython",
    "version": 3
   },
   "file_extension": ".py",
   "mimetype": "text/x-python",
   "name": "python",
   "nbconvert_exporter": "python",
   "pygments_lexer": "ipython3",
   "version": "3.10.9"
  },
  "orig_nbformat": 4
 },
 "nbformat": 4,
 "nbformat_minor": 2
}
