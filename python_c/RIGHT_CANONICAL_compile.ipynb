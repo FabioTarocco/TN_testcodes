{
 "cells": [
  {
   "cell_type": "markdown",
   "metadata": {},
   "source": [
    "ANALYTICAL DECOMPOSITION OF MPS AS 1/2-QUBIT GATES\n",
    "Input:\n",
    "    -N = sites\n",
    "Items:\n",
    "    -mps = initial state with 2^N entries\n",
    "    -psi = initial state as rank-N tensor (smallest case is rank-3 with shapes: (2,2,2))\n",
    "    -B_sites = list of single rank-3 tensors\n",
    "    "
   ]
  },
  {
   "cell_type": "code",
   "execution_count": 1,
   "metadata": {},
   "outputs": [],
   "source": [
    "import numpy as np\n",
    "from numpy import linalg as LA\n",
    "from ncon import ncon\n",
    "from scipy.linalg import null_space as NS"
   ]
  },
  {
   "cell_type": "code",
   "execution_count": null,
   "metadata": {},
   "outputs": [],
   "source": []
  },
  {
   "cell_type": "code",
   "execution_count": 2,
   "metadata": {},
   "outputs": [
    {
     "name": "stdout",
     "output_type": "stream",
     "text": [
      "1.0\n"
     ]
    }
   ],
   "source": [
    "N = 3\n",
    "mps = np.random.random(2**N) #+ np.random.random(2**N) * 1j\n",
    "mps_norm = mps / LA.norm(mps)\n",
    "psi_norm = mps_norm / LA.norm(mps_norm)\n",
    "psi = psi_norm.reshape(2,2,2)\n",
    "print(LA.norm(psi))\n"
   ]
  },
  {
   "cell_type": "code",
   "execution_count": 3,
   "metadata": {},
   "outputs": [],
   "source": [
    "B_sites = [0+0j for _ in range(0,N)]\n",
    "\n",
    "U,S,Vh = LA.svd(psi.reshape(4,2), full_matrices=False)\n",
    "\n",
    "B_sites[2] = Vh.reshape(2,2)\n",
    "temp = ((U[:,:2]@np.diag(S[:2])).reshape(2,-1))/LA.norm(S)\n",
    "U,S,Vh = LA.svd(temp.reshape(2,4), full_matrices=False)\n",
    "B_sites[1] = Vh.reshape(2,2,2)\n",
    "temp = ((U[:,:2]@np.diag(S[:2])).reshape(2,-1))/LA.norm(S)\n",
    "B_sites[0] = temp"
   ]
  },
  {
   "cell_type": "markdown",
   "metadata": {},
   "source": [
    "CHECK CONDIZIONI RIGHT-CANONICAL FORM\n"
   ]
  },
  {
   "cell_type": "code",
   "execution_count": 4,
   "metadata": {},
   "outputs": [
    {
     "name": "stdout",
     "output_type": "stream",
     "text": [
      "[[1. 0.]\n",
      " [0. 1.]]\n",
      "[[1. 0.]\n",
      " [0. 1.]]\n",
      "1.0\n"
     ]
    }
   ],
   "source": [
    "print(np.round(ncon([B_sites[2],B_sites[2].conjugate()],[[-1,1],[-2,1]]))) #A_N@A_N* = I_2\n",
    "print(np.round(ncon([B_sites[1],B_sites[1].conjugate()],[[-1,1,2],[-2,1,2]]))) #A_n@A_n* = I_2\n",
    "print(np.round(ncon([B_sites[0],B_sites[0].conjugate()],[[1,2],[1,2]]))) #A_1@A_1 = 1\n"
   ]
  },
  {
   "cell_type": "markdown",
   "metadata": {},
   "source": [
    "CALCOLO NULL SPACE DEI VARI TENSORI"
   ]
  },
  {
   "cell_type": "code",
   "execution_count": 8,
   "metadata": {},
   "outputs": [
    {
     "name": "stdout",
     "output_type": "stream",
     "text": [
      "Tensor 3 does not need addition because is a 2x2 matrix\n",
      "[[-0.90448363 -0.42650835]\n",
      " [ 0.42650835 -0.90448363]]\n",
      "[]\n",
      "\n",
      "Tensor 2 needs 2 2x2-vectors from the null space\n",
      "[[ 0.71681112 -0.20857697]\n",
      " [ 0.61727668  0.24828807]\n",
      " [ 0.60542202 -0.25886295]\n",
      " [-0.74350007 -0.11688369]]\n"
     ]
    }
   ],
   "source": [
    "null_K = [0+0j for _ in range(0,N)] \n",
    "print(\"Tensor 3 does not need addition because is a 2x2 matrix\")\n",
    "print(B_sites[2])\n",
    "null_K[2] = NS(B_sites[2])\n",
    "print(null_K[2])\n",
    "\n",
    "print(\"\\nTensor 2 needs 2 2x2-vectors from the null space\")\n",
    "#print(B_sites[1].reshape(4,2))\n",
    "null_K[1] = NS(B_sites[1].reshape(2,4).T)\n",
    "#print(\"First: \",null_K[1][:,0].reshape(4,1))\n",
    "#print(\"Second: \",null_K[1][:,1].reshape(4,1))\n",
    "#print(\"\\nTensor 1 needs 3 2x2-vectors from the null space\")\n",
    "#print(B_sites[0].reshape(4,1))\n",
    "null_K[0] = NS(B_sites[0].reshape(1,4).T)\n",
    "#print(\"First:\",null_K[0][:,0].reshape(4,1))\n",
    "#print(\"Second: \",null_K[0][:,1].reshape(4,1))\n",
    "#print(\"Third: \",null_K[0][:,2].reshape(4,1))"
   ]
  },
  {
   "cell_type": "markdown",
   "metadata": {},
   "source": [
    "CREAZIONE DELLE MATRICI G"
   ]
  },
  {
   "cell_type": "code",
   "execution_count": 6,
   "metadata": {},
   "outputs": [
    {
     "name": "stdout",
     "output_type": "stream",
     "text": [
      "[[ 1.00000000e+00  3.51163064e-17  1.46184155e-16 -8.19628432e-17]\n",
      " [ 3.17414888e-17  1.00000000e+00  1.27899812e-17 -4.46505309e-18]\n",
      " [ 1.32161480e-16  9.38492864e-18  1.00000000e+00 -1.66848254e-17]\n",
      " [-8.00431469e-17 -4.46505309e-18 -3.04026385e-17  1.00000000e+00]]\n",
      "[[ 0.3398952   0.17130446  0.51473961 -1.42928337]\n",
      " [-0.10379043  0.19376037 -0.19321161  0.07031069]\n",
      " [-0.0150881  -0.47984308  0.12175976  0.10825404]\n",
      " [-0.19155941 -0.11452521 -0.30428609  1.08431752]]\n",
      "[[ 0.63618126  0.77153963]\n",
      " [-0.77153963  0.63618126]]\n"
     ]
    }
   ],
   "source": [
    "G = [0+0j for _ in range(N)]\n",
    "G[0] = np.block([[B_sites[0].reshape(4,1).T], [null_K[0].T]])\n",
    "G[1] = np.block([[B_sites[1].reshape(4,2).T], [null_K[1].T]])\n",
    "G[2] = B_sites[2]\n",
    "\n",
    "for g in G:\n",
    "    print(ncon([g,g.T],[[-1,1],[-2,1]]))\n"
   ]
  },
  {
   "cell_type": "markdown",
   "metadata": {},
   "source": [
    "CHECK UNITARIETA'"
   ]
  },
  {
   "cell_type": "code",
   "execution_count": 206,
   "metadata": {},
   "outputs": [],
   "source": [
    "G_rank4 = [0+0j for _ in range(N)]\n",
    "G_rank4[0] = G[0].reshape(2,2,2,2)\n",
    "G_rank4[1] = G[1].reshape(2,2,2,2)\n",
    "G_rank4[2] = G[2].reshape(2,2) "
   ]
  },
  {
   "cell_type": "code",
   "execution_count": null,
   "metadata": {},
   "outputs": [],
   "source": []
  }
 ],
 "metadata": {
  "kernelspec": {
   "display_name": "benchmark",
   "language": "python",
   "name": "python3"
  },
  "language_info": {
   "codemirror_mode": {
    "name": "ipython",
    "version": 3
   },
   "file_extension": ".py",
   "mimetype": "text/x-python",
   "name": "python",
   "nbconvert_exporter": "python",
   "pygments_lexer": "ipython3",
   "version": "3.10.9"
  },
  "orig_nbformat": 4
 },
 "nbformat": 4,
 "nbformat_minor": 2
}
