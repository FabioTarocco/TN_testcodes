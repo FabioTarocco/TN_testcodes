{
 "cells": [
  {
   "cell_type": "code",
   "execution_count": 13,
   "metadata": {},
   "outputs": [],
   "source": [
    "import numpy as np\n",
    "from numpy import linalg as LA\n",
    "from scipy.sparse.linalg import LinearOperator, eigsh\n",
    "from timeit import default_timer as timer\n",
    "\n",
    "from ncon import ncon"
   ]
  },
  {
   "cell_type": "markdown",
   "metadata": {},
   "source": [
    "Indexing convention:\n",
    "\n",
    "    -For H, is with free indices pointing downwards and numeration from left to right in increaring order\n",
    "    -For each coupling h (rank 4 tensor), downwards -> upwards left-to-right so DOWN:(1,2) UP:(3,4)"
   ]
  },
  {
   "cell_type": "code",
   "execution_count": 19,
   "metadata": {},
   "outputs": [],
   "source": [
    "import numpy as np\n",
    "\n",
    "\n",
    "def doApplyHam(psiIn: np.ndarray,\n",
    "               hloc: np.ndarray,\n",
    "               N: int,\n",
    "               usePBC: bool):\n",
    "  \"\"\"\n",
    "  Applies local Hamiltonian, given as sum of nearest neighbor terms, to\n",
    "  an input quantum state.\n",
    "  Args:\n",
    "    psiIn: vector of length d**N describing the quantum state.\n",
    "    hloc: array of ndim=4 describing the nearest neighbor coupling.\n",
    "    N: the number of lattice sites.\n",
    "    usePBC: sets whether to include periodic boundary term.\n",
    "  Returns:\n",
    "    np.ndarray: state psi after application of the Hamiltonian.\n",
    "  \"\"\"\n",
    "  d = hloc.shape[0]\n",
    "  psiOut = np.zeros(psiIn.size)\n",
    "  for k in range(N - 1):\n",
    "    # apply local Hamiltonian terms to sites [k,k+1]\n",
    "    psiOut += np.tensordot(hloc.reshape(d**2, d**2),\n",
    "                           psiIn.reshape(d**k, d**2, d**(N - 2 - k)),\n",
    "                           axes=[[1], [1]]).transpose(1, 0, 2).reshape(d**N)\n",
    "\n",
    "  if usePBC:\n",
    "    # apply periodic term\n",
    "    psiOut += np.tensordot(hloc.reshape(d, d, d, d),\n",
    "                           psiIn.reshape(d, d**(N - 2), d),\n",
    "                           axes=[[2, 3], [2, 0]]\n",
    "                           ).transpose(1, 2, 0).reshape(d**N)\n",
    "\n",
    "  return psiOut"
   ]
  },
  {
   "cell_type": "code",
   "execution_count": 24,
   "metadata": {},
   "outputs": [
    {
     "name": "stdout",
     "output_type": "stream",
     "text": [
      "NumSites: 18, Time elapsed: 12.39, Energy: -2.177107e+01\n"
     ]
    }
   ],
   "source": [
    "model = 'ising'\n",
    "Nsites = 18\n",
    "usePCB = False\n",
    "numval = 1\n",
    "\n",
    "d = 2\n",
    "sX = np.array([[0, 1.0],[1.0, 0]])\n",
    "sY = np.array([[0, -1.0j],[1.0j, 0]])\n",
    "sZ = np.array([[1.0, 0],[0, -1.0]])\n",
    "sI = np.array([[1.0, 0],[0, 1.0]])\n",
    "\n",
    "if model == 'XX':\n",
    "    hloc = (np.real(np.kron(sX,sX) + np.kron(sY,sY))).reshape(d,d,d,d)\n",
    "elif model =='ising':\n",
    "    hloc = (0.5*np.kron(sZ,sI) + 0.5*np.kron(sI,sZ) - np.kron(sX,sX)).reshape(d,d,d,d)\n",
    "\n",
    "def doApplyHamClosed(psiIn):\n",
    "    return doApplyHam(psiIn, hloc, Nsites, usePCB)\n",
    "\n",
    "H = LinearOperator((2**Nsites, 2**Nsites), matvec=doApplyHamClosed)\n",
    "\n",
    "start_time = timer()\n",
    "Energy, psi = eigsh(H, k= numval, which='SA')\n",
    "end_time = timer()\n",
    "\n",
    "print('NumSites: %d, Time elapsed: %1.2f, Energy: %e'%(Nsites, end_time - start_time, Energy[0]))"
   ]
  },
  {
   "cell_type": "code",
   "execution_count": null,
   "metadata": {},
   "outputs": [],
   "source": []
  }
 ],
 "metadata": {
  "kernelspec": {
   "display_name": "benchmark",
   "language": "python",
   "name": "python3"
  },
  "language_info": {
   "codemirror_mode": {
    "name": "ipython",
    "version": 3
   },
   "file_extension": ".py",
   "mimetype": "text/x-python",
   "name": "python",
   "nbconvert_exporter": "python",
   "pygments_lexer": "ipython3",
   "version": "3.9.15"
  },
  "orig_nbformat": 4
 },
 "nbformat": 4,
 "nbformat_minor": 2
}
