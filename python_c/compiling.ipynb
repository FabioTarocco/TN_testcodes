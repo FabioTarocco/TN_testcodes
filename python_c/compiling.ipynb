{
 "cells": [
  {
   "cell_type": "markdown",
   "metadata": {},
   "source": [
    "GET A MPS WITH NATIVE BOND DIMENSION 2"
   ]
  },
  {
   "cell_type": "code",
   "execution_count": 285,
   "metadata": {},
   "outputs": [],
   "source": [
    "import numpy as np\n",
    "from ncon import ncon\n",
    "from numpy import linalg as LA \n",
    "from scipy.linalg import null_space as NS "
   ]
  },
  {
   "cell_type": "code",
   "execution_count": 286,
   "metadata": {},
   "outputs": [
    {
     "name": "stdout",
     "output_type": "stream",
     "text": [
      "1.0\n",
      "[0.08239122+0.18253254j 0.20263031+0.23576556j 0.11247537+0.1570885j\n",
      " 0.49650591+0.18852808j 0.4327886 +0.26270614j 0.01166095+0.16245005j\n",
      " 0.19353504+0.35507024j 0.2172829 +0.22421333j]\n"
     ]
    }
   ],
   "source": [
    "N = 3\n",
    "mps = np.random.random(2**N) + np.random.random(2**N) * 1j\n",
    "mps_norm = mps / LA.norm(mps)\n",
    "psi_norm = mps_norm / LA.norm(mps_norm)\n",
    "psi_norm_tens = psi_norm.reshape(2,2,2)\n",
    "print(LA.norm(psi_norm))\n",
    "print(psi_norm)"
   ]
  },
  {
   "cell_type": "code",
   "execution_count": 287,
   "metadata": {},
   "outputs": [
    {
     "name": "stdout",
     "output_type": "stream",
     "text": [
      "Error from MPS to MPS(2):\n",
      " 1.141124117253262\n"
     ]
    }
   ],
   "source": [
    "mps_sites = [0 for _ in range(N)]\n",
    "\n",
    "\n",
    "Atemp, Stemp, Vhtemp = LA.svd(mps_norm.reshape(2,2**(N-1)), full_matrices=False)\n",
    "mps_sites[0] = Atemp.reshape(1,2,2).transpose(0,2,1)  #shape della matrice A_1 ---> A_8 paper è 2,2 - mapping 1 a 1\n",
    "mps_sites[1] = (np.diag(Stemp)@Vhtemp)/LA.norm(Stemp)\n",
    "\n",
    "for i in range(1,N-1):\n",
    "    Atemp, Stemp, Vhtemp = LA.svd(mps_sites[i].reshape(2**2,2**(N-i-1)), full_matrices=False)\n",
    "    mps_sites[i] = Atemp[:,:2].reshape(2,2,2)\n",
    "    mps_sites[i+1] = ((np.diag(Stemp[:2])@Vhtemp[:2,:]).reshape(2,-1))/LA.norm(Stemp)\n",
    "\n",
    "mps_sites[-1] = ((np.diag(Stemp[:2])@Vhtemp[:2,:]).reshape(2,2,1))/LA.norm(Stemp)\n",
    "\n",
    "mps_2 = ncon([mps_sites[0], mps_sites[1], mps_sites[2]],[[-1,1,-2],[1,2,-3],[2,-4,-5]])\n",
    "print(\"Error from MPS to MPS(2):\\n\",LA.norm(mps_norm.reshape(2,2,2) - mps_2[0,:,:,0,:]) / LA.norm(mps_norm))\n",
    "\n"
   ]
  },
  {
   "cell_type": "code",
   "execution_count": 288,
   "metadata": {},
   "outputs": [
    {
     "name": "stdout",
     "output_type": "stream",
     "text": [
      "[[1.+0.j 0.+0.j]\n",
      " [0.-0.j 1.+0.j]]\n",
      "(1, 2, 2)\n",
      "(2, 2, 2)\n",
      "(2, 2, 1)\n",
      "[[-0.63661073-8.27020403e-02j -0.3035888 -0.00000000e+00j\n",
      "   0.29849347+3.87772583e-02j]\n",
      " [ 0.74817264-0.00000000e+00j -0.11809906+1.53422385e-02j\n",
      "   0.11807659+1.73472348e-18j]\n",
      " [-0.11809906-1.53422385e-02j  0.94368057-0.00000000e+00j\n",
      "   0.05537418+7.19365498e-03j]\n",
      " [ 0.11807659-1.73472348e-18j  0.05537418-7.19365498e-03j\n",
      "   0.94463636-0.00000000e+00j]]\n"
     ]
    }
   ],
   "source": [
    "print(np.round(ncon([mps_sites[0].conj(), mps_sites[0]],[[1,2,-1],[1,2,-2]])))\n",
    "\n",
    "print(mps_sites[0].shape)\n",
    "k_a1 = NS(mps_sites[0].reshape(2,2).conj().T)\n",
    "print(mps_sites[1].shape)\n",
    "k_a2 = NS(mps_sites[1].reshape(4,2).conj().T)\n",
    "print(mps_sites[2].shape)\n",
    "k_a3 = NS(mps_sites[2].reshape(4,1).conj().T)\n",
    "print(k_a3)"
   ]
  },
  {
   "cell_type": "code",
   "execution_count": 3,
   "metadata": {},
   "outputs": [
    {
     "name": "stdout",
     "output_type": "stream",
     "text": [
      "0.9999999999999998\n",
      "[0.40344741 0.5049074  0.50379009 0.2339201  0.04703886 0.07145536\n",
      " 0.5057956  0.10309183]\n",
      "Checking Isometries:\n",
      "[[1. 0.]\n",
      " [0. 1.]]\n",
      "[[1. 0.]\n",
      " [0. 1.]]\n",
      "[[1.]]\n",
      "Converting Rank-3 tensor (j,l,k) in Rank-2 tensor (j*l,k)\n",
      "Creating null_spaces and G matrix [A, X] where X is such that A^dagX = 0 and X^dagX = I\n",
      "------ Site 0-----\n",
      "Isomery: \n",
      " [[-0.88340446 -0.46861131]\n",
      " [-0.46861131  0.88340446]]\n",
      "Null_space: \n",
      " []\n",
      "Extended: \n",
      " [[-0.88340446 -0.46861131]\n",
      " [-0.46861131  0.88340446]]\n",
      "------ Site 1-----\n",
      "Isomery: \n",
      " [[-0.6031297   0.68923815]\n",
      " [-0.74416651 -0.5243049 ]\n",
      " [-0.22752676  0.22973445]\n",
      " [ 0.1751638   0.44415902]]\n",
      "Null_space: \n",
      " [[-0.33005373 -0.22858233]\n",
      " [-0.02129643  0.41336067]\n",
      " [ 0.94372125 -0.06959782]\n",
      " [-0.00109303  0.87865762]]\n",
      "Extended: \n",
      " [[-0.6031297   0.68923815 -0.33005373 -0.22858233]\n",
      " [-0.74416651 -0.5243049  -0.02129643  0.41336067]\n",
      " [-0.22752676  0.22973445  0.94372125 -0.06959782]\n",
      " [ 0.1751638   0.44415902 -0.00109303  0.87865762]]\n",
      "------ Site 2-----\n",
      "Isomery: \n",
      " [[ 0.80630522]\n",
      " [ 0.51516695]\n",
      " [ 0.15648645]\n",
      " [-0.24492224]]\n",
      "Null_space: \n",
      " [[-0.51516695 -0.15648645  0.24492224]\n",
      " [ 0.8530719  -0.04463069  0.069853  ]\n",
      " [-0.04463069  0.98644304  0.02121846]\n",
      " [ 0.069853    0.02121846  0.96679027]]\n",
      "Extended: \n",
      " [[ 0.80630522 -0.51516695 -0.15648645  0.24492224]\n",
      " [ 0.51516695  0.8530719  -0.04463069  0.069853  ]\n",
      " [ 0.15648645 -0.04463069  0.98644304  0.02121846]\n",
      " [-0.24492224  0.069853    0.02121846  0.96679027]]\n"
     ]
    }
   ],
   "source": [
    "import numpy as np\n",
    "from numpy import linalg as LA\n",
    "from scipy.linalg import null_space\n",
    "from ncon import ncon\n",
    "\n",
    "\n",
    "N = 3\n",
    "mps = np.random.random(2**N) #+ np.random.random(2**N) * 1j\n",
    "mps_norm = mps / LA.norm(mps)\n",
    "psi_norm = mps_norm / LA.norm(mps_norm)\n",
    "psi = psi_norm.reshape(2,2,2)\n",
    "print(LA.norm(psi_norm))\n",
    "print(psi_norm)\n",
    "\n",
    "mps_sites = [0 for _ in range(N)]\n",
    "\n",
    "Atemp, Stemp, Vhtemp = LA.svd(psi.reshape(2,2**(N-1)), full_matrices=False)\n",
    "mps_sites[0] = Atemp.reshape(1,2,2)  #shape della matrice A_1 ---> A_8 paper è 2,2 - mapping 1 a 1\n",
    "mps_sites[1] = (np.diag(Stemp)@Vhtemp)/LA.norm(Stemp)\n",
    "\n",
    "for i in range(1,N-1):\n",
    "    Atemp, Stemp, Vhtemp = LA.svd(mps_sites[i].reshape(2**2,2**(N-i-1)), full_matrices=False)\n",
    "    mps_sites[i] = Atemp[:,:2].reshape(2,2,2)\n",
    "    mps_sites[i+1] = ((np.diag(Stemp[:2])@Vhtemp[:2,:]).reshape(2,-1))/LA.norm(Stemp)\n",
    "\n",
    "mps_sites[-1] = ((np.diag(Stemp[:2])@Vhtemp[:2,:]).reshape(2,2,1))/LA.norm(Stemp)\n",
    "\n",
    "\n",
    "print(\"Checking Isometries:\")\n",
    "for site in mps_sites:\n",
    "    print(np.round((ncon([site,site],[[1,2,-1],[1,2,-2]]))))\n",
    "\n",
    "print(\"Converting Rank-3 tensor (j,l,k) in Rank-2 tensor (j*l,k)\")\n",
    "A_sites = [0 for _ in range(N)]\n",
    "for i in range(len(mps_sites)):\n",
    "    shape = mps_sites[i].shape\n",
    "    A_sites[i] = mps_sites[i].reshape(shape[0]*shape[1], shape[2])\n",
    "\n",
    "NULL = [0 for _ in range(0,N)]\n",
    "print(\"Creating null_spaces and G matrix [A, X] where X is such that A^dagX = 0 and X^dagX = I\")\n",
    "\n",
    "G = [0 for _ in range(N)]\n",
    "for i in range(len(A_sites)):\n",
    "    k = null_space(A_sites[i].conj().T)\n",
    "    NULL[i] = k\n",
    "    G[i] = np.block([[A_sites[i],k]])\n",
    "    print(\"------ Site %i-----\"%i)\n",
    "    print(\"Isomery: \\n\" ,A_sites[i])\n",
    "    print(\"Null_space: \\n\", k)\n",
    "    print(\"Extended: \\n\", G[i])\n",
    "\n",
    "\n",
    "G_rank4 = [G[0]]\n",
    "for Gs in G[1:]:\n",
    "    G_rank4.append(Gs.reshape(2,2,2,2))\n",
    "\n",
    "psi_2 = ncon([mps_sites[0],mps_sites[1],mps_sites[2]],[[-1,-2,1],[1,-3,2],[2,-4,-5]])"
   ]
  },
  {
   "cell_type": "code",
   "execution_count": 4,
   "metadata": {},
   "outputs": [
    {
     "name": "stdout",
     "output_type": "stream",
     "text": [
      "Checking isometries\n",
      "[[1. 0.]\n",
      " [0. 1.]]\n",
      "[[1. 0.]\n",
      " [0. 1.]]\n",
      "[[1.]]\n",
      "\n",
      "Checking unitary\n",
      "Site 0\n",
      " [[1. 0.]\n",
      " [0. 1.]]\n",
      "[[1.0000000e+00 1.0260533e-16]\n",
      " [1.0260533e-16 1.0000000e+00]]\n",
      "Site 1\n",
      " [[ 1. -0.  0.  0.]\n",
      " [-0.  1. -0. -0.]\n",
      " [ 0. -0.  1.  0.]\n",
      " [ 0. -0.  0.  1.]]\n",
      "[[ 1.00000000e+00 -2.92595144e-16  1.01631004e-16  1.20357642e-16]\n",
      " [-2.92595144e-16  1.00000000e+00 -3.19933074e-17 -1.93917316e-16]\n",
      " [ 1.01631004e-16 -3.19933074e-17  1.00000000e+00  1.75806647e-17]\n",
      " [ 1.20357642e-16 -1.93917316e-16  1.75806647e-17  1.00000000e+00]]\n",
      "Site 2\n",
      " [[ 1.  0.  0. -0.]\n",
      " [ 0.  1.  0. -0.]\n",
      " [ 0.  0.  1. -0.]\n",
      " [-0. -0. -0.  1.]]\n",
      "[[ 1.00000000e+00  1.63710062e-16  6.42156995e-17 -9.43782360e-17]\n",
      " [ 1.63710062e-16  1.00000000e+00  2.58376572e-17 -4.23688781e-17]\n",
      " [ 6.42156995e-17  2.58376572e-17  1.00000000e+00 -1.56069072e-17]\n",
      " [-9.43782360e-17 -4.23688781e-17 -1.56069072e-17  1.00000000e+00]]\n"
     ]
    }
   ],
   "source": [
    "print(\"Checking isometries\")\n",
    "for site in mps_sites:\n",
    "    print(np.round(ncon([site,site],[[1,2,-1],[1,2,-2]])))\n",
    "\n",
    "print(\"\\nChecking unitary\")\n",
    "for i in range(len(G)):\n",
    "    print(\"Site %i\\n\"%i, np.round(G[i]@G[i].T))\n",
    "    print(ncon([G[i], G[i].conjugate()],[[-1,1],[-2,1]]))"
   ]
  },
  {
   "cell_type": "code",
   "execution_count": 5,
   "metadata": {},
   "outputs": [
    {
     "name": "stdout",
     "output_type": "stream",
     "text": [
      "\n",
      "\n",
      "G RANK_4 ---> G2 top 2-qubit gate (mps site 1-2)\n",
      "\tMPS site 2\n",
      "[[ 0.80630522]\n",
      " [ 0.51516695]\n",
      " [ 0.15648645]\n",
      " [-0.24492224]]\n",
      "(2, 2, 1)\n",
      "\tG_2 matrix\n",
      "[[[[ 0.80630522 -0.51516695]\n",
      "   [-0.15648645  0.24492224]]\n",
      "\n",
      "  [[ 0.51516695  0.8530719 ]\n",
      "   [-0.04463069  0.069853  ]]]\n",
      "\n",
      "\n",
      " [[[ 0.15648645 -0.04463069]\n",
      "   [ 0.98644304  0.02121846]]\n",
      "\n",
      "  [[-0.24492224  0.069853  ]\n",
      "   [ 0.02121846  0.96679027]]]]\n",
      "(2, 2, 2, 2)\n",
      "\tCorrenspondence A_2 == G_2[:,:,0,0]\n",
      "[[ 0.80630522]\n",
      " [ 0.51516695]\n",
      " [ 0.15648645]\n",
      " [-0.24492224]]\n",
      "\n",
      "-------\n",
      "\n",
      "G RANK_4 ---> G1 top 2-qubit gate (mps site 0-1)\n",
      "\tMPS site 1\n",
      "[[-0.6031297 ]\n",
      " [ 0.68923815]\n",
      " [-0.74416651]\n",
      " [-0.5243049 ]\n",
      " [-0.22752676]\n",
      " [ 0.22973445]\n",
      " [ 0.1751638 ]\n",
      " [ 0.44415902]]\n",
      "\tG_2 matrix\n",
      "[[[[-0.6031297   0.68923815]\n",
      "   [-0.33005373 -0.22858233]]\n",
      "\n",
      "  [[-0.74416651 -0.5243049 ]\n",
      "   [-0.02129643  0.41336067]]]\n",
      "\n",
      "\n",
      " [[[-0.22752676  0.22973445]\n",
      "   [ 0.94372125 -0.06959782]]\n",
      "\n",
      "  [[ 0.1751638   0.44415902]\n",
      "   [-0.00109303  0.87865762]]]]\n",
      "(2, 2, 2, 2)\n",
      "\tCorrenspondence A_1 == G_1[:,:,0,:]\n",
      "[[-0.6031297 ]\n",
      " [ 0.68923815]\n",
      " [-0.74416651]\n",
      " [-0.5243049 ]\n",
      " [-0.22752676]\n",
      " [ 0.22973445]\n",
      " [ 0.1751638 ]\n",
      " [ 0.44415902]]\n",
      "\n",
      "-------\n",
      "\n",
      "G RANK_4 ---> G0 bottom 1-qubit gate\n",
      "\tCorrenspondence A_0 == G_0\n",
      "[[-0.88340446]\n",
      " [-0.46861131]\n",
      " [-0.46861131]\n",
      " [ 0.88340446]]\n",
      "(1, 2, 2)\n",
      "[[-0.88340446]\n",
      " [-0.46861131]\n",
      " [-0.46861131]\n",
      " [ 0.88340446]]\n",
      "(2, 2)\n"
     ]
    }
   ],
   "source": [
    "\n",
    "print(\"\\n\\nG RANK_4 ---> G2 top 2-qubit gate (mps site 1-2)\")\n",
    "print(\"\\tMPS site 2\")\n",
    "print(mps_sites[2].reshape(4,1))\n",
    "print(mps_sites[2].shape)\n",
    "print(\"\\tG_2 matrix\")\n",
    "print(G_rank4[2])\n",
    "print(G_rank4[2].shape)\n",
    "\n",
    "print(\"\\tCorrenspondence A_2 == G_2[:,:,0,0]\")\n",
    "print(G_rank4[2][:,:,0,0].reshape(4,1))\n",
    "\n",
    "print(\"\\n-------\\n\")\n",
    "print(\"G RANK_4 ---> G1 top 2-qubit gate (mps site 0-1)\")\n",
    "print(\"\\tMPS site 1\")\n",
    "print(mps_sites[1].reshape(8,1))\n",
    "print(\"\\tG_2 matrix\")\n",
    "print(G_rank4[1])\n",
    "print(G_rank4[1].shape)\n",
    "\n",
    "print(\"\\tCorrenspondence A_1 == G_1[:,:,0,:]\")\n",
    "print(G_rank4[1][:,:,0,:].reshape(8,1))\n",
    "\n",
    "\n",
    "print(\"\\n-------\\n\")\n",
    "print(\"G RANK_4 ---> G0 bottom 1-qubit gate\")\n",
    "\n",
    "\n",
    "print(\"\\tCorrenspondence A_0 == G_0\")\n",
    "print(mps_sites[0].reshape(4,1))\n",
    "print(mps_sites[0].shape)\n",
    "print(G_rank4[0].reshape(4,1))\n",
    "print(G_rank4[0].shape)\n"
   ]
  },
  {
   "cell_type": "markdown",
   "metadata": {},
   "source": [
    "CHECK LEFT-CANONICAL CONDITIONS"
   ]
  },
  {
   "cell_type": "code",
   "execution_count": 402,
   "metadata": {},
   "outputs": [
    {
     "name": "stdout",
     "output_type": "stream",
     "text": [
      "[[ 1.00000000e+00 -2.41127129e-18]\n",
      " [-2.41127129e-18  1.00000000e+00]]\n",
      "[[ 1.00000000e+00 -6.74982104e-17]\n",
      " [-6.74982104e-17  1.00000000e+00]]\n",
      "[[1.]]\n"
     ]
    }
   ],
   "source": [
    "for i in mps_sites:\n",
    "    print(ncon([i.conj(),i],[[1,2,-1],[1,2,-2]]))\n",
    "\n"
   ]
  },
  {
   "cell_type": "markdown",
   "metadata": {},
   "source": [
    "CREAZIONE DELL'MPO"
   ]
  },
  {
   "cell_type": "code",
   "execution_count": 16,
   "metadata": {},
   "outputs": [
    {
     "name": "stdout",
     "output_type": "stream",
     "text": [
      "[[1.0000000e+00 1.0260533e-16]\n",
      " [1.0260533e-16 1.0000000e+00]]\n",
      "[[ 1.00000000e+00  1.55876408e-16 -6.58064804e-17 -6.86669063e-17]\n",
      " [ 1.55876408e-16  1.00000000e+00 -3.80730157e-17 -1.82887334e-16]\n",
      " [-6.58064804e-17 -3.80730157e-17  1.00000000e+00 -1.22304965e-18]\n",
      " [-6.86669063e-17 -1.82887334e-16 -1.22304965e-18  1.00000000e+00]]\n",
      "[[ 1.00000000e+00  3.71096879e-17 -9.03266464e-18 -1.48005563e-17]\n",
      " [ 3.71096879e-17  1.00000000e+00 -1.60380575e-17  1.31422732e-17]\n",
      " [-9.03266464e-18 -1.60380575e-17  1.00000000e+00 -1.61390004e-18]\n",
      " [-1.48005563e-17  1.31422732e-17 -1.61390004e-18  1.00000000e+00]]\n",
      "[[ 1.  0.  0. -0.]\n",
      " [ 0.  1.  0. -0.]\n",
      " [ 0.  0.  1. -0.]\n",
      " [-0. -0. -0.  1.]]\n",
      "[[ 1.00000000e+00  8.32667268e-17  1.61329283e-16 -3.46944695e-17\n",
      "  -1.66533454e-16  2.77555756e-16  8.32667268e-17 -2.22044605e-16]\n",
      " [ 9.71445147e-17  1.00000000e+00  2.77555756e-17  1.90819582e-16\n",
      "  -2.77555756e-17  6.93889390e-17 -9.02056208e-17 -1.52655666e-16]\n",
      " [ 1.28369537e-16  3.46944695e-17  1.00000000e+00  9.71445147e-17\n",
      "  -5.55111512e-17  2.22044605e-16 -2.22044605e-16  1.94289029e-16]\n",
      " [-5.55111512e-17  1.80411242e-16  9.71445147e-17  1.00000000e+00\n",
      "  -1.38777878e-17  6.93889390e-17 -5.55111512e-17  5.55111512e-17]\n",
      " [-1.66533454e-16  2.77555756e-17 -8.32667268e-17 -4.16333634e-17\n",
      "   1.00000000e+00 -3.33066907e-16  5.55111512e-17  0.00000000e+00]\n",
      " [ 2.22044605e-16  1.45716772e-16  2.22044605e-16  9.71445147e-17\n",
      "  -4.44089210e-16  1.00000000e+00 -8.32667268e-17 -4.51028104e-17]\n",
      " [ 5.55111512e-17 -6.93889390e-17 -2.22044605e-16 -5.55111512e-17\n",
      "   4.16333634e-17 -1.24900090e-16  1.00000000e+00 -3.88578059e-16]\n",
      " [-2.77555756e-16 -1.59594560e-16  2.22044605e-16  0.00000000e+00\n",
      "  -6.93889390e-18 -4.16333634e-17 -3.88578059e-16  1.00000000e+00]]\n",
      "[[[[[0.40344741]\n",
      "    [0.5049074 ]]\n",
      "\n",
      "   [[0.50379009]\n",
      "    [0.2339201 ]]]\n",
      "\n",
      "\n",
      "  [[[0.04703886]\n",
      "    [0.07145536]]\n",
      "\n",
      "   [[0.5057956 ]\n",
      "    [0.10309183]]]]]\n",
      "[[[ 0.12109441  0.55934846]\n",
      "  [ 0.73415003  0.22139166]]\n",
      "\n",
      " [[-0.00997288 -0.06368856]\n",
      "  [-0.2585898  -0.11597646]]]\n",
      "[[[ 0.62770258 -0.5049074 ]\n",
      "  [ 0.42397093 -0.2339201 ]]\n",
      "\n",
      " [[ 0.08460699 -0.07145536]\n",
      "  [ 0.30609783 -0.10309183]]]\n"
     ]
    }
   ],
   "source": [
    "print(ncon([G_rank4[0], G_rank4[0]],[[-1,1],[-2,1]]).reshape(2,2))\n",
    "print(ncon([G_rank4[1], G_rank4[1]],[[1,2,-1,-2],[1,2,-3,-4]]).reshape(4,4))\n",
    "print(ncon([G_rank4[2], G_rank4[2]],[[1,2,-1,-2],[1,2,-3,-4]]).reshape(4,4))\n",
    "\n",
    "print(np.round(ncon([G_rank4[2], G_rank4[2]],[[-1,-2,1,2],[-3,-4,1,2]]).reshape(4,4)))\n",
    "\n",
    "\n",
    "MPO_UU = ncon([G_rank4[2], G_rank4[1], G_rank4[0], G_rank4[0],G_rank4[1], G_rank4[2]],[[-1,-2,1,2],[-3,1,4,5],[4,6],[7,6],[-6,3,7,5],[-4,-5,3,2]])\n",
    "MPO = ncon([G_rank4[2],G_rank4[1],G_rank4[0]],[[-1,-2,-4, 1],[1,-3,-5,2],[2,-6]])\n",
    "print(MPO_UU.reshape(8,8))\n",
    "\n",
    "MPO_UU2 = ncon([G_rank4[2], G_rank4[1], G_rank4[0], G_rank4[0],G_rank4[1], G_rank4[2]],[[1,2,-2,-3],[3,4,-1,1],[3,5],[6,5],[6,4,-4,7],[7,2,-5,-6]])\n",
    "\n",
    "MPO_2 = ncon([G_rank4[2], G_rank4[1], G_rank4[0]],[[-2,-3,1,-6],[2,-5,-1,1],[2,-4]])\n",
    "\n",
    "\n",
    "zero_state = np.zeros(2**N)\n",
    "zero_state[0] = 1\n",
    "zero_state = zero_state.reshape(2,2,2)\n",
    "print(psi_2)\n",
    "psi_zero_MPO = ncon([zero_state, MPO],[[1,2,3],[1,2,3,-1,-2,-3]])\n",
    "psi_zero_MPO2 = ncon ([zero_state, MPO_2],[[1,2,3],[1,2,3,-1,-2,-3]])\n",
    "print(psi_zero_MPO)\n",
    "print(psi_zero_MPO2)\n"
   ]
  },
  {
   "cell_type": "code",
   "execution_count": 455,
   "metadata": {},
   "outputs": [],
   "source": [
    "G_reshaped = [0 for i in range(0,3)]\n",
    "G_reshaped[0] = mps_sites[0].reshape(2,2)\n",
    "G_reshaped[1] = np.zeros((4,4))#, dtype=complex)\n",
    "G_reshaped[1][0,:] = mps_sites[1].reshape(4,2)[:,0]\n",
    "G_reshaped[1][1,:] = mps_sites[1].reshape(4,2)[:,1]\n",
    "G_reshaped[1][2,:] = NULL[1][:,0]\n",
    "G_reshaped[1][3,:] = NULL[1][:,1]\n",
    "G_reshaped[2] = np.zeros((4,4))#, dtype=complex)\n",
    "G_reshaped[2][0,:] = mps_sites[2].reshape(4,1)[:,0]\n",
    "G_reshaped[2][1,:] = NULL[2][:,0]\n",
    "G_reshaped[2][2,:] = NULL[2][:,1]\n",
    "G_reshaped[2][3,:] = NULL[2][:,2]"
   ]
  },
  {
   "cell_type": "code",
   "execution_count": 456,
   "metadata": {},
   "outputs": [
    {
     "name": "stdout",
     "output_type": "stream",
     "text": [
      "[[ 1.00000000e+00 -1.36849590e-16  1.70469437e-17  8.82841899e-18]\n",
      " [-1.36849590e-16  1.00000000e+00  2.75486268e-17 -2.15406870e-17]\n",
      " [ 1.70469437e-17  2.75486268e-17  1.00000000e+00 -1.09856465e-17]\n",
      " [ 8.82841899e-18 -2.15406870e-17 -1.09856465e-17  1.00000000e+00]]\n"
     ]
    }
   ],
   "source": [
    "print(ncon([G_reshaped[2], G_reshaped[2]],[[-1,1],[-2,1]]))"
   ]
  },
  {
   "cell_type": "code",
   "execution_count": 457,
   "metadata": {},
   "outputs": [
    {
     "name": "stdout",
     "output_type": "stream",
     "text": [
      "[[ 1.00000000e+00 -2.41127129e-18]\n",
      " [-2.41127129e-18  1.00000000e+00]]\n",
      "[[ 1.00000000e+00 -6.74982104e-17  6.52938606e-17  7.04255474e-17]\n",
      " [-6.74982104e-17  1.00000000e+00 -7.19099542e-17 -8.22917979e-18]\n",
      " [ 6.52938606e-17 -7.19099542e-17  1.00000000e+00 -4.27381525e-17]\n",
      " [ 7.04255474e-17 -8.22917979e-18 -4.27381525e-17  1.00000000e+00]]\n",
      "[[ 1.00000000e+00 -1.36849590e-16  1.70469437e-17  8.82841899e-18]\n",
      " [-1.36849590e-16  1.00000000e+00  2.75486268e-17 -2.15406870e-17]\n",
      " [ 1.70469437e-17  2.75486268e-17  1.00000000e+00 -1.09856465e-17]\n",
      " [ 8.82841899e-18 -2.15406870e-17 -1.09856465e-17  1.00000000e+00]]\n"
     ]
    }
   ],
   "source": [
    "print(ncon([G_reshaped[0],G_reshaped[0].conjugate()],[[-1,1],[-2,1]]))\n",
    "print(ncon([G_reshaped[1],G_reshaped[1].conjugate()],[[-1,1],[-2,1]]))\n",
    "print(ncon([G_reshaped[2],G_reshaped[2].conjugate()],[[-1,1],[-2,1]]))"
   ]
  },
  {
   "cell_type": "markdown",
   "metadata": {},
   "source": [
    "CHECK CORRESPONDENCE MPS TENSOR TO G MATRICES"
   ]
  },
  {
   "cell_type": "code",
   "execution_count": 458,
   "metadata": {},
   "outputs": [],
   "source": [
    "A  = [0 for _ in range(N)]\n",
    "for i, tens in enumerate(mps_sites):\n",
    "    A[i] = tens.reshape(tens.shape[0]*tens.shape[1], tens.shape[2])\n",
    "\n",
    "\n"
   ]
  },
  {
   "cell_type": "code",
   "execution_count": 473,
   "metadata": {},
   "outputs": [
    {
     "name": "stdout",
     "output_type": "stream",
     "text": [
      "[ 0.3827689  -0.62179912 -0.68272828 -0.02712786]\n",
      "[ 0.3827689  -0.62179912 -0.68272828 -0.02712786]\n"
     ]
    }
   ],
   "source": []
  },
  {
   "cell_type": "code",
   "execution_count": null,
   "metadata": {},
   "outputs": [],
   "source": []
  }
 ],
 "metadata": {
  "kernelspec": {
   "display_name": "benchmark",
   "language": "python",
   "name": "python3"
  },
  "language_info": {
   "codemirror_mode": {
    "name": "ipython",
    "version": 3
   },
   "file_extension": ".py",
   "mimetype": "text/x-python",
   "name": "python",
   "nbconvert_exporter": "python",
   "pygments_lexer": "ipython3",
   "version": "3.10.9"
  },
  "orig_nbformat": 4
 },
 "nbformat": 4,
 "nbformat_minor": 2
}
