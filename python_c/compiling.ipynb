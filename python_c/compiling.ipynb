{
 "cells": [
  {
   "cell_type": "markdown",
   "metadata": {},
   "source": [
    "GET A MPS WITH NATIVE BOND DIMENSION 2"
   ]
  },
  {
   "cell_type": "code",
   "execution_count": 285,
   "metadata": {},
   "outputs": [],
   "source": [
    "import numpy as np\n",
    "from ncon import ncon\n",
    "from numpy import linalg as LA \n",
    "from scipy.linalg import null_space as NS "
   ]
  },
  {
   "cell_type": "code",
   "execution_count": 286,
   "metadata": {},
   "outputs": [
    {
     "name": "stdout",
     "output_type": "stream",
     "text": [
      "1.0\n",
      "[0.08239122+0.18253254j 0.20263031+0.23576556j 0.11247537+0.1570885j\n",
      " 0.49650591+0.18852808j 0.4327886 +0.26270614j 0.01166095+0.16245005j\n",
      " 0.19353504+0.35507024j 0.2172829 +0.22421333j]\n"
     ]
    }
   ],
   "source": [
    "N = 3\n",
    "mps = np.random.random(2**N) + np.random.random(2**N) * 1j\n",
    "mps_norm = mps / LA.norm(mps)\n",
    "psi_norm = mps_norm / LA.norm(mps_norm)\n",
    "psi_norm_tens = psi_norm.reshape(2,2,2)\n",
    "print(LA.norm(psi_norm))\n",
    "print(psi_norm)"
   ]
  },
  {
   "cell_type": "code",
   "execution_count": 287,
   "metadata": {},
   "outputs": [
    {
     "name": "stdout",
     "output_type": "stream",
     "text": [
      "Error from MPS to MPS(2):\n",
      " 1.141124117253262\n"
     ]
    }
   ],
   "source": [
    "mps_sites = [0 for _ in range(N)]\n",
    "\n",
    "\n",
    "Atemp, Stemp, Vhtemp = LA.svd(mps_norm.reshape(2,2**(N-1)), full_matrices=False)\n",
    "mps_sites[0] = Atemp.reshape(1,2,2).transpose(0,2,1)  #shape della matrice A_1 ---> A_8 paper è 2,2 - mapping 1 a 1\n",
    "mps_sites[1] = (np.diag(Stemp)@Vhtemp)/LA.norm(Stemp)\n",
    "\n",
    "for i in range(1,N-1):\n",
    "    Atemp, Stemp, Vhtemp = LA.svd(mps_sites[i].reshape(2**2,2**(N-i-1)), full_matrices=False)\n",
    "    mps_sites[i] = Atemp[:,:2].reshape(2,2,2)\n",
    "    mps_sites[i+1] = ((np.diag(Stemp[:2])@Vhtemp[:2,:]).reshape(2,-1))/LA.norm(Stemp)\n",
    "\n",
    "mps_sites[-1] = ((np.diag(Stemp[:2])@Vhtemp[:2,:]).reshape(2,2,1))/LA.norm(Stemp)\n",
    "\n",
    "mps_2 = ncon([mps_sites[0], mps_sites[1], mps_sites[2]],[[-1,1,-2],[1,2,-3],[2,-4,-5]])\n",
    "print(\"Error from MPS to MPS(2):\\n\",LA.norm(mps_norm.reshape(2,2,2) - mps_2[0,:,:,0,:]) / LA.norm(mps_norm))\n",
    "\n"
   ]
  },
  {
   "cell_type": "code",
   "execution_count": 288,
   "metadata": {},
   "outputs": [
    {
     "name": "stdout",
     "output_type": "stream",
     "text": [
      "[[1.+0.j 0.+0.j]\n",
      " [0.-0.j 1.+0.j]]\n",
      "(1, 2, 2)\n",
      "(2, 2, 2)\n",
      "(2, 2, 1)\n",
      "[[-0.63661073-8.27020403e-02j -0.3035888 -0.00000000e+00j\n",
      "   0.29849347+3.87772583e-02j]\n",
      " [ 0.74817264-0.00000000e+00j -0.11809906+1.53422385e-02j\n",
      "   0.11807659+1.73472348e-18j]\n",
      " [-0.11809906-1.53422385e-02j  0.94368057-0.00000000e+00j\n",
      "   0.05537418+7.19365498e-03j]\n",
      " [ 0.11807659-1.73472348e-18j  0.05537418-7.19365498e-03j\n",
      "   0.94463636-0.00000000e+00j]]\n"
     ]
    }
   ],
   "source": [
    "print(np.round(ncon([mps_sites[0].conj(), mps_sites[0]],[[1,2,-1],[1,2,-2]])))\n",
    "\n",
    "print(mps_sites[0].shape)\n",
    "k_a1 = NS(mps_sites[0].reshape(2,2).conj().T)\n",
    "print(mps_sites[1].shape)\n",
    "k_a2 = NS(mps_sites[1].reshape(4,2).conj().T)\n",
    "print(mps_sites[2].shape)\n",
    "k_a3 = NS(mps_sites[2].reshape(4,1).conj().T)\n",
    "print(k_a3)"
   ]
  },
  {
   "cell_type": "code",
   "execution_count": 399,
   "metadata": {},
   "outputs": [
    {
     "name": "stdout",
     "output_type": "stream",
     "text": [
      "1.0\n",
      "[0.13425563 0.02682572 0.44968533 0.45561805 0.14525098 0.64100299\n",
      " 0.31339964 0.20309873]\n",
      "Checking Isometries:\n",
      "[[ 1. -0.]\n",
      " [-0.  1.]]\n",
      "[[ 1. -0.]\n",
      " [-0.  1.]]\n",
      "[[1.]]\n",
      "Converting Rank-3 tensor (j,l,k) in Rank-2 tensor (j*l,k)\n",
      "Creating null_spaces and G matrix [A, X] where X is such that A^dagX = 0 and X^dagX = I\n",
      "------ Site 0-----\n",
      "Isomery: \n",
      " [[-0.61004783 -0.79236459]\n",
      " [-0.79236459  0.61004783]]\n",
      "Null_space: \n",
      " []\n",
      "Extended: \n",
      " [[-0.61004783 -0.79236459]\n",
      " [-0.79236459  0.61004783]]\n",
      "------ Site 1-----\n",
      "Isomery: \n",
      " [[-0.57659619  0.3827689 ]\n",
      " [-0.68897153 -0.62179912]\n",
      " [ 0.31632286 -0.68272828]\n",
      " [-0.30462259 -0.02712786]]\n",
      "Null_space: \n",
      " [[ 0.67930529 -0.24406788]\n",
      " [-0.30907487 -0.2077422 ]\n",
      " [ 0.65848681  0.01473307]\n",
      " [ 0.09701634  0.94713092]]\n",
      "Extended: \n",
      " [[-0.57659619  0.3827689   0.67930529 -0.24406788]\n",
      " [-0.68897153 -0.62179912 -0.30907487 -0.2077422 ]\n",
      " [ 0.31632286 -0.68272828  0.65848681  0.01473307]\n",
      " [-0.30462259 -0.02712786  0.09701634  0.94713092]]\n",
      "------ Site 2-----\n",
      "Isomery: \n",
      " [[ 0.51836161]\n",
      " [ 0.79387041]\n",
      " [ 0.2661952 ]\n",
      " [-0.17381347]]\n",
      "Null_space: \n",
      " [[-0.79387041 -0.2661952   0.17381347]\n",
      " [ 0.58492745 -0.13917929  0.09087781]\n",
      " [-0.13917929  0.95333135  0.03047253]\n",
      " [ 0.09087781  0.03047253  0.98010281]]\n",
      "Extended: \n",
      " [[ 0.51836161 -0.79387041 -0.2661952   0.17381347]\n",
      " [ 0.79387041  0.58492745 -0.13917929  0.09087781]\n",
      " [ 0.2661952  -0.13917929  0.95333135  0.03047253]\n",
      " [-0.17381347  0.09087781  0.03047253  0.98010281]]\n"
     ]
    }
   ],
   "source": [
    "import numpy as np\n",
    "from numpy import linalg as LA\n",
    "from scipy.linalg import null_space\n",
    "from ncon import ncon\n",
    "\n",
    "\n",
    "N = 3\n",
    "mps = np.random.random(2**N) #+ np.random.random(2**N) * 1j\n",
    "mps_norm = mps / LA.norm(mps)\n",
    "psi_norm = mps_norm / LA.norm(mps_norm)\n",
    "psi = psi_norm.reshape(2,2,2)\n",
    "print(LA.norm(psi_norm))\n",
    "print(psi_norm)\n",
    "\n",
    "\n",
    "Atemp, Stemp, Vhtemp = LA.svd(psi.reshape(2,2**(N-1)), full_matrices=False)\n",
    "mps_sites[0] = Atemp.reshape(1,2,2)  #shape della matrice A_1 ---> A_8 paper è 2,2 - mapping 1 a 1\n",
    "mps_sites[1] = (np.diag(Stemp)@Vhtemp)/LA.norm(Stemp)\n",
    "\n",
    "for i in range(1,N-1):\n",
    "    Atemp, Stemp, Vhtemp = LA.svd(mps_sites[i].reshape(2**2,2**(N-i-1)), full_matrices=False)\n",
    "    mps_sites[i] = Atemp[:,:2].reshape(2,2,2)\n",
    "    mps_sites[i+1] = ((np.diag(Stemp[:2])@Vhtemp[:2,:]).reshape(2,-1))/LA.norm(Stemp)\n",
    "\n",
    "mps_sites[-1] = ((np.diag(Stemp[:2])@Vhtemp[:2,:]).reshape(2,2,1))/LA.norm(Stemp)\n",
    "\n",
    "\n",
    "print(\"Checking Isometries:\")\n",
    "for site in mps_sites:\n",
    "    print(np.round((ncon([site,site],[[1,2,-1],[1,2,-2]]))))\n",
    "\n",
    "print(\"Converting Rank-3 tensor (j,l,k) in Rank-2 tensor (j*l,k)\")\n",
    "A_sites = [0 for _ in range(N)]\n",
    "for i in range(len(mps_sites)):\n",
    "    shape = mps_sites[i].shape\n",
    "    A_sites[i] = mps_sites[i].reshape(shape[0]*shape[1], shape[2])\n",
    "\n",
    "NULL = [0 for _ in range(0,N)]\n",
    "print(\"Creating null_spaces and G matrix [A, X] where X is such that A^dagX = 0 and X^dagX = I\")\n",
    "\n",
    "G = [0 for _ in range(N)]\n",
    "for i in range(len(A_sites)):\n",
    "    k = null_space(A_sites[i].conj().T)\n",
    "    NULL[i] = k\n",
    "    G[i] = np.block([[A_sites[i],k]])\n",
    "    print(\"------ Site %i-----\"%i)\n",
    "    print(\"Isomery: \\n\" ,A_sites[i])\n",
    "    print(\"Null_space: \\n\", k)\n",
    "    print(\"Extended: \\n\", G[i])\n",
    "\n",
    "\n",
    "G_rank4 = [G[0]]\n",
    "for Gs in G[1:]:\n",
    "    G_rank4.append(Gs.reshape(2,2,2,2))\n",
    "\n",
    "psi_2 = ncon([mps_sites[0],mps_sites[1],mps_sites[2]],[[-1,-2,1],[1,-3,2],[2,-4,-5]])"
   ]
  },
  {
   "cell_type": "code",
   "execution_count": 400,
   "metadata": {},
   "outputs": [
    {
     "name": "stdout",
     "output_type": "stream",
     "text": [
      "Checking isometries\n",
      "[[ 1. -0.]\n",
      " [-0.  1.]]\n",
      "[[ 1. -0.]\n",
      " [-0.  1.]]\n",
      "[[1.]]\n",
      "\n",
      "Checking unitary\n",
      "[[ 1.00000000e+00 -2.41127129e-18]\n",
      " [-2.41127129e-18  1.00000000e+00]]\n",
      "Site 0\n",
      " [[ 1. -0.]\n",
      " [-0.  1.]]\n",
      "[[ 1.00000000e+00 -1.45717729e-16  1.98418665e-17 -1.20626076e-16]\n",
      " [-1.45717729e-16  1.00000000e+00  9.65407472e-17 -8.29055308e-17]\n",
      " [ 1.98418665e-17  9.65407472e-17  1.00000000e+00  3.09176338e-17]\n",
      " [-1.20626076e-16 -8.29055308e-17  3.09176338e-17  1.00000000e+00]]\n",
      "Site 1\n",
      " [[ 1. -0.  0. -0.]\n",
      " [-0.  1.  0. -0.]\n",
      " [ 0.  0.  1.  0.]\n",
      " [-0. -0.  0.  1.]]\n",
      "[[ 1.00000000e+00  2.14107590e-17  1.09513778e-17  1.83748988e-17]\n",
      " [ 2.14107590e-17  1.00000000e+00 -5.22244575e-19  3.39704643e-17]\n",
      " [ 1.09513778e-17 -5.22244575e-19  1.00000000e+00 -3.97772036e-18]\n",
      " [ 1.83748988e-17  3.39704643e-17 -3.97772036e-18  1.00000000e+00]]\n",
      "Site 2\n",
      " [[ 1.  0.  0.  0.]\n",
      " [ 0.  1. -0.  0.]\n",
      " [ 0. -0.  1. -0.]\n",
      " [ 0.  0. -0.  1.]]\n"
     ]
    }
   ],
   "source": [
    "print(\"Checking isometries\")\n",
    "for site in mps_sites:\n",
    "    print(np.round(ncon([site,site],[[1,2,-1],[1,2,-2]])))\n",
    "\n",
    "print(\"\\nChecking unitary\")\n",
    "for i in range(len(G)):\n",
    "    print(ncon([G[i], G[i].conjugate()],[[-1,1],[-2,1]]))\n",
    "    print(\"Site %i\\n\"%i, np.round(G[i]@G[i].T))"
   ]
  },
  {
   "cell_type": "code",
   "execution_count": 401,
   "metadata": {},
   "outputs": [
    {
     "name": "stdout",
     "output_type": "stream",
     "text": [
      "\n",
      "\n",
      "G RANK_4 ---> G2 top 2-qubit gate (mps site 1-2)\n",
      "\tMPS site 2\n",
      "[[ 0.51836161]\n",
      " [ 0.79387041]\n",
      " [ 0.2661952 ]\n",
      " [-0.17381347]]\n",
      "(2, 2, 1)\n",
      "\tG_2 matrix\n",
      "[[[[ 0.51836161 -0.79387041]\n",
      "   [-0.2661952   0.17381347]]\n",
      "\n",
      "  [[ 0.79387041  0.58492745]\n",
      "   [-0.13917929  0.09087781]]]\n",
      "\n",
      "\n",
      " [[[ 0.2661952  -0.13917929]\n",
      "   [ 0.95333135  0.03047253]]\n",
      "\n",
      "  [[-0.17381347  0.09087781]\n",
      "   [ 0.03047253  0.98010281]]]]\n",
      "(2, 2, 2, 2)\n",
      "\tCorrenspondence A_2 == G_2[:,:,0,0]\n",
      "[[ 0.51836161]\n",
      " [ 0.79387041]\n",
      " [ 0.2661952 ]\n",
      " [-0.17381347]]\n",
      "\n",
      "-------\n",
      "\n",
      "G RANK_4 ---> G1 top 2-qubit gate (mps site 0-1)\n",
      "\tMPS site 1\n",
      "[[-0.57659619]\n",
      " [ 0.3827689 ]\n",
      " [-0.68897153]\n",
      " [-0.62179912]\n",
      " [ 0.31632286]\n",
      " [-0.68272828]\n",
      " [-0.30462259]\n",
      " [-0.02712786]]\n",
      "\tG_2 matrix\n",
      "[[[[-0.57659619  0.3827689 ]\n",
      "   [ 0.67930529 -0.24406788]]\n",
      "\n",
      "  [[-0.68897153 -0.62179912]\n",
      "   [-0.30907487 -0.2077422 ]]]\n",
      "\n",
      "\n",
      " [[[ 0.31632286 -0.68272828]\n",
      "   [ 0.65848681  0.01473307]]\n",
      "\n",
      "  [[-0.30462259 -0.02712786]\n",
      "   [ 0.09701634  0.94713092]]]]\n",
      "(2, 2, 2, 2)\n",
      "\tCorrenspondence A_1 == G_1[:,:,0,:]\n",
      "[[-0.57659619]\n",
      " [ 0.3827689 ]\n",
      " [-0.68897153]\n",
      " [-0.62179912]\n",
      " [ 0.31632286]\n",
      " [-0.68272828]\n",
      " [-0.30462259]\n",
      " [-0.02712786]]\n",
      "\n",
      "-------\n",
      "\n",
      "G RANK_4 ---> G0 bottom 1-qubit gate\n",
      "\tCorrenspondence A_0 == G_0\n",
      "[[-0.61004783]\n",
      " [-0.79236459]\n",
      " [-0.79236459]\n",
      " [ 0.61004783]]\n",
      "(1, 2, 2)\n",
      "[[-0.61004783]\n",
      " [-0.79236459]\n",
      " [-0.79236459]\n",
      " [ 0.61004783]]\n",
      "(2, 2)\n"
     ]
    }
   ],
   "source": [
    "\n",
    "print(\"\\n\\nG RANK_4 ---> G2 top 2-qubit gate (mps site 1-2)\")\n",
    "print(\"\\tMPS site 2\")\n",
    "print(mps_sites[2].reshape(4,1))\n",
    "print(mps_sites[2].shape)\n",
    "print(\"\\tG_2 matrix\")\n",
    "print(G_rank4[2])\n",
    "print(G_rank4[2].shape)\n",
    "\n",
    "print(\"\\tCorrenspondence A_2 == G_2[:,:,0,0]\")\n",
    "print(G_rank4[2][:,:,0,0].reshape(4,1))\n",
    "\n",
    "print(\"\\n-------\\n\")\n",
    "print(\"G RANK_4 ---> G1 top 2-qubit gate (mps site 0-1)\")\n",
    "print(\"\\tMPS site 1\")\n",
    "print(mps_sites[1].reshape(8,1))\n",
    "print(\"\\tG_2 matrix\")\n",
    "print(G_rank4[1])\n",
    "print(G_rank4[1].shape)\n",
    "\n",
    "print(\"\\tCorrenspondence A_1 == G_1[:,:,0,:]\")\n",
    "print(G_rank4[1][:,:,0,:].reshape(8,1))\n",
    "\n",
    "\n",
    "print(\"\\n-------\\n\")\n",
    "print(\"G RANK_4 ---> G0 bottom 1-qubit gate\")\n",
    "\n",
    "\n",
    "print(\"\\tCorrenspondence A_0 == G_0\")\n",
    "print(mps_sites[0].reshape(4,1))\n",
    "print(mps_sites[0].shape)\n",
    "print(G_rank4[0].reshape(4,1))\n",
    "print(G_rank4[0].shape)\n"
   ]
  },
  {
   "cell_type": "markdown",
   "metadata": {},
   "source": [
    "CHECK LEFT-CANONICAL CONDITIONS"
   ]
  },
  {
   "cell_type": "code",
   "execution_count": 402,
   "metadata": {},
   "outputs": [
    {
     "name": "stdout",
     "output_type": "stream",
     "text": [
      "[[ 1.00000000e+00 -2.41127129e-18]\n",
      " [-2.41127129e-18  1.00000000e+00]]\n",
      "[[ 1.00000000e+00 -6.74982104e-17]\n",
      " [-6.74982104e-17  1.00000000e+00]]\n",
      "[[1.]]\n"
     ]
    }
   ],
   "source": [
    "for i in mps_sites:\n",
    "    print(ncon([i.conj(),i],[[1,2,-1],[1,2,-2]]))\n",
    "\n"
   ]
  },
  {
   "cell_type": "markdown",
   "metadata": {},
   "source": [
    "CREAZIONE DELL'MPO"
   ]
  },
  {
   "cell_type": "code",
   "execution_count": 474,
   "metadata": {},
   "outputs": [
    {
     "name": "stdout",
     "output_type": "stream",
     "text": [
      "[[ 1.00000000e+00 -2.41127129e-18]\n",
      " [-2.41127129e-18  1.00000000e+00]]\n",
      "[[ 1.00000000e+00 -6.74982104e-17  6.52938606e-17  7.04255474e-17]\n",
      " [-6.74982104e-17  1.00000000e+00 -7.19099542e-17 -8.22917979e-18]\n",
      " [ 6.52938606e-17 -7.19099542e-17  1.00000000e+00 -4.27381525e-17]\n",
      " [ 7.04255474e-17 -8.22917979e-18 -4.27381525e-17  1.00000000e+00]]\n",
      "[[ 1.00000000e+00 -1.36849590e-16  1.70469437e-17  8.82841899e-18]\n",
      " [-1.36849590e-16  1.00000000e+00  2.75486268e-17 -2.15406870e-17]\n",
      " [ 1.70469437e-17  2.75486268e-17  1.00000000e+00 -1.09856465e-17]\n",
      " [ 8.82841899e-18 -2.15406870e-17 -1.09856465e-17  1.00000000e+00]]\n",
      "[[ 1.  0.  0.  0.]\n",
      " [ 0.  1. -0.  0.]\n",
      " [ 0. -0.  1. -0.]\n",
      " [ 0.  0. -0.  1.]]\n",
      "[[[[[0.13425563]\n",
      "    [0.02682572]]\n",
      "\n",
      "   [[0.44968533]\n",
      "    [0.45561805]]]\n",
      "\n",
      "\n",
      "  [[[0.14525098]\n",
      "    [0.64100299]]\n",
      "\n",
      "   [[0.31339964]\n",
      "    [0.20309873]]]]]\n",
      "1.0\n"
     ]
    }
   ],
   "source": [
    "print(ncon([G_rank4[0], G_rank4[0]],[[-1,1],[-2,1]]).reshape(2,2))\n",
    "print(ncon([G_rank4[1], G_rank4[1]],[[1,2,-1,-2],[1,2,-3,-4]]).reshape(4,4))\n",
    "print(ncon([G_rank4[2], G_rank4[2]],[[1,2,-1,-2],[1,2,-3,-4]]).reshape(4,4))\n",
    "\n",
    "print(np.round(ncon([G_rank4[2], G_rank4[2]],[[-1,-2,1,2],[-3,-4,1,2]]).reshape(4,4)))\n",
    "\n",
    "\n",
    "MPO_UU = ncon([G_rank4[2], G_rank4[1], G_rank4[0], G_rank4[0],G_rank4[1], G_rank4[2]],[[-1,-2,1,2],[-3,1,4,5],[4,6],[7,6],[-6,3,7,5],[-4,-5,3,2]])\n",
    "MPO = ncon([G_rank4[2],G_rank4[1],G_rank4[0]],[[-1,-2,-4, 1],[1,-3,-5,2],[2,-6]])\n",
    "\n",
    "\n",
    "zero_state = np.zeros(2**N)\n",
    "zero_state[0] = 1\n",
    "zero_state = zero_state.reshape(2,2,2)\n",
    "print(psi_2)\n",
    "psi_zero_MPO = ncon([zero_state, MPO_UU],[[1,2,3],[1,2,3,-1,-2,-3]])\n",
    "print(psi_zero_MPO[0,0,0])\n"
   ]
  },
  {
   "cell_type": "code",
   "execution_count": 455,
   "metadata": {},
   "outputs": [],
   "source": [
    "G_reshaped = [0 for i in range(0,3)]\n",
    "G_reshaped[0] = mps_sites[0].reshape(2,2)\n",
    "G_reshaped[1] = np.zeros((4,4))#, dtype=complex)\n",
    "G_reshaped[1][0,:] = mps_sites[1].reshape(4,2)[:,0]\n",
    "G_reshaped[1][1,:] = mps_sites[1].reshape(4,2)[:,1]\n",
    "G_reshaped[1][2,:] = NULL[1][:,0]\n",
    "G_reshaped[1][3,:] = NULL[1][:,1]\n",
    "G_reshaped[2] = np.zeros((4,4))#, dtype=complex)\n",
    "G_reshaped[2][0,:] = mps_sites[2].reshape(4,1)[:,0]\n",
    "G_reshaped[2][1,:] = NULL[2][:,0]\n",
    "G_reshaped[2][2,:] = NULL[2][:,1]\n",
    "G_reshaped[2][3,:] = NULL[2][:,2]"
   ]
  },
  {
   "cell_type": "code",
   "execution_count": 456,
   "metadata": {},
   "outputs": [
    {
     "name": "stdout",
     "output_type": "stream",
     "text": [
      "[[ 1.00000000e+00 -1.36849590e-16  1.70469437e-17  8.82841899e-18]\n",
      " [-1.36849590e-16  1.00000000e+00  2.75486268e-17 -2.15406870e-17]\n",
      " [ 1.70469437e-17  2.75486268e-17  1.00000000e+00 -1.09856465e-17]\n",
      " [ 8.82841899e-18 -2.15406870e-17 -1.09856465e-17  1.00000000e+00]]\n"
     ]
    }
   ],
   "source": [
    "print(ncon([G_reshaped[2], G_reshaped[2]],[[-1,1],[-2,1]]))"
   ]
  },
  {
   "cell_type": "code",
   "execution_count": 457,
   "metadata": {},
   "outputs": [
    {
     "name": "stdout",
     "output_type": "stream",
     "text": [
      "[[ 1.00000000e+00 -2.41127129e-18]\n",
      " [-2.41127129e-18  1.00000000e+00]]\n",
      "[[ 1.00000000e+00 -6.74982104e-17  6.52938606e-17  7.04255474e-17]\n",
      " [-6.74982104e-17  1.00000000e+00 -7.19099542e-17 -8.22917979e-18]\n",
      " [ 6.52938606e-17 -7.19099542e-17  1.00000000e+00 -4.27381525e-17]\n",
      " [ 7.04255474e-17 -8.22917979e-18 -4.27381525e-17  1.00000000e+00]]\n",
      "[[ 1.00000000e+00 -1.36849590e-16  1.70469437e-17  8.82841899e-18]\n",
      " [-1.36849590e-16  1.00000000e+00  2.75486268e-17 -2.15406870e-17]\n",
      " [ 1.70469437e-17  2.75486268e-17  1.00000000e+00 -1.09856465e-17]\n",
      " [ 8.82841899e-18 -2.15406870e-17 -1.09856465e-17  1.00000000e+00]]\n"
     ]
    }
   ],
   "source": [
    "print(ncon([G_reshaped[0],G_reshaped[0].conjugate()],[[-1,1],[-2,1]]))\n",
    "print(ncon([G_reshaped[1],G_reshaped[1].conjugate()],[[-1,1],[-2,1]]))\n",
    "print(ncon([G_reshaped[2],G_reshaped[2].conjugate()],[[-1,1],[-2,1]]))"
   ]
  },
  {
   "cell_type": "markdown",
   "metadata": {},
   "source": [
    "CHECK CORRESPONDENCE MPS TENSOR TO G MATRICES"
   ]
  },
  {
   "cell_type": "code",
   "execution_count": 458,
   "metadata": {},
   "outputs": [],
   "source": [
    "A  = [0 for _ in range(N)]\n",
    "for i, tens in enumerate(mps_sites):\n",
    "    A[i] = tens.reshape(tens.shape[0]*tens.shape[1], tens.shape[2])\n",
    "\n",
    "\n"
   ]
  },
  {
   "cell_type": "code",
   "execution_count": 473,
   "metadata": {},
   "outputs": [
    {
     "name": "stdout",
     "output_type": "stream",
     "text": [
      "[ 0.3827689  -0.62179912 -0.68272828 -0.02712786]\n",
      "[ 0.3827689  -0.62179912 -0.68272828 -0.02712786]\n"
     ]
    }
   ],
   "source": []
  },
  {
   "cell_type": "code",
   "execution_count": null,
   "metadata": {},
   "outputs": [],
   "source": []
  }
 ],
 "metadata": {
  "kernelspec": {
   "display_name": "benchmark",
   "language": "python",
   "name": "python3"
  },
  "language_info": {
   "codemirror_mode": {
    "name": "ipython",
    "version": 3
   },
   "file_extension": ".py",
   "mimetype": "text/x-python",
   "name": "python",
   "nbconvert_exporter": "python",
   "pygments_lexer": "ipython3",
   "version": "3.10.9"
  },
  "orig_nbformat": 4
 },
 "nbformat": 4,
 "nbformat_minor": 2
}
